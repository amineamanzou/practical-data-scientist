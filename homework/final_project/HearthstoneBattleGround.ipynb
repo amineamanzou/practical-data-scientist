{
 "cells": [
  {
   "cell_type": "markdown",
   "id": "8044bdfc",
   "metadata": {},
   "source": [
    "# Hearthstone Battleground\n",
    "\n",
    "Hearthstone is a card game that was developped by Blizzard. Classic mode is based on 1V1 duels between two players  with a deck of 30 cards for each ones. The objectif is to summon minnions, spells, traps and many game mechanics on the board to attack the other player untils he runs out of HP.\n",
    "\n",
    "Battleground mode was developped in the last two years with a particular set of rules. The game concern 8 players and the objective is to select and develop a set of minnions that will duel every round a random player of the group. If your minions survive the total cost of these minion will be the damage that will take your loosing opponent. The game mode articulate in rounds and the last one standing win the game.\n",
    "\n",
    "The dataset that will be used on this project can be found in : \n",
    "https://api.hearthstonejson.com/v1/\n",
    "\n",
    "Github : https://github.com/HearthSim/hsdata\n"
   ]
  },
  {
   "cell_type": "markdown",
   "id": "2dc9fc32",
   "metadata": {},
   "source": [
    "## Introduction\n",
    "\n"
   ]
  },
  {
   "cell_type": "markdown",
   "id": "30c59f07",
   "metadata": {},
   "source": []
  },
  {
   "cell_type": "markdown",
   "id": "b4acfd1f",
   "metadata": {},
   "source": [
    "## Data Exploration"
   ]
  },
  {
   "cell_type": "markdown",
   "id": "45fcd230",
   "metadata": {},
   "source": [
    "Let's start first by gathering data and card images on local folders using Hearthstonejson API."
   ]
  },
  {
   "cell_type": "code",
   "execution_count": 2,
   "id": "983b1d37",
   "metadata": {},
   "outputs": [
    {
     "name": "stderr",
     "output_type": "stream",
     "text": [
      "/Users/amine/.local/share/virtualenvs/practical-data-scientist-umj5maBJ-python/lib/python3.9/site-packages/pandas/compat/__init__.py:109: UserWarning: Could not import the lzma module. Your installed Python is incomplete. Attempting to use lzma compression will result in a RuntimeError.\n",
      "  warnings.warn(msg)\n"
     ]
    }
   ],
   "source": [
    "import requests\n",
    "import os\n",
    "import json\n",
    "from os import path\n",
    "import errno\n",
    "import pandas as pd\n",
    "\n",
    "if (path.exists('./data_json/cards.json') == False) :\n",
    "    resp = requests.get('https://api.hearthstonejson.com/v1/86601/enUS/cards.json')\n",
    "    data = resp.json()\n",
    "\n",
    "    try :\n",
    "        os.mkdir('./data_json')\n",
    "    except OSError as exception:\n",
    "        if exception.errno != errno.EEXIST:\n",
    "            raise\n",
    "\n",
    "    with open('./data_json/cards.json', 'w') as f:\n",
    "        json.dump(data, f)\n",
    "    f\"Data downloaded to card.json !\"\n",
    "else :\n",
    "    f\"Data already downloaded !\""
   ]
  },
  {
   "cell_type": "markdown",
   "id": "a5c9b3f4",
   "metadata": {},
   "source": [
    "Let's get a preview of the data :"
   ]
  },
  {
   "cell_type": "code",
   "execution_count": 3,
   "id": "4873585b",
   "metadata": {},
   "outputs": [
    {
     "data": {
      "text/html": [
       "<div>\n",
       "<style scoped>\n",
       "    .dataframe tbody tr th:only-of-type {\n",
       "        vertical-align: middle;\n",
       "    }\n",
       "\n",
       "    .dataframe tbody tr th {\n",
       "        vertical-align: top;\n",
       "    }\n",
       "\n",
       "    .dataframe thead th {\n",
       "        text-align: right;\n",
       "    }\n",
       "</style>\n",
       "<table border=\"1\" class=\"dataframe\">\n",
       "  <thead>\n",
       "    <tr style=\"text-align: right;\">\n",
       "      <th></th>\n",
       "      <th>attack</th>\n",
       "      <th>cardClass</th>\n",
       "      <th>cost</th>\n",
       "      <th>dbfId</th>\n",
       "      <th>faction</th>\n",
       "      <th>health</th>\n",
       "      <th>id</th>\n",
       "      <th>name</th>\n",
       "      <th>rarity</th>\n",
       "      <th>set</th>\n",
       "      <th>...</th>\n",
       "      <th>hideCost</th>\n",
       "      <th>hideStats</th>\n",
       "      <th>techLevel</th>\n",
       "      <th>battlegroundsNormalDbfId</th>\n",
       "      <th>battlegroundsHero</th>\n",
       "      <th>armor</th>\n",
       "      <th>classes</th>\n",
       "      <th>puzzleType</th>\n",
       "      <th>multiClassGroup</th>\n",
       "      <th>questReward</th>\n",
       "    </tr>\n",
       "  </thead>\n",
       "  <tbody>\n",
       "    <tr>\n",
       "      <th>0</th>\n",
       "      <td>0.0</td>\n",
       "      <td>NEUTRAL</td>\n",
       "      <td>0.0</td>\n",
       "      <td>52424</td>\n",
       "      <td>ALLIANCE</td>\n",
       "      <td>0.0</td>\n",
       "      <td>ART_BOT_Bundle_001</td>\n",
       "      <td>Golden Legendary</td>\n",
       "      <td>LEGENDARY</td>\n",
       "      <td>TB</td>\n",
       "      <td>...</td>\n",
       "      <td>NaN</td>\n",
       "      <td>NaN</td>\n",
       "      <td>NaN</td>\n",
       "      <td>NaN</td>\n",
       "      <td>NaN</td>\n",
       "      <td>NaN</td>\n",
       "      <td>NaN</td>\n",
       "      <td>NaN</td>\n",
       "      <td>NaN</td>\n",
       "      <td>NaN</td>\n",
       "    </tr>\n",
       "    <tr>\n",
       "      <th>1</th>\n",
       "      <td>NaN</td>\n",
       "      <td>MAGE</td>\n",
       "      <td>5.0</td>\n",
       "      <td>2539</td>\n",
       "      <td>NaN</td>\n",
       "      <td>NaN</td>\n",
       "      <td>AT_001</td>\n",
       "      <td>Flame Lance</td>\n",
       "      <td>COMMON</td>\n",
       "      <td>TGT</td>\n",
       "      <td>...</td>\n",
       "      <td>NaN</td>\n",
       "      <td>NaN</td>\n",
       "      <td>NaN</td>\n",
       "      <td>NaN</td>\n",
       "      <td>NaN</td>\n",
       "      <td>NaN</td>\n",
       "      <td>NaN</td>\n",
       "      <td>NaN</td>\n",
       "      <td>NaN</td>\n",
       "      <td>NaN</td>\n",
       "    </tr>\n",
       "    <tr>\n",
       "      <th>2</th>\n",
       "      <td>NaN</td>\n",
       "      <td>MAGE</td>\n",
       "      <td>3.0</td>\n",
       "      <td>2541</td>\n",
       "      <td>NaN</td>\n",
       "      <td>NaN</td>\n",
       "      <td>AT_002</td>\n",
       "      <td>Effigy</td>\n",
       "      <td>RARE</td>\n",
       "      <td>TGT</td>\n",
       "      <td>...</td>\n",
       "      <td>NaN</td>\n",
       "      <td>NaN</td>\n",
       "      <td>NaN</td>\n",
       "      <td>NaN</td>\n",
       "      <td>NaN</td>\n",
       "      <td>NaN</td>\n",
       "      <td>NaN</td>\n",
       "      <td>NaN</td>\n",
       "      <td>NaN</td>\n",
       "      <td>NaN</td>\n",
       "    </tr>\n",
       "    <tr>\n",
       "      <th>3</th>\n",
       "      <td>3.0</td>\n",
       "      <td>MAGE</td>\n",
       "      <td>2.0</td>\n",
       "      <td>2545</td>\n",
       "      <td>NaN</td>\n",
       "      <td>2.0</td>\n",
       "      <td>AT_003</td>\n",
       "      <td>Fallen Hero</td>\n",
       "      <td>RARE</td>\n",
       "      <td>TGT</td>\n",
       "      <td>...</td>\n",
       "      <td>NaN</td>\n",
       "      <td>NaN</td>\n",
       "      <td>NaN</td>\n",
       "      <td>NaN</td>\n",
       "      <td>NaN</td>\n",
       "      <td>NaN</td>\n",
       "      <td>NaN</td>\n",
       "      <td>NaN</td>\n",
       "      <td>NaN</td>\n",
       "      <td>NaN</td>\n",
       "    </tr>\n",
       "    <tr>\n",
       "      <th>4</th>\n",
       "      <td>NaN</td>\n",
       "      <td>MAGE</td>\n",
       "      <td>1.0</td>\n",
       "      <td>2572</td>\n",
       "      <td>NaN</td>\n",
       "      <td>NaN</td>\n",
       "      <td>AT_004</td>\n",
       "      <td>Arcane Blast</td>\n",
       "      <td>EPIC</td>\n",
       "      <td>TGT</td>\n",
       "      <td>...</td>\n",
       "      <td>NaN</td>\n",
       "      <td>NaN</td>\n",
       "      <td>NaN</td>\n",
       "      <td>NaN</td>\n",
       "      <td>NaN</td>\n",
       "      <td>NaN</td>\n",
       "      <td>NaN</td>\n",
       "      <td>NaN</td>\n",
       "      <td>NaN</td>\n",
       "      <td>NaN</td>\n",
       "    </tr>\n",
       "  </tbody>\n",
       "</table>\n",
       "<p>5 rows × 38 columns</p>\n",
       "</div>"
      ],
      "text/plain": [
       "   attack cardClass  cost  dbfId   faction  health                  id  \\\n",
       "0     0.0   NEUTRAL   0.0  52424  ALLIANCE     0.0  ART_BOT_Bundle_001   \n",
       "1     NaN      MAGE   5.0   2539       NaN     NaN              AT_001   \n",
       "2     NaN      MAGE   3.0   2541       NaN     NaN              AT_002   \n",
       "3     3.0      MAGE   2.0   2545       NaN     2.0              AT_003   \n",
       "4     NaN      MAGE   1.0   2572       NaN     NaN              AT_004   \n",
       "\n",
       "               name     rarity  set  ... hideCost hideStats  techLevel  \\\n",
       "0  Golden Legendary  LEGENDARY   TB  ...      NaN       NaN        NaN   \n",
       "1       Flame Lance     COMMON  TGT  ...      NaN       NaN        NaN   \n",
       "2            Effigy       RARE  TGT  ...      NaN       NaN        NaN   \n",
       "3       Fallen Hero       RARE  TGT  ...      NaN       NaN        NaN   \n",
       "4      Arcane Blast       EPIC  TGT  ...      NaN       NaN        NaN   \n",
       "\n",
       "  battlegroundsNormalDbfId battlegroundsHero armor classes puzzleType  \\\n",
       "0                      NaN               NaN   NaN     NaN        NaN   \n",
       "1                      NaN               NaN   NaN     NaN        NaN   \n",
       "2                      NaN               NaN   NaN     NaN        NaN   \n",
       "3                      NaN               NaN   NaN     NaN        NaN   \n",
       "4                      NaN               NaN   NaN     NaN        NaN   \n",
       "\n",
       "  multiClassGroup  questReward  \n",
       "0             NaN          NaN  \n",
       "1             NaN          NaN  \n",
       "2             NaN          NaN  \n",
       "3             NaN          NaN  \n",
       "4             NaN          NaN  \n",
       "\n",
       "[5 rows x 38 columns]"
      ]
     },
     "execution_count": 3,
     "metadata": {},
     "output_type": "execute_result"
    }
   ],
   "source": [
    "df = pd.read_json('./data_json/cards.json')\n",
    "df.head()\n"
   ]
  },
  {
   "cell_type": "code",
   "execution_count": 4,
   "id": "e04d7eb9",
   "metadata": {},
   "outputs": [],
   "source": [
    "df_bg = df.loc[(df['set'] == 'BATTLEGROUNDS')]\n",
    "df_hero = df.loc[(df['set'] == 'BATTLEGROUNDS') & (df['battlegroundsHero'] == 1.0)]\n",
    "df_minnion = df.loc[(df['set'] == 'BATTLEGROUNDS') & (df['techLevel'] >= 1.0)]"
   ]
  },
  {
   "cell_type": "code",
   "execution_count": 31,
   "id": "40b7974c",
   "metadata": {},
   "outputs": [],
   "source": [
    "if (path.exists('./cards_images') == False || path.exists('./cards_arts') == False) :\n",
    "    try :\n",
    "        os.mkdir('./cards_images')\n",
    "        os.mkdir('./cards_arts')\n",
    "    except OSError as exception:\n",
    "        if exception.errno != errno.EEXIST:\n",
    "            raise   \n",
    "    f\"Folder cards_images created.\"\n",
    "else :\n",
    "    f\"Folder already exist !\""
   ]
  },
  {
   "cell_type": "code",
   "execution_count": 10,
   "id": "12690de4",
   "metadata": {},
   "outputs": [],
   "source": [
    "import shutil\n",
    "\n",
    "def download_image(base_url, card_id, folder, extension):\n",
    "    filename = \"./\"+ folder + \"/\" + card_id + extension\n",
    "    resp = requests.get(base_url + card_id + extension, stream=True)\n",
    "    if resp.status_code == 200:\n",
    "        resp.raw.decode_content = True\n",
    "        with open(filename,'wb') as f:\n",
    "            shutil.copyfileobj(resp.raw, f)\n",
    "        return True\n",
    "    else:\n",
    "        return False"
   ]
  },
  {
   "cell_type": "code",
   "execution_count": 45,
   "id": "abee815e",
   "metadata": {},
   "outputs": [
    {
     "data": {
      "text/plain": [
       "'Data downloaded to cards_images local folder : 467 successfull, 252 failed'"
      ]
     },
     "execution_count": 45,
     "metadata": {},
     "output_type": "execute_result"
    }
   ],
   "source": [
    "base_url = 'https://art.hearthstonejson.com/v1/render/latest/enUS/512x/'\n",
    "folder = 'cards_images'\n",
    "extension = '.png'\n",
    "success, failed = 0, 0\n",
    "for card_id in df_bg['id']:\n",
    "    result = download_image(base_url, card_id, folder, extension)\n",
    "    if(result):\n",
    "        success+=1\n",
    "    else:\n",
    "        failed+=1\n",
    "\n",
    "f\"Data downloaded to { folder } local folder : { success } successfull, { failed } failed\"\n"
   ]
  },
  {
   "cell_type": "code",
   "execution_count": 11,
   "id": "9f246373",
   "metadata": {},
   "outputs": [
    {
     "data": {
      "text/plain": [
       "'Data downloaded to cards_arts local folder : 556 successfull, 163 failed'"
      ]
     },
     "execution_count": 11,
     "metadata": {},
     "output_type": "execute_result"
    }
   ],
   "source": [
    "base_url = 'https://art.hearthstonejson.com/v1/512x/'\n",
    "folder = 'cards_arts'\n",
    "extension = '.jpg'\n",
    "success, failed = 0, 0\n",
    "for card_id in df_bg['id']:\n",
    "    result = download_image(base_url, card_id, folder, extension)\n",
    "    if(result):\n",
    "        success+=1\n",
    "    else:\n",
    "        failed+=1\n",
    "\n",
    "f\"Data downloaded to { folder } local folder : { success } successfull, { failed } failed\""
   ]
  },
  {
   "cell_type": "markdown",
   "id": "42787ff4",
   "metadata": {},
   "source": [
    "## Data Munging"
   ]
  },
  {
   "cell_type": "code",
   "execution_count": 14,
   "id": "3081d471",
   "metadata": {},
   "outputs": [
    {
     "data": {
      "text/plain": [
       "attack                                                                     4.0\n",
       "cardClass                                                              NEUTRAL\n",
       "cost                                                                       5.0\n",
       "dbfId                                                                    65662\n",
       "faction                                                                    NaN\n",
       "health                                                                     4.0\n",
       "id                                                                     BGS_202\n",
       "name                                                     Mythrax the Unraveler\n",
       "rarity                                                                     NaN\n",
       "set                                                              BATTLEGROUNDS\n",
       "type                                                                    MINION\n",
       "artist                                                                     NaN\n",
       "collectible                                                                NaN\n",
       "flavor                                                                     NaN\n",
       "spellSchool                                                                NaN\n",
       "text                         [x]At the end of your turn,\\ngain +1/+2 for ea...\n",
       "mechanics                                                     [TRIGGER_VISUAL]\n",
       "referencedTags                                                             NaN\n",
       "race                                                                       NaN\n",
       "elite                                                                      1.0\n",
       "targetingArrowText                                                         NaN\n",
       "durability                                                                 NaN\n",
       "overload                                                                   NaN\n",
       "spellDamage                                                                NaN\n",
       "battlegroundsPremiumDbfId                                              65671.0\n",
       "collectionText                                                             NaN\n",
       "howToEarnGolden                                                            NaN\n",
       "howToEarn                                                                  NaN\n",
       "hideCost                                                                   NaN\n",
       "hideStats                                                                  NaN\n",
       "techLevel                                                                  5.0\n",
       "battlegroundsNormalDbfId                                                   NaN\n",
       "battlegroundsHero                                                          NaN\n",
       "armor                                                                      NaN\n",
       "classes                                                                    NaN\n",
       "puzzleType                                                                 NaN\n",
       "multiClassGroup                                                            NaN\n",
       "questReward                                                                NaN\n",
       "Name: 821, dtype: object"
      ]
     },
     "execution_count": 14,
     "metadata": {},
     "output_type": "execute_result"
    }
   ],
   "source": [
    "df_minnion.loc[821]"
   ]
  },
  {
   "cell_type": "markdown",
   "id": "41a6b5c5",
   "metadata": {},
   "source": [
    "## Experiments"
   ]
  },
  {
   "cell_type": "markdown",
   "id": "1f9206e2",
   "metadata": {},
   "source": [
    "## Analysis & Discussion"
   ]
  },
  {
   "cell_type": "markdown",
   "id": "18571216",
   "metadata": {},
   "source": [
    "## Conclusion"
   ]
  },
  {
   "cell_type": "code",
   "execution_count": null,
   "id": "720a568c",
   "metadata": {},
   "outputs": [],
   "source": []
  }
 ],
 "metadata": {
  "kernelspec": {
   "display_name": "Python 3",
   "language": "python",
   "name": "python3"
  },
  "language_info": {
   "codemirror_mode": {
    "name": "ipython",
    "version": 3
   },
   "file_extension": ".py",
   "mimetype": "text/x-python",
   "name": "python",
   "nbconvert_exporter": "python",
   "pygments_lexer": "ipython3",
   "version": "3.9.2"
  }
 },
 "nbformat": 4,
 "nbformat_minor": 5
}

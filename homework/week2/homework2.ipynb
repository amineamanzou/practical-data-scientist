{
 "cells": [
  {
   "cell_type": "markdown",
   "metadata": {},
   "source": [
    "# Homework 2\n",
    "\n",
    "ϞϞ(๑⚈ ․̫ ⚈๑)\n",
    "\n",
    "The latest pokedex update added a cool new feature: the `Last Seen` column, which tells us when we last encountered each pokemon. We want to analyse our historical data to better understand how to catch them all!\n",
    "\n",
    "The data can be found under `pokedex_v2/pokemons.csv`, and is the same as homework 1 (with the added column)."
   ]
  },
  {
   "cell_type": "markdown",
   "metadata": {},
   "source": [
    "## Problem 1 \n",
    "\n",
    "Since we want to analyse historical data, let's work in the time domain. We want a sorted log of all our last pokemon encounters, indexed by time of last encounter.\n",
    "\n",
    "💪 **Task: Load the DataFrame in a variable called `df`, index the DataFrame by `Last Seen` timestamps, then sort the DataFrame in chronological order.**\n",
    "\n",
    "Pro-tips: \n",
    "* revisit the [`.read_csv()`](https://pandas.pydata.org/pandas-docs/stable/reference/api/pandas.read_csv.html) documentation to understand how to parse dates correctly.\n",
    "* remember to update the `df` variable everytime you modify it"
   ]
  },
  {
   "cell_type": "code",
   "execution_count": null,
   "metadata": {},
   "outputs": [],
   "source": [
    "# INSERT YOUR CODE HERE"
   ]
  },
  {
   "cell_type": "code",
   "execution_count": null,
   "metadata": {},
   "outputs": [],
   "source": [
    "def test_load_df():\n",
    "    assert'df' in globals(), \"DataFrame wasn't loaded in variable df\"\n",
    "    print('Success! 🎉')\n",
    "    \n",
    "def test_time_index():\n",
    "    assert type(df.index) == pd.core.indexes.datetimes.DatetimeIndex, f\"Expected DataFrame index type to be DatetimeIndex, but got {type(df.index)}\"\n",
    "    max_ts = pd.Timestamp(\"2021-01-06 08:00:00\")\n",
    "    assert df.index.max() == max_ts, f\"Expected max timestamp in index to be {max_ts}, but got {df.index.max()}\"\n",
    "    print('Success! 🎉')\n",
    "    \n",
    "def test_sorted_index():\n",
    "    assert df.index.is_monotonic_increasing, \"Expected time index to be sorted by chronological order\"\n",
    "    print('Success! 🎉')\n",
    "    \n",
    "test_load_df()\n",
    "test_time_index()\n",
    "test_sorted_index()"
   ]
  },
  {
   "cell_type": "markdown",
   "metadata": {},
   "source": [
    "## Problem 2\n",
    "\n",
    "Oh dear, Misty recently borrowed our pokedex, and now we can't tell which pokemons were found by whom!\n",
    "\n",
    "💪 **Task: Add a `Trainer` column, with value `Misty` for pokemons `Last Seen` in July 2020, and value `Me` for the rest.**\n",
    "\n",
    "Pro-tip: make sure you update the `df` object!"
   ]
  },
  {
   "cell_type": "code",
   "execution_count": null,
   "metadata": {},
   "outputs": [],
   "source": [
    "# INSERT YOUR CODE HERE"
   ]
  },
  {
   "cell_type": "code",
   "execution_count": null,
   "metadata": {},
   "outputs": [],
   "source": [
    "def test_trainer_column():\n",
    "    assert \"Trainer\" in df.columns, \"Can't find column 'Trainer'\"\n",
    "    print('Success! 🎉')\n",
    "    \n",
    "def test_misty_fix():\n",
    "    na_count = (df[\"Trainer\"] == \"Misty\").sum()\n",
    "    assert na_count == 86, f\"Misty should have seen 86 pokemons, but she has seen {na_count}\" \n",
    "    print('Success! 🎉')\n",
    "    \n",
    "test_trainer_column()\n",
    "test_misty_fix()"
   ]
  },
  {
   "cell_type": "markdown",
   "metadata": {},
   "source": [
    "## Problem 3\n",
    "\n",
    "The most exciting part of going on trainer adventures is coming across powerful pokemons 💪. We remember some weeks where we met very strong pokemon, and some that were more quiet. We want to visualise this by tracking the `Total` characteristic of the most powerful pokemon we met in the last 7 days.\n",
    "\n",
    "💪 **Task: Calculate a max rolling statistic for the `Total` variable with window size of 7 days. Store it in a Series called `rolling_max_total`.**\n",
    "\n",
    "Pro-tip: revisit the [`.rolling`] documentation to understand the difference between windows defined by number of steps, and windows defined by amount of time.\n"
   ]
  },
  {
   "cell_type": "code",
   "execution_count": null,
   "metadata": {},
   "outputs": [],
   "source": [
    "# INSERT YOUR CODE HERE"
   ]
  },
  {
   "cell_type": "code",
   "execution_count": null,
   "metadata": {},
   "outputs": [],
   "source": [
    "def test_rolling_max_total():\n",
    "    assert'rolling_max_total' in globals(), \"Can't find variable rolling_max_total\"\n",
    "    assert type(rolling_max_total) == pd.Series, f\"Expected `rolling_max_total` to be a Series object, but got {type(rolling_max_total)}\"\n",
    "    assert type(rolling_max_total.index) == pd.core.indexes.datetimes.DatetimeIndex, f\"Expected DataFrame index type to be DatetimeIndex, but got {type(rolling_max_total.index)}\"\n",
    "    assert len(rolling_max_total) == 800, f\"Expected length of rolling_max_total to be 800, but got {len(rolling_max_total)}\"\n",
    "    assert rolling_max_total.sum() == 532758, f\"Expected sum of rolling_max_total to be 4444, but got {rolling_max_total.sum()}\"\n",
    "    print('Success! 🎉')\n",
    "\n",
    "test_rolling_max_total()"
   ]
  },
  {
   "cell_type": "markdown",
   "metadata": {},
   "source": [
    "💪 **Task: Visualise this rolling statistic through time.**\n",
    "\n",
    "The code cell below should return the graph:\n",
    "\n",
    "\n",
    "Pro-tip: pimp up your graph!"
   ]
  },
  {
   "cell_type": "code",
   "execution_count": null,
   "metadata": {},
   "outputs": [],
   "source": [
    "# INSERT YOUR CODE HERE"
   ]
  },
  {
   "cell_type": "markdown",
   "metadata": {},
   "source": [
    "🧠 **Question: Do you have an idea why the graph looks different between March and May?**"
   ]
  },
  {
   "cell_type": "markdown",
   "metadata": {},
   "source": [
    "## Problem 4\n",
    "\n",
    "We started our journey a while ago, and have explored 6 entire generations of Pokemon. We'd like to visualise this journey by plotting a _histogram_ of our last pokemon encounters, grouped by `Generation`.\n",
    "\n",
    "💪💪 **Task: Plot a histogram of pokemon encounters through time grouped by `Generation`.**\n",
    "\n",
    "Pro-tips:\n",
    "* The x-axis should be time.\n",
    "* Each group should be represented with a different visual encoding\n",
    "* check out [.hist()](https://matplotlib.org/stable/api/_as_gen/matplotlib.pyplot.hist.html#matplotlib.pyplot.hist)\n",
    "* pimp up your graph!\n",
    "\n",
    "The graph should be displayed by the code cell below:"
   ]
  },
  {
   "cell_type": "code",
   "execution_count": null,
   "metadata": {},
   "outputs": [],
   "source": [
    "# INSERT YOUR CODE HERE"
   ]
  },
  {
   "cell_type": "markdown",
   "metadata": {},
   "source": [
    "## Problem 5\n",
    "\n",
    "Our pokedex updated its database with new pokemon pictures... but accidentally flipped all of them upside down! Let's fix this:\n",
    "\n",
    "💪💪 **Task: Iterate through the pokemon images in the `images` directory, flip them the right side up, then save them in the directory called `images_flipped`.**\n",
    "\n",
    "Pro-tips:\n",
    "* to iterate through system files in python, check out [`glob`](https://docs.python.org/3/library/glob.html)\n",
    "* [`os.path`](https://docs.python.org/3/library/os.path.html) has some great filename utilities\n"
   ]
  },
  {
   "cell_type": "code",
   "execution_count": null,
   "metadata": {},
   "outputs": [],
   "source": [
    "# INSERT YOUR CODE HERE"
   ]
  },
  {
   "cell_type": "code",
   "execution_count": null,
   "metadata": {},
   "outputs": [],
   "source": [
    "from PIL import Image\n",
    "\n",
    "def test_image_flip():\n",
    "    image = Image.open(\"images_flipped/17.png\")\n",
    "    pixel = image.getpixel((143, 125))\n",
    "    expected_pixel = (200, 188, 151, 255)\n",
    "    assert pixel == expected_pixel, f'Image 43.png not flipped. Expected values {expected_pixel} at pixel (143, 125), but got {pixel}'\n",
    "    print('Success! 🎉')\n",
    "\n",
    "\n",
    "test_image_flip()"
   ]
  },
  {
   "cell_type": "markdown",
   "metadata": {},
   "source": [
    "## Problem 6\n",
    "\n",
    "Flipping through those Pokemon images got us nostalgic, so we listen to the Pokemon theme tune. We marvel at the simple and effective linguistic construction of this poetic masterpiece: verbs are often repeated in the lyrics to emphasize the importance of our Pokemon trainer mission. What is the verb that is most often repeated?\n",
    "\n",
    "💪  **Task: Open the `lyrics.txt` file, and analyse it with `spacy`'s english `nlp` model. Store the result in a variable called `doc`.**\n",
    "\n",
    "Pro-tip: You might need to download the spacy model just like we did in lecture 2.2."
   ]
  },
  {
   "cell_type": "code",
   "execution_count": null,
   "metadata": {},
   "outputs": [],
   "source": [
    "# INSERT YOUR CODE HERE"
   ]
  },
  {
   "cell_type": "code",
   "execution_count": null,
   "metadata": {},
   "outputs": [],
   "source": [
    "def test_doc():\n",
    "    assert \"doc\" in globals(), \"Couldn't find a variable called doc\"\n",
    "    assert len(doc) == 388, f\"Expected 388 tokens in doc, but got {len(doc)}\"\n",
    "    print('Success! 🎉')\n",
    "    \n",
    "test_doc()"
   ]
  },
  {
   "cell_type": "markdown",
   "metadata": {},
   "source": [
    "💪💪 **Task: Find the most common verb in `doc`**\n",
    "\n",
    "The code cell below should print out the most common verb:\n",
    "\n",
    "Pro-tips:\n",
    "* \"VERB\" is a [_part of speech_](https://spacy.io/usage/linguistic-features#pos-tagging), which you can directly check on tokens.\n",
    "* using [_lemmas_](https://spacy.io/usage/linguistic-features#lemmatization) instead of raw token text allows to normalise variations (like verb conjugations)\n",
    "* [`Counter`](https://pymotw.com/2/collections/counter.html) is an easy way to count repeated elements in collections."
   ]
  },
  {
   "cell_type": "code",
   "execution_count": null,
   "metadata": {},
   "outputs": [],
   "source": [
    "# INSERT YOUR CODE HERE"
   ]
  },
  {
   "cell_type": "markdown",
   "metadata": {},
   "source": [
    "💪💪 **Bonus Task: Visualise the distribution of verb counts in the lyrics.**\n",
    "\n",
    "Pro-tip: check out [data to viz](https://www.data-to-viz.com/) to pick the most effective chart type."
   ]
  }
 ],
 "metadata": {
  "kernelspec": {
   "display_name": "Python 3",
   "language": "python",
   "name": "python3"
  },
  "language_info": {
   "codemirror_mode": {
    "name": "ipython",
    "version": 3
   },
   "file_extension": ".py",
   "mimetype": "text/x-python",
   "name": "python",
   "nbconvert_exporter": "python",
   "pygments_lexer": "ipython3",
   "version": "3.9.1"
  }
 },
 "nbformat": 4,
 "nbformat_minor": 4
}

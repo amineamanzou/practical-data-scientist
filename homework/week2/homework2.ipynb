{
 "cells": [
  {
   "cell_type": "markdown",
   "metadata": {},
   "source": [
    "# Homework 2\n",
    "\n",
    "ϞϞ(๑⚈ ․̫ ⚈๑)\n",
    "\n",
    "The latest pokedex update added a cool new feature: the `Last Seen` column, which tells us when we last encountered each pokemon. We want to analyse our historical data to better understand how to catch them all!\n",
    "\n",
    "The data can be found under `pokedex_v2/pokemons.csv`, and is the same as homework 1 (with the added column)."
   ]
  },
  {
   "cell_type": "markdown",
   "metadata": {},
   "source": [
    "## Problem 1 \n",
    "\n",
    "Since we want to analyse historical data, let's work in the time domain. We want a sorted log of all our last pokemon encounters, indexed by time of last encounter.\n",
    "\n",
    "💪 **Task: Load the DataFrame in a variable called `df`, index the DataFrame by `Last Seen` timestamps, then sort the DataFrame in chronological order.**\n",
    "\n",
    "Pro-tips: \n",
    "* revisit the [`.read_csv()`](https://pandas.pydata.org/pandas-docs/stable/reference/api/pandas.read_csv.html) documentation to understand how to parse dates correctly.\n",
    "* remember to update the `df` variable everytime you modify it"
   ]
  },
  {
   "cell_type": "code",
   "execution_count": 1,
   "metadata": {},
   "outputs": [
    {
     "name": "stderr",
     "output_type": "stream",
     "text": [
      "/Users/amine/.local/share/virtualenvs/practical-data-scientist-umj5maBJ-python/lib/python3.9/site-packages/pandas/compat/__init__.py:97: UserWarning: Could not import the lzma module. Your installed Python is incomplete. Attempting to use lzma compression will result in a RuntimeError.\n",
      "  warnings.warn(msg)\n"
     ]
    },
    {
     "data": {
      "text/html": [
       "<div>\n",
       "<style scoped>\n",
       "    .dataframe tbody tr th:only-of-type {\n",
       "        vertical-align: middle;\n",
       "    }\n",
       "\n",
       "    .dataframe tbody tr th {\n",
       "        vertical-align: top;\n",
       "    }\n",
       "\n",
       "    .dataframe thead th {\n",
       "        text-align: right;\n",
       "    }\n",
       "</style>\n",
       "<table border=\"1\" class=\"dataframe\">\n",
       "  <thead>\n",
       "    <tr style=\"text-align: right;\">\n",
       "      <th></th>\n",
       "      <th>Unnamed: 0</th>\n",
       "      <th>#</th>\n",
       "      <th>Name</th>\n",
       "      <th>Type 1</th>\n",
       "      <th>Type 2</th>\n",
       "      <th>Total</th>\n",
       "      <th>HP</th>\n",
       "      <th>Attack</th>\n",
       "      <th>Defense</th>\n",
       "      <th>Sp. Atk</th>\n",
       "      <th>Sp. Def</th>\n",
       "      <th>Speed</th>\n",
       "      <th>Generation</th>\n",
       "      <th>Legendary</th>\n",
       "    </tr>\n",
       "    <tr>\n",
       "      <th>Last Seen</th>\n",
       "      <th></th>\n",
       "      <th></th>\n",
       "      <th></th>\n",
       "      <th></th>\n",
       "      <th></th>\n",
       "      <th></th>\n",
       "      <th></th>\n",
       "      <th></th>\n",
       "      <th></th>\n",
       "      <th></th>\n",
       "      <th></th>\n",
       "      <th></th>\n",
       "      <th></th>\n",
       "      <th></th>\n",
       "    </tr>\n",
       "  </thead>\n",
       "  <tbody>\n",
       "    <tr>\n",
       "      <th>2019-12-29 23:00:00</th>\n",
       "      <td>26</td>\n",
       "      <td>21</td>\n",
       "      <td>Spearow</td>\n",
       "      <td>Normal</td>\n",
       "      <td>Flying</td>\n",
       "      <td>262</td>\n",
       "      <td>40</td>\n",
       "      <td>60</td>\n",
       "      <td>30</td>\n",
       "      <td>31</td>\n",
       "      <td>31</td>\n",
       "      <td>70</td>\n",
       "      <td>1</td>\n",
       "      <td>False</td>\n",
       "    </tr>\n",
       "    <tr>\n",
       "      <th>2020-01-01 17:00:00</th>\n",
       "      <td>36</td>\n",
       "      <td>31</td>\n",
       "      <td>Nidoqueen</td>\n",
       "      <td>Poison</td>\n",
       "      <td>Ground</td>\n",
       "      <td>505</td>\n",
       "      <td>90</td>\n",
       "      <td>92</td>\n",
       "      <td>87</td>\n",
       "      <td>75</td>\n",
       "      <td>85</td>\n",
       "      <td>76</td>\n",
       "      <td>1</td>\n",
       "      <td>False</td>\n",
       "    </tr>\n",
       "    <tr>\n",
       "      <th>2020-01-02 06:00:00</th>\n",
       "      <td>144</td>\n",
       "      <td>133</td>\n",
       "      <td>Eevee</td>\n",
       "      <td>Normal</td>\n",
       "      <td>NaN</td>\n",
       "      <td>325</td>\n",
       "      <td>55</td>\n",
       "      <td>55</td>\n",
       "      <td>50</td>\n",
       "      <td>45</td>\n",
       "      <td>65</td>\n",
       "      <td>55</td>\n",
       "      <td>1</td>\n",
       "      <td>False</td>\n",
       "    </tr>\n",
       "    <tr>\n",
       "      <th>2020-01-03 00:00:00</th>\n",
       "      <td>94</td>\n",
       "      <td>87</td>\n",
       "      <td>Dewgong</td>\n",
       "      <td>Water</td>\n",
       "      <td>Ice</td>\n",
       "      <td>475</td>\n",
       "      <td>90</td>\n",
       "      <td>70</td>\n",
       "      <td>80</td>\n",
       "      <td>70</td>\n",
       "      <td>95</td>\n",
       "      <td>70</td>\n",
       "      <td>1</td>\n",
       "      <td>False</td>\n",
       "    </tr>\n",
       "    <tr>\n",
       "      <th>2020-01-08 08:00:00</th>\n",
       "      <td>141</td>\n",
       "      <td>130</td>\n",
       "      <td>GyaradosMega Gyarados</td>\n",
       "      <td>Water</td>\n",
       "      <td>Dark</td>\n",
       "      <td>640</td>\n",
       "      <td>95</td>\n",
       "      <td>155</td>\n",
       "      <td>109</td>\n",
       "      <td>70</td>\n",
       "      <td>130</td>\n",
       "      <td>81</td>\n",
       "      <td>1</td>\n",
       "      <td>False</td>\n",
       "    </tr>\n",
       "  </tbody>\n",
       "</table>\n",
       "</div>"
      ],
      "text/plain": [
       "                     Unnamed: 0    #                   Name  Type 1  Type 2  \\\n",
       "Last Seen                                                                     \n",
       "2019-12-29 23:00:00          26   21                Spearow  Normal  Flying   \n",
       "2020-01-01 17:00:00          36   31              Nidoqueen  Poison  Ground   \n",
       "2020-01-02 06:00:00         144  133                  Eevee  Normal     NaN   \n",
       "2020-01-03 00:00:00          94   87                Dewgong   Water     Ice   \n",
       "2020-01-08 08:00:00         141  130  GyaradosMega Gyarados   Water    Dark   \n",
       "\n",
       "                     Total  HP  Attack  Defense  Sp. Atk  Sp. Def  Speed  \\\n",
       "Last Seen                                                                  \n",
       "2019-12-29 23:00:00    262  40      60       30       31       31     70   \n",
       "2020-01-01 17:00:00    505  90      92       87       75       85     76   \n",
       "2020-01-02 06:00:00    325  55      55       50       45       65     55   \n",
       "2020-01-03 00:00:00    475  90      70       80       70       95     70   \n",
       "2020-01-08 08:00:00    640  95     155      109       70      130     81   \n",
       "\n",
       "                     Generation  Legendary  \n",
       "Last Seen                                   \n",
       "2019-12-29 23:00:00           1      False  \n",
       "2020-01-01 17:00:00           1      False  \n",
       "2020-01-02 06:00:00           1      False  \n",
       "2020-01-03 00:00:00           1      False  \n",
       "2020-01-08 08:00:00           1      False  "
      ]
     },
     "execution_count": 1,
     "metadata": {},
     "output_type": "execute_result"
    }
   ],
   "source": [
    "import pandas as pd\n",
    "import numpy as np\n",
    "\n",
    "df = pd.read_csv('pokedex_v2/pokemons.csv',parse_dates=['Last Seen'])\n",
    "df = df.set_index('Last Seen')\n",
    "df = df.sort_index()\n",
    "df.head()"
   ]
  },
  {
   "cell_type": "code",
   "execution_count": 2,
   "metadata": {},
   "outputs": [
    {
     "name": "stdout",
     "output_type": "stream",
     "text": [
      "Success! 🎉\n",
      "Success! 🎉\n",
      "Success! 🎉\n"
     ]
    }
   ],
   "source": [
    "def test_load_df():\n",
    "    assert'df' in globals(), \"DataFrame wasn't loaded in variable df\"\n",
    "    print('Success! 🎉')\n",
    "    \n",
    "def test_time_index():\n",
    "    assert type(df.index) == pd.core.indexes.datetimes.DatetimeIndex, f\"Expected DataFrame index type to be DatetimeIndex, but got {type(df.index)}\"\n",
    "    max_ts = pd.Timestamp(\"2021-01-06 08:00:00\")\n",
    "    assert df.index.max() == max_ts, f\"Expected max timestamp in index to be {max_ts}, but got {df.index.max()}\"\n",
    "    print('Success! 🎉')\n",
    "    \n",
    "def test_sorted_index():\n",
    "    assert df.index.is_monotonic_increasing, \"Expected time index to be sorted by chronological order\"\n",
    "    print('Success! 🎉')\n",
    "    \n",
    "test_load_df()\n",
    "test_time_index()\n",
    "test_sorted_index()"
   ]
  },
  {
   "cell_type": "markdown",
   "metadata": {},
   "source": [
    "## Problem 2\n",
    "\n",
    "Oh dear, Misty recently borrowed our pokedex, and now we can't tell which pokemons were found by whom!\n",
    "\n",
    "💪 **Task: Add a `Trainer` column, with value `Misty` for pokemons `Last Seen` in July 2020, and value `Me` for the rest.**\n",
    "\n",
    "Pro-tip: make sure you update the `df` object!"
   ]
  },
  {
   "cell_type": "code",
   "execution_count": 3,
   "metadata": {},
   "outputs": [],
   "source": [
    "df['Trainer'] = \"Me\"\n",
    "df.loc['07/2020','Trainer'] = \"Misty\""
   ]
  },
  {
   "cell_type": "code",
   "execution_count": 4,
   "metadata": {},
   "outputs": [
    {
     "name": "stdout",
     "output_type": "stream",
     "text": [
      "Success! 🎉\n",
      "Success! 🎉\n"
     ]
    }
   ],
   "source": [
    "def test_trainer_column():\n",
    "    assert \"Trainer\" in df.columns, \"Can't find column 'Trainer'\"\n",
    "    print('Success! 🎉')\n",
    "    \n",
    "def test_misty_fix():\n",
    "    na_count = (df[\"Trainer\"] == \"Misty\").sum()\n",
    "    assert na_count == 86, f\"Misty should have seen 86 pokemons, but she has seen {na_count}\" \n",
    "    print('Success! 🎉')\n",
    "    \n",
    "test_trainer_column()\n",
    "test_misty_fix()"
   ]
  },
  {
   "cell_type": "markdown",
   "metadata": {},
   "source": [
    "## Problem 3\n",
    "\n",
    "The most exciting part of going on trainer adventures is coming across powerful pokemons 💪. We remember some weeks where we met very strong pokemon, and some that were more quiet. We want to visualise this by tracking the `Total` characteristic of the most powerful pokemon we met in the last 7 days.\n",
    "\n",
    "💪 **Task: Calculate a max rolling statistic for the `Total` variable with window size of 7 days. Store it in a Series called `rolling_max_total`.**\n",
    "\n",
    "Pro-tip: revisit the [`.rolling`] documentation to understand the difference between windows defined by number of steps, and windows defined by amount of time.\n"
   ]
  },
  {
   "cell_type": "code",
   "execution_count": 5,
   "metadata": {},
   "outputs": [],
   "source": [
    "rolling_max_total = df['Total'].rolling('7d').max()\n",
    "# The offset notation is confusing, \n",
    "#   couldn't find a proper documentation on pandas neither python should maybe search in datetime docs"
   ]
  },
  {
   "cell_type": "code",
   "execution_count": 6,
   "metadata": {},
   "outputs": [
    {
     "name": "stdout",
     "output_type": "stream",
     "text": [
      "Success! 🎉\n"
     ]
    }
   ],
   "source": [
    "def test_rolling_max_total():\n",
    "    assert'rolling_max_total' in globals(), \"Can't find variable rolling_max_total\"\n",
    "    assert type(rolling_max_total) == pd.Series, f\"Expected `rolling_max_total` to be a Series object, but got {type(rolling_max_total)}\"\n",
    "    assert type(rolling_max_total.index) == pd.core.indexes.datetimes.DatetimeIndex, f\"Expected DataFrame index type to be DatetimeIndex, but got {type(rolling_max_total.index)}\"\n",
    "    assert len(rolling_max_total) == 800, f\"Expected length of rolling_max_total to be 800, but got {len(rolling_max_total)}\"\n",
    "    assert rolling_max_total.sum() == 532758, f\"Expected sum of rolling_max_total to be 532758, but got {rolling_max_total.sum()}\"\n",
    "    print('Success! 🎉')\n",
    "\n",
    "test_rolling_max_total()"
   ]
  },
  {
   "cell_type": "markdown",
   "metadata": {},
   "source": [
    "💪 **Task: Visualise this rolling statistic through time.**\n",
    "\n",
    "The code cell below should return the graph:\n",
    "\n",
    "\n",
    "Pro-tip: pimp up your graph!"
   ]
  },
  {
   "cell_type": "code",
   "execution_count": 7,
   "metadata": {
    "scrolled": true
   },
   "outputs": [
    {
     "data": {
      "text/plain": [
       "<AxesSubplot:xlabel='Last Seen', ylabel='Max'>"
      ]
     },
     "execution_count": 7,
     "metadata": {},
     "output_type": "execute_result"
    },
    {
     "data": {
      "image/png": "[encoded data removed]",
      "text/plain": [
       "<Figure size 1080x360 with 1 Axes>"
      ]
     },
     "metadata": {},
     "output_type": "display_data"
    }
   ],
   "source": [
    "import seaborn as sns\n",
    "sns.set_theme()\n",
    "rolling_max_total.plot.line(ylabel='Max', figsize=(15,5))"
   ]
  },
  {
   "cell_type": "markdown",
   "metadata": {},
   "source": [
    "🧠 **Question: Do you have an idea why the graph looks different between March and May?**"
   ]
  },
  {
   "cell_type": "code",
   "execution_count": 13,
   "metadata": {},
   "outputs": [
    {
     "data": {
      "text/html": [
       "<div>\n",
       "<style scoped>\n",
       "    .dataframe tbody tr th:only-of-type {\n",
       "        vertical-align: middle;\n",
       "    }\n",
       "\n",
       "    .dataframe tbody tr th {\n",
       "        vertical-align: top;\n",
       "    }\n",
       "\n",
       "    .dataframe thead th {\n",
       "        text-align: right;\n",
       "    }\n",
       "</style>\n",
       "<table border=\"1\" class=\"dataframe\">\n",
       "  <thead>\n",
       "    <tr style=\"text-align: right;\">\n",
       "      <th></th>\n",
       "      <th>Unnamed: 0</th>\n",
       "      <th>#</th>\n",
       "      <th>Name</th>\n",
       "      <th>Type 1</th>\n",
       "      <th>Type 2</th>\n",
       "      <th>Total</th>\n",
       "      <th>HP</th>\n",
       "      <th>Attack</th>\n",
       "      <th>Defense</th>\n",
       "      <th>Sp. Atk</th>\n",
       "      <th>Sp. Def</th>\n",
       "      <th>Speed</th>\n",
       "      <th>Generation</th>\n",
       "      <th>Legendary</th>\n",
       "      <th>Trainer</th>\n",
       "    </tr>\n",
       "    <tr>\n",
       "      <th>Last Seen</th>\n",
       "      <th></th>\n",
       "      <th></th>\n",
       "      <th></th>\n",
       "      <th></th>\n",
       "      <th></th>\n",
       "      <th></th>\n",
       "      <th></th>\n",
       "      <th></th>\n",
       "      <th></th>\n",
       "      <th></th>\n",
       "      <th></th>\n",
       "      <th></th>\n",
       "      <th></th>\n",
       "      <th></th>\n",
       "      <th></th>\n",
       "    </tr>\n",
       "  </thead>\n",
       "  <tbody>\n",
       "    <tr>\n",
       "      <th>2020-03-04 01:00:00</th>\n",
       "      <td>137</td>\n",
       "      <td>127</td>\n",
       "      <td>PinsirMega Pinsir</td>\n",
       "      <td>Bug</td>\n",
       "      <td>Flying</td>\n",
       "      <td>600</td>\n",
       "      <td>65</td>\n",
       "      <td>155</td>\n",
       "      <td>120</td>\n",
       "      <td>65</td>\n",
       "      <td>90</td>\n",
       "      <td>105</td>\n",
       "      <td>1</td>\n",
       "      <td>False</td>\n",
       "      <td>Me</td>\n",
       "    </tr>\n",
       "    <tr>\n",
       "      <th>2020-03-12 09:00:00</th>\n",
       "      <td>72</td>\n",
       "      <td>66</td>\n",
       "      <td>Machop</td>\n",
       "      <td>Fighting</td>\n",
       "      <td>NaN</td>\n",
       "      <td>305</td>\n",
       "      <td>70</td>\n",
       "      <td>80</td>\n",
       "      <td>50</td>\n",
       "      <td>35</td>\n",
       "      <td>35</td>\n",
       "      <td>35</td>\n",
       "      <td>1</td>\n",
       "      <td>False</td>\n",
       "      <td>Me</td>\n",
       "    </tr>\n",
       "    <tr>\n",
       "      <th>2020-04-18 22:00:00</th>\n",
       "      <td>191</td>\n",
       "      <td>177</td>\n",
       "      <td>Natu</td>\n",
       "      <td>Psychic</td>\n",
       "      <td>Flying</td>\n",
       "      <td>320</td>\n",
       "      <td>40</td>\n",
       "      <td>50</td>\n",
       "      <td>45</td>\n",
       "      <td>70</td>\n",
       "      <td>45</td>\n",
       "      <td>70</td>\n",
       "      <td>2</td>\n",
       "      <td>False</td>\n",
       "      <td>Me</td>\n",
       "    </tr>\n",
       "    <tr>\n",
       "      <th>2020-04-25 09:00:00</th>\n",
       "      <td>185</td>\n",
       "      <td>171</td>\n",
       "      <td>Lanturn</td>\n",
       "      <td>Water</td>\n",
       "      <td>Electric</td>\n",
       "      <td>460</td>\n",
       "      <td>125</td>\n",
       "      <td>58</td>\n",
       "      <td>58</td>\n",
       "      <td>76</td>\n",
       "      <td>76</td>\n",
       "      <td>67</td>\n",
       "      <td>2</td>\n",
       "      <td>False</td>\n",
       "      <td>Me</td>\n",
       "    </tr>\n",
       "  </tbody>\n",
       "</table>\n",
       "</div>"
      ],
      "text/plain": [
       "                     Unnamed: 0    #               Name    Type 1    Type 2  \\\n",
       "Last Seen                                                                     \n",
       "2020-03-04 01:00:00         137  127  PinsirMega Pinsir       Bug    Flying   \n",
       "2020-03-12 09:00:00          72   66             Machop  Fighting       NaN   \n",
       "2020-04-18 22:00:00         191  177               Natu   Psychic    Flying   \n",
       "2020-04-25 09:00:00         185  171            Lanturn     Water  Electric   \n",
       "\n",
       "                     Total   HP  Attack  Defense  Sp. Atk  Sp. Def  Speed  \\\n",
       "Last Seen                                                                   \n",
       "2020-03-04 01:00:00    600   65     155      120       65       90    105   \n",
       "2020-03-12 09:00:00    305   70      80       50       35       35     35   \n",
       "2020-04-18 22:00:00    320   40      50       45       70       45     70   \n",
       "2020-04-25 09:00:00    460  125      58       58       76       76     67   \n",
       "\n",
       "                     Generation  Legendary Trainer  \n",
       "Last Seen                                           \n",
       "2020-03-04 01:00:00           1      False      Me  \n",
       "2020-03-12 09:00:00           1      False      Me  \n",
       "2020-04-18 22:00:00           2      False      Me  \n",
       "2020-04-25 09:00:00           2      False      Me  "
      ]
     },
     "execution_count": 13,
     "metadata": {},
     "output_type": "execute_result"
    }
   ],
   "source": [
    "df.loc['03/2020':'04/2020']"
   ]
  },
  {
   "cell_type": "markdown",
   "metadata": {},
   "source": [
    "The number of pokemon catched was low, therefore calculating a rolling maximum is non relevant."
   ]
  },
  {
   "cell_type": "markdown",
   "metadata": {},
   "source": [
    "## Problem 4\n",
    "\n",
    "We started our journey a while ago, and have explored 6 entire generations of Pokemon. We'd like to visualise this journey by plotting a _histogram_ of our last pokemon encounters, grouped by `Generation`.\n",
    "\n",
    "💪💪 **Task: Plot a histogram of pokemon encounters through time grouped by `Generation`.**\n",
    "\n",
    "Pro-tips:\n",
    "* The x-axis should be time.\n",
    "* Each group should be represented with a different visual encoding\n",
    "* check out [.hist()](https://matplotlib.org/stable/api/_as_gen/matplotlib.pyplot.hist.html#matplotlib.pyplot.hist)\n",
    "* pimp up your graph!\n",
    "\n",
    "The graph should be displayed by the code cell below:"
   ]
  },
  {
   "cell_type": "code",
   "execution_count": 109,
   "metadata": {},
   "outputs": [
    {
     "data": {
      "text/html": [
       "<div>\n",
       "<style scoped>\n",
       "    .dataframe tbody tr th:only-of-type {\n",
       "        vertical-align: middle;\n",
       "    }\n",
       "\n",
       "    .dataframe tbody tr th {\n",
       "        vertical-align: top;\n",
       "    }\n",
       "\n",
       "    .dataframe thead th {\n",
       "        text-align: right;\n",
       "    }\n",
       "</style>\n",
       "<table border=\"1\" class=\"dataframe\">\n",
       "  <thead>\n",
       "    <tr style=\"text-align: right;\">\n",
       "      <th></th>\n",
       "      <th>Total</th>\n",
       "      <th>Generation</th>\n",
       "    </tr>\n",
       "    <tr>\n",
       "      <th>day</th>\n",
       "      <th></th>\n",
       "      <th></th>\n",
       "    </tr>\n",
       "  </thead>\n",
       "  <tbody>\n",
       "    <tr>\n",
       "      <th>363</th>\n",
       "      <td>262</td>\n",
       "      <td>1</td>\n",
       "    </tr>\n",
       "    <tr>\n",
       "      <th>1</th>\n",
       "      <td>505</td>\n",
       "      <td>1</td>\n",
       "    </tr>\n",
       "    <tr>\n",
       "      <th>2</th>\n",
       "      <td>325</td>\n",
       "      <td>1</td>\n",
       "    </tr>\n",
       "    <tr>\n",
       "      <th>3</th>\n",
       "      <td>475</td>\n",
       "      <td>1</td>\n",
       "    </tr>\n",
       "    <tr>\n",
       "      <th>8</th>\n",
       "      <td>640</td>\n",
       "      <td>1</td>\n",
       "    </tr>\n",
       "    <tr>\n",
       "      <th>...</th>\n",
       "      <td>...</td>\n",
       "      <td>...</td>\n",
       "    </tr>\n",
       "    <tr>\n",
       "      <th>356</th>\n",
       "      <td>304</td>\n",
       "      <td>6</td>\n",
       "    </tr>\n",
       "    <tr>\n",
       "      <th>356</th>\n",
       "      <td>481</td>\n",
       "      <td>6</td>\n",
       "    </tr>\n",
       "    <tr>\n",
       "      <th>358</th>\n",
       "      <td>494</td>\n",
       "      <td>6</td>\n",
       "    </tr>\n",
       "    <tr>\n",
       "      <th>359</th>\n",
       "      <td>411</td>\n",
       "      <td>6</td>\n",
       "    </tr>\n",
       "    <tr>\n",
       "      <th>6</th>\n",
       "      <td>552</td>\n",
       "      <td>6</td>\n",
       "    </tr>\n",
       "  </tbody>\n",
       "</table>\n",
       "<p>800 rows × 2 columns</p>\n",
       "</div>"
      ],
      "text/plain": [
       "     Total  Generation\n",
       "day                   \n",
       "363    262           1\n",
       "1      505           1\n",
       "2      325           1\n",
       "3      475           1\n",
       "8      640           1\n",
       "..     ...         ...\n",
       "356    304           6\n",
       "356    481           6\n",
       "358    494           6\n",
       "359    411           6\n",
       "6      552           6\n",
       "\n",
       "[800 rows x 2 columns]"
      ]
     },
     "execution_count": 109,
     "metadata": {},
     "output_type": "execute_result"
    }
   ],
   "source": [
    "df['day'] = df.index.dayofyear\n",
    "newdf = df.loc[:,['day','Total','Generation']]\n",
    "newdf = newdf.set_index('day')\n",
    "newdf\n",
    "#newdf = df.loc[:,['Total','Generation']].groupby(['Last Seen','Generation']).count()\n",
    "#newdf = newdf.reset_index(level=[0,1])\n",
    "#newdf = newdf.set_index('Last Seen')\n",
    "#newdf.pivot(columns='Generation',values='Total').plot.line(figsize=[15,5])"
   ]
  },
  {
   "cell_type": "markdown",
   "metadata": {},
   "source": [
    "## Problem 5\n",
    "\n",
    "Our pokedex updated its database with new pokemon pictures... but accidentally flipped all of them upside down! Let's fix this:\n",
    "\n",
    "💪💪 **Task: Iterate through the pokemon images in the `images` directory, flip them the right side up, then save them in the directory called `images_flipped`.**\n",
    "\n",
    "Pro-tips:\n",
    "* to iterate through system files in python, check out [`glob`](https://docs.python.org/3/library/glob.html)\n",
    "* [`os.path`](https://docs.python.org/3/library/os.path.html) has some great filename utilities\n"
   ]
  },
  {
   "cell_type": "code",
   "execution_count": 10,
   "metadata": {},
   "outputs": [],
   "source": [
    "# INSERT YOUR CODE HERE"
   ]
  },
  {
   "cell_type": "code",
   "execution_count": 11,
   "metadata": {},
   "outputs": [
    {
     "ename": "FileNotFoundError",
     "evalue": "[Errno 2] No such file or directory: 'images_flipped/17.png'",
     "output_type": "error",
     "traceback": [
      "\u001b[0;31m---------------------------------------------------------------------------\u001b[0m",
      "\u001b[0;31mFileNotFoundError\u001b[0m                         Traceback (most recent call last)",
      "\u001b[0;32m<ipython-input-11-b5cc14a9cc47>\u001b[0m in \u001b[0;36m<module>\u001b[0;34m\u001b[0m\n\u001b[1;32m      9\u001b[0m \u001b[0;34m\u001b[0m\u001b[0m\n\u001b[1;32m     10\u001b[0m \u001b[0;34m\u001b[0m\u001b[0m\n\u001b[0;32m---> 11\u001b[0;31m \u001b[0mtest_image_flip\u001b[0m\u001b[0;34m(\u001b[0m\u001b[0;34m)\u001b[0m\u001b[0;34m\u001b[0m\u001b[0;34m\u001b[0m\u001b[0m\n\u001b[0m",
      "\u001b[0;32m<ipython-input-11-b5cc14a9cc47>\u001b[0m in \u001b[0;36mtest_image_flip\u001b[0;34m()\u001b[0m\n\u001b[1;32m      2\u001b[0m \u001b[0;34m\u001b[0m\u001b[0m\n\u001b[1;32m      3\u001b[0m \u001b[0;32mdef\u001b[0m \u001b[0mtest_image_flip\u001b[0m\u001b[0;34m(\u001b[0m\u001b[0;34m)\u001b[0m\u001b[0;34m:\u001b[0m\u001b[0;34m\u001b[0m\u001b[0;34m\u001b[0m\u001b[0m\n\u001b[0;32m----> 4\u001b[0;31m     \u001b[0mimage\u001b[0m \u001b[0;34m=\u001b[0m \u001b[0mImage\u001b[0m\u001b[0;34m.\u001b[0m\u001b[0mopen\u001b[0m\u001b[0;34m(\u001b[0m\u001b[0;34m\"images_flipped/17.png\"\u001b[0m\u001b[0;34m)\u001b[0m\u001b[0;34m\u001b[0m\u001b[0;34m\u001b[0m\u001b[0m\n\u001b[0m\u001b[1;32m      5\u001b[0m     \u001b[0mpixel\u001b[0m \u001b[0;34m=\u001b[0m \u001b[0mimage\u001b[0m\u001b[0;34m.\u001b[0m\u001b[0mgetpixel\u001b[0m\u001b[0;34m(\u001b[0m\u001b[0;34m(\u001b[0m\u001b[0;36m143\u001b[0m\u001b[0;34m,\u001b[0m \u001b[0;36m125\u001b[0m\u001b[0;34m)\u001b[0m\u001b[0;34m)\u001b[0m\u001b[0;34m\u001b[0m\u001b[0;34m\u001b[0m\u001b[0m\n\u001b[1;32m      6\u001b[0m     \u001b[0mexpected_pixel\u001b[0m \u001b[0;34m=\u001b[0m \u001b[0;34m(\u001b[0m\u001b[0;36m200\u001b[0m\u001b[0;34m,\u001b[0m \u001b[0;36m188\u001b[0m\u001b[0;34m,\u001b[0m \u001b[0;36m151\u001b[0m\u001b[0;34m,\u001b[0m \u001b[0;36m255\u001b[0m\u001b[0;34m)\u001b[0m\u001b[0;34m\u001b[0m\u001b[0;34m\u001b[0m\u001b[0m\n",
      "\u001b[0;32m~/.local/share/virtualenvs/practical-data-scientist-umj5maBJ-python/lib/python3.9/site-packages/PIL/Image.py\u001b[0m in \u001b[0;36mopen\u001b[0;34m(fp, mode, formats)\u001b[0m\n\u001b[1;32m   2910\u001b[0m \u001b[0;34m\u001b[0m\u001b[0m\n\u001b[1;32m   2911\u001b[0m     \u001b[0;32mif\u001b[0m \u001b[0mfilename\u001b[0m\u001b[0;34m:\u001b[0m\u001b[0;34m\u001b[0m\u001b[0;34m\u001b[0m\u001b[0m\n\u001b[0;32m-> 2912\u001b[0;31m         \u001b[0mfp\u001b[0m \u001b[0;34m=\u001b[0m \u001b[0mbuiltins\u001b[0m\u001b[0;34m.\u001b[0m\u001b[0mopen\u001b[0m\u001b[0;34m(\u001b[0m\u001b[0mfilename\u001b[0m\u001b[0;34m,\u001b[0m \u001b[0;34m\"rb\"\u001b[0m\u001b[0;34m)\u001b[0m\u001b[0;34m\u001b[0m\u001b[0;34m\u001b[0m\u001b[0m\n\u001b[0m\u001b[1;32m   2913\u001b[0m         \u001b[0mexclusive_fp\u001b[0m \u001b[0;34m=\u001b[0m \u001b[0;32mTrue\u001b[0m\u001b[0;34m\u001b[0m\u001b[0;34m\u001b[0m\u001b[0m\n\u001b[1;32m   2914\u001b[0m \u001b[0;34m\u001b[0m\u001b[0m\n",
      "\u001b[0;31mFileNotFoundError\u001b[0m: [Errno 2] No such file or directory: 'images_flipped/17.png'"
     ]
    }
   ],
   "source": [
    "from PIL import Image\n",
    "\n",
    "def test_image_flip():\n",
    "    image = Image.open(\"images_flipped/17.png\")\n",
    "    pixel = image.getpixel((143, 125))\n",
    "    expected_pixel = (200, 188, 151, 255)\n",
    "    assert pixel == expected_pixel, f'Image 43.png not flipped. Expected values {expected_pixel} at pixel (143, 125), but got {pixel}'\n",
    "    print('Success! 🎉')\n",
    "\n",
    "\n",
    "test_image_flip()"
   ]
  },
  {
   "cell_type": "markdown",
   "metadata": {},
   "source": [
    "## Problem 6\n",
    "\n",
    "Flipping through those Pokemon images got us nostalgic, so we listen to the Pokemon theme tune. We marvel at the simple and effective linguistic construction of this poetic masterpiece: verbs are often repeated in the lyrics to emphasize the importance of our Pokemon trainer mission. What is the verb that is most often repeated?\n",
    "\n",
    "💪  **Task: Open the `lyrics.txt` file, and analyse it with `spacy`'s english `nlp` model. Store the result in a variable called `doc`.**\n",
    "\n",
    "Pro-tip: You might need to download the spacy model just like we did in lecture 2.2."
   ]
  },
  {
   "cell_type": "code",
   "execution_count": null,
   "metadata": {},
   "outputs": [],
   "source": [
    "# INSERT YOUR CODE HERE"
   ]
  },
  {
   "cell_type": "code",
   "execution_count": null,
   "metadata": {},
   "outputs": [],
   "source": [
    "def test_doc():\n",
    "    assert \"doc\" in globals(), \"Couldn't find a variable called doc\"\n",
    "    assert len(doc) == 388, f\"Expected 388 tokens in doc, but got {len(doc)}\"\n",
    "    print('Success! 🎉')\n",
    "    \n",
    "test_doc()"
   ]
  },
  {
   "cell_type": "markdown",
   "metadata": {},
   "source": [
    "💪💪 **Task: Find the most common verb in `doc`**\n",
    "\n",
    "The code cell below should print out the most common verb:\n",
    "\n",
    "Pro-tips:\n",
    "* \"VERB\" is a [_part of speech_](https://spacy.io/usage/linguistic-features#pos-tagging), which you can directly check on tokens.\n",
    "* using [_lemmas_](https://spacy.io/usage/linguistic-features#lemmatization) instead of raw token text allows to normalise variations (like verb conjugations)\n",
    "* [`Counter`](https://pymotw.com/2/collections/counter.html) is an easy way to count repeated elements in collections."
   ]
  },
  {
   "cell_type": "code",
   "execution_count": null,
   "metadata": {},
   "outputs": [],
   "source": [
    "# INSERT YOUR CODE HERE"
   ]
  },
  {
   "cell_type": "markdown",
   "metadata": {},
   "source": [
    "💪💪 **Bonus Task: Visualise the distribution of verb counts in the lyrics.**\n",
    "\n",
    "Pro-tip: check out [data to viz](https://www.data-to-viz.com/) to pick the most effective chart type."
   ]
  }
 ],
 "metadata": {
  "kernelspec": {
   "display_name": "Python 3",
   "language": "python",
   "name": "python3"
  },
  "language_info": {
   "codemirror_mode": {
    "name": "ipython",
    "version": 3
   },
   "file_extension": ".py",
   "mimetype": "text/x-python",
   "name": "python",
   "nbconvert_exporter": "python",
   "pygments_lexer": "ipython3",
   "version": "3.9.2"
  }
 },
 "nbformat": 4,
 "nbformat_minor": 4
}

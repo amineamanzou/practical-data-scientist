{
 "cells": [
  {
   "cell_type": "markdown",
   "metadata": {},
   "source": [
    "# Homework 4\n",
    "\n",
    "(╯°□°)╯︵◓\n",
    "\n",
    "You've been search far and wide, but you're still trying to understand the power that's inside. This time round though, you're armed with new weapons: supervised learning algorithms. Pokemons will have no more secrets after you analyse the pokedex!\n",
    "\n",
    "The data can be found under `pokedex/pokemons.csv`, and is the same as homeworks 1, 2, & 3. Run the cell below to get an overview of the dataset:"
   ]
  },
  {
   "cell_type": "code",
   "execution_count": null,
   "metadata": {},
   "outputs": [],
   "source": [
    "import pandas as pd\n",
    "import numpy as np\n",
    "\n",
    "df = pd.read_csv('pokedex/pokemons.csv')\n",
    "df.head()"
   ]
  },
  {
   "cell_type": "markdown",
   "metadata": {},
   "source": [
    "## Problem 1\n",
    "\n",
    "We've learned that Pokemon masters never mix training and battles. Since we are building supervised learning models, we want to _split our data_ into train and test datasets. We are only running a single round of experiments with no hyperparameter optimisation, so we'll skip validation sets this time.\n",
    "\n",
    "💪 **Task: Split the `df` DataFrame into training and test DataFrames.**\n",
    "- the split should be 80% training 20% test\n",
    "- use `random_state=0`\n",
    "- store your datasets into two variables called `train_df` and `test_df`. No need to save to disk!"
   ]
  },
  {
   "cell_type": "code",
   "execution_count": null,
   "metadata": {},
   "outputs": [],
   "source": [
    "# INSERT YOUR CODE HERE"
   ]
  },
  {
   "cell_type": "code",
   "execution_count": null,
   "metadata": {},
   "outputs": [],
   "source": [
    "def test_split():\n",
    "    assert \"train_df\" in globals(), \"Can't find train_df, have you used the correct variable name for your train dataset?\"\n",
    "    assert \"test_df\" in globals(), \"Can't find train_df, have you used the correct variable name for your test dataset?\"\n",
    "    assert train_df[\"Total\"].sum() == 275746, \"Your dataset split doesn't look quite right. Did you use the correct random_state?\"\n",
    "    print('Success! 🎉')\n",
    "\n",
    "test_split()"
   ]
  },
  {
   "cell_type": "markdown",
   "metadata": {},
   "source": [
    "## Problem 2"
   ]
  },
  {
   "cell_type": "markdown",
   "metadata": {},
   "source": [
    "Now that we have split our dataset, we are ready to train. A crucial statistic in pokemon battles is `HP`. This is the amount of damage you have to inflict to your opponent to win the fight, so being able to _predict_ this amount would be an enormous advantage 👊.\n",
    "\n",
    "💪 **Task: Train a linear regression model which predicts the label `HP`.**\n",
    "- train the model on your training dataset\n",
    "- use `Attack`, `Defense`, `Sp. Atk`, `Sp. Def`, and `Speed` as features\n",
    "- use `HP` as label\n",
    "- scale the features using standardization before you train the model\n",
    "- store your trained model in a variable called `reg`"
   ]
  },
  {
   "cell_type": "code",
   "execution_count": null,
   "metadata": {},
   "outputs": [],
   "source": [
    "# INSERT YOUR CODE HERE"
   ]
  },
  {
   "cell_type": "code",
   "execution_count": null,
   "metadata": {},
   "outputs": [],
   "source": [
    "import math\n",
    "\n",
    "def test_regression():\n",
    "    assert reg, \"Can't find reg, have you used the correct variable name for your model?\"\n",
    "    assert math.isclose(reg.coef_.sum(), 15.46275, rel_tol=1e-6), \"Your model parameters don't look quite right\"\n",
    "    print('Success! 🎉')\n",
    "\n",
    "test_regression()"
   ]
  },
  {
   "cell_type": "markdown",
   "metadata": {},
   "source": [
    "🧠 **Bonus Task: List and describe the main steps that happen during your linear regression model's _training_ , i.e inside of sklearn's `.fit()` method.**\n",
    "\n",
    "🧠 **Bonus Task: Explain the purpose of feature scaling, and why it's a good idea to use it here.**"
   ]
  },
  {
   "cell_type": "markdown",
   "metadata": {},
   "source": [
    "## Problem 3\n",
    "\n",
    "You encounter an unknown pokemon, and it looks very strong. 🙀 Use your `HP` regression model to see if you can take it on!\n",
    "\n",
    "💪 **Task: Predict the `HP` of an unknown pokemon using your linear regression model.**\n",
    "- the stats of the unknown pokemon are found below\n",
    "- predict using your trained model, `reg`\n",
    "- store the prediction in a variable called `y_predict`\n"
   ]
  },
  {
   "cell_type": "code",
   "execution_count": null,
   "metadata": {},
   "outputs": [],
   "source": [
    "attack = 79\n",
    "defense = 109\n",
    "sp_atk = 73\n",
    "sp_def = 84\n",
    "speed = 68\n",
    "\n",
    "# INSERT YOUR CODE HERE "
   ]
  },
  {
   "cell_type": "code",
   "execution_count": null,
   "metadata": {},
   "outputs": [],
   "source": [
    "def test_predict_hp():\n",
    "    expected_prediction = 70.324\n",
    "    assert y_predict, f\"Can't find y_predict, have you used the correct variable name?\"\n",
    "    assert math.isclose(y_predict, expected_prediction, rel_tol=1e-4), f'The prediction should be {expected_prediction}, but your model predicted {y_predict}'\n",
    "    print('Success! 🎉')\n",
    "    print(f\"The unknown pokemon has predicted HP: {y_predict.item():.1f}\")\n",
    "    return\n",
    "\n",
    "test_predict_hp()"
   ]
  },
  {
   "cell_type": "markdown",
   "metadata": {},
   "source": [
    "## Problem 4\n",
    "\n",
    "Professor Oak told you about a rare breed of exceptionally powerful pokemon... the _legendary_ pokemon. A trainer who finds and captures a legendary pokemon is sure to become invicible!\n",
    "\n",
    "💪 **Task: Train a logistic regression model which predicts if pokemons are `Legendary`.**\n",
    "- train the model on your training dataset\n",
    "- use `HP`, `Attack`, `Defense`, `Sp. Atk`, `Sp. Def`, and `Speed` as features\n",
    "- use `Legendary` as label\n",
    "- scale the features using standardization before you train the model\n",
    "- store your trained model in a variable called `clf`"
   ]
  },
  {
   "cell_type": "code",
   "execution_count": null,
   "metadata": {},
   "outputs": [],
   "source": [
    "# INSERT YOUR CODE HERE"
   ]
  },
  {
   "cell_type": "code",
   "execution_count": null,
   "metadata": {},
   "outputs": [],
   "source": [
    "def test_classification():\n",
    "    assert clf, \"Can't find clf, have you used the correct variable name for your model?\"\n",
    "    assert math.isclose(clf.coef_.sum(), 5.71640, rel_tol=1e-5), \"Your model parameters don't look quite right\"\n",
    "    print('Success! 🎉')\n",
    "    return\n",
    "\n",
    "test_classification()"
   ]
  },
  {
   "cell_type": "markdown",
   "metadata": {},
   "source": [
    "🧠 **Bonus Task: What are the differences between logistic regression and linear regression?**"
   ]
  },
  {
   "cell_type": "markdown",
   "metadata": {},
   "source": [
    "## Problem 5\n",
    "\n",
    "Finding legendary pokemons is no easy task, and we expect that we need a more _powerful_ model to accurately predict them.\n",
    "\n",
    "💪 **Task: Train a logistic regression model with polynomial features and regularization which predicts if pokemons are Legendary.**\n",
    "- use `HP`, `Attack`, `Defense`, `Sp. Atk`, `Sp. Def`, and `Speed` as features\n",
    "- use `Legendary` as label\n",
    "- add polynomial features of degree 3\n",
    "- scale the features using standardization before you train the model\n",
    "- use ridge logistic regression to regularize your model\n",
    "- store your trained model in a variable called `clf`  \n",
    "Pro-tip: [RidgeClassifier](https://scikit-learn.org/stable/modules/generated/sklearn.linear_model.RidgeClassifier.html)"
   ]
  },
  {
   "cell_type": "code",
   "execution_count": null,
   "metadata": {},
   "outputs": [],
   "source": [
    "# INSERT YOUR CODE HERE"
   ]
  },
  {
   "cell_type": "code",
   "execution_count": null,
   "metadata": {},
   "outputs": [],
   "source": [
    "def test_polynomial_regression():\n",
    "    assert clf, \"Can't find clf, have you used the correct variable name for your model?\"\n",
    "    assert math.isclose(clf.coef_.sum(), 0.340915, rel_tol=1e-5), \"Your model parameters don't look quite right\"\n",
    "    print('Success! 🎉')\n",
    "    return\n",
    "\n",
    "test_polynomial_regression()"
   ]
  },
  {
   "cell_type": "markdown",
   "metadata": {},
   "source": [
    "🧠 **Bonus Task: How do polynomial features make our model more powerful?**\n",
    "\n",
    "🧠 **Bonus Task: What is the purpose of regularization? Why is it a good idea to use it here?**\n",
    "\n",
    "💪 **Bonus Task: Train the exact same regularized logistic regression model with polynomial features, but this time, chain your preprocessors and your model into a [Pipeline](https://scikit-learn.org/stable/modules/generated/sklearn.pipeline.Pipeline.html)**"
   ]
  },
  {
   "cell_type": "markdown",
   "metadata": {},
   "source": [
    "## Problem 6\n",
    "\n",
    "You are travelling across the land, when you spot a large rainbow bird in the sky. Maybe it's a legendary pokemon! Let's check with our freshly trained regularized polynomial classifier.\n",
    "\n",
    "💪 **Task: Predict if the rainbow bird is a legendary pokemon using your classifier.**\n",
    "- the stats of the rainbow bird pokemon are found below\n",
    "- predict using your trained model, `clf`\n",
    "- store the prediction in a variable called `y_predict`"
   ]
  },
  {
   "cell_type": "code",
   "execution_count": null,
   "metadata": {},
   "outputs": [],
   "source": [
    "hp = 106\n",
    "attack = 130\n",
    "defense = 90\n",
    "sp_atk = 110\n",
    "sp_def = 154\n",
    "speed = 90\n",
    "\n",
    "# INSERT YOUR CODE HERE"
   ]
  },
  {
   "cell_type": "code",
   "execution_count": null,
   "metadata": {},
   "outputs": [],
   "source": [
    "def test_predict_legendary():\n",
    "    assert y_predict == True, f'The prediction should be {True}, but your model predicted {y_predict}'\n",
    "    print('Success! 🎉')\n",
    "    print(\"The rainbow bird is predicted to be a legendary pokemon!\")\n",
    "    \n",
    "test_predict_legendary()"
   ]
  },
  {
   "cell_type": "markdown",
   "metadata": {},
   "source": [
    "## Problem 7\n",
    "\n",
    "This legendary pokemon classifier is neat, and the Pokedex scientists are interested in including it in their next update. However, they want to make sure that it is accurate enough. \n",
    "\n",
    "\n",
    "💪 **Task: Evaluate the accuracy of your legendary Pokemon classifier.**\n",
    "- evaluate your model on your test dataset\n",
    "- store the prediction in a variable called `accuracy`"
   ]
  },
  {
   "cell_type": "code",
   "execution_count": null,
   "metadata": {},
   "outputs": [],
   "source": [
    "# INSERT YOUR CODE HERE"
   ]
  },
  {
   "cell_type": "code",
   "execution_count": null,
   "metadata": {},
   "outputs": [],
   "source": [
    "def test_evaluation():\n",
    "    assert math.isclose(accuracy, 0.93125, rel_tol=1e-5), \"Your accuracy doesn't look quite right\"\n",
    "    print('Success! 🎉')\n",
    "    print(f\"You can predict legendary pokemons with an accuracy of {accuracy*100:.1f}%!\")\n",
    "    \n",
    "test_evaluation()"
   ]
  },
  {
   "cell_type": "markdown",
   "metadata": {},
   "source": [
    "🧠 **Bonus Task: What is the definition of the accuracy metric?**"
   ]
  }
 ],
 "metadata": {
  "kernelspec": {
   "display_name": "Python 3",
   "language": "python",
   "name": "python3"
  },
  "language_info": {
   "codemirror_mode": {
    "name": "ipython",
    "version": 3
   },
   "file_extension": ".py",
   "mimetype": "text/x-python",
   "name": "python",
   "nbconvert_exporter": "python",
   "pygments_lexer": "ipython3",
   "version": "3.9.4"
  }
 },
 "nbformat": 4,
 "nbformat_minor": 4
}

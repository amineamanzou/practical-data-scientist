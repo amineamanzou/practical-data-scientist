{
 "cells": [
  {
   "cell_type": "markdown",
   "metadata": {},
   "source": [
    "# Homework 1\n",
    "\n",
    "ϞϞ(๑⚈ ․̫ ⚈๑)\n",
    "\n",
    "You are pokemon trainer, and you want to be the very best. However, traveling across the land and searching far and wide isn't really your thing... So instead, you decide to explore your pokedex data to find the best pokemons.\n",
    "\n",
    "The data can be found under `pokedex/pokemons.csv`. In lecture 1.2, we learned how to open `.csv` files with pandas. Run the cell below to get an overview of the dataset:"
   ]
  },
  {
   "cell_type": "code",
   "execution_count": 1,
   "metadata": {},
   "outputs": [
    {
     "data": {
      "text/html": [
       "<div>\n",
       "<style scoped>\n",
       "    .dataframe tbody tr th:only-of-type {\n",
       "        vertical-align: middle;\n",
       "    }\n",
       "\n",
       "    .dataframe tbody tr th {\n",
       "        vertical-align: top;\n",
       "    }\n",
       "\n",
       "    .dataframe thead th {\n",
       "        text-align: right;\n",
       "    }\n",
       "</style>\n",
       "<table border=\"1\" class=\"dataframe\">\n",
       "  <thead>\n",
       "    <tr style=\"text-align: right;\">\n",
       "      <th></th>\n",
       "      <th>#</th>\n",
       "      <th>Name</th>\n",
       "      <th>Type 1</th>\n",
       "      <th>Type 2</th>\n",
       "      <th>Total</th>\n",
       "      <th>HP</th>\n",
       "      <th>Attack</th>\n",
       "      <th>Defense</th>\n",
       "      <th>Sp. Atk</th>\n",
       "      <th>Sp. Def</th>\n",
       "      <th>Speed</th>\n",
       "      <th>Generation</th>\n",
       "      <th>Legendary</th>\n",
       "    </tr>\n",
       "  </thead>\n",
       "  <tbody>\n",
       "    <tr>\n",
       "      <th>0</th>\n",
       "      <td>1</td>\n",
       "      <td>Bulbasaur</td>\n",
       "      <td>Grass</td>\n",
       "      <td>Poison</td>\n",
       "      <td>318</td>\n",
       "      <td>45</td>\n",
       "      <td>49</td>\n",
       "      <td>49</td>\n",
       "      <td>65</td>\n",
       "      <td>65</td>\n",
       "      <td>45</td>\n",
       "      <td>1</td>\n",
       "      <td>False</td>\n",
       "    </tr>\n",
       "    <tr>\n",
       "      <th>1</th>\n",
       "      <td>2</td>\n",
       "      <td>Ivysaur</td>\n",
       "      <td>Grass</td>\n",
       "      <td>Poison</td>\n",
       "      <td>405</td>\n",
       "      <td>60</td>\n",
       "      <td>62</td>\n",
       "      <td>63</td>\n",
       "      <td>80</td>\n",
       "      <td>80</td>\n",
       "      <td>60</td>\n",
       "      <td>1</td>\n",
       "      <td>False</td>\n",
       "    </tr>\n",
       "    <tr>\n",
       "      <th>2</th>\n",
       "      <td>3</td>\n",
       "      <td>Venusaur</td>\n",
       "      <td>Grass</td>\n",
       "      <td>Poison</td>\n",
       "      <td>525</td>\n",
       "      <td>80</td>\n",
       "      <td>82</td>\n",
       "      <td>83</td>\n",
       "      <td>100</td>\n",
       "      <td>100</td>\n",
       "      <td>80</td>\n",
       "      <td>1</td>\n",
       "      <td>False</td>\n",
       "    </tr>\n",
       "    <tr>\n",
       "      <th>3</th>\n",
       "      <td>3</td>\n",
       "      <td>VenusaurMega Venusaur</td>\n",
       "      <td>Grass</td>\n",
       "      <td>Poison</td>\n",
       "      <td>625</td>\n",
       "      <td>80</td>\n",
       "      <td>100</td>\n",
       "      <td>123</td>\n",
       "      <td>122</td>\n",
       "      <td>120</td>\n",
       "      <td>80</td>\n",
       "      <td>1</td>\n",
       "      <td>False</td>\n",
       "    </tr>\n",
       "    <tr>\n",
       "      <th>4</th>\n",
       "      <td>4</td>\n",
       "      <td>Charmander</td>\n",
       "      <td>Fire</td>\n",
       "      <td>NaN</td>\n",
       "      <td>309</td>\n",
       "      <td>39</td>\n",
       "      <td>52</td>\n",
       "      <td>43</td>\n",
       "      <td>60</td>\n",
       "      <td>50</td>\n",
       "      <td>65</td>\n",
       "      <td>1</td>\n",
       "      <td>False</td>\n",
       "    </tr>\n",
       "  </tbody>\n",
       "</table>\n",
       "</div>"
      ],
      "text/plain": [
       "   #                   Name Type 1  Type 2  Total  HP  Attack  Defense  \\\n",
       "0  1              Bulbasaur  Grass  Poison    318  45      49       49   \n",
       "1  2                Ivysaur  Grass  Poison    405  60      62       63   \n",
       "2  3               Venusaur  Grass  Poison    525  80      82       83   \n",
       "3  3  VenusaurMega Venusaur  Grass  Poison    625  80     100      123   \n",
       "4  4             Charmander   Fire     NaN    309  39      52       43   \n",
       "\n",
       "   Sp. Atk  Sp. Def  Speed  Generation  Legendary  \n",
       "0       65       65     45           1      False  \n",
       "1       80       80     60           1      False  \n",
       "2      100      100     80           1      False  \n",
       "3      122      120     80           1      False  \n",
       "4       60       50     65           1      False  "
      ]
     },
     "execution_count": 1,
     "metadata": {},
     "output_type": "execute_result"
    }
   ],
   "source": [
    "import pandas as pd\n",
    "import numpy as np\n",
    "\n",
    "df = pd.read_csv('pokedex/pokemons.csv')\n",
    "df.head()"
   ]
  },
  {
   "cell_type": "markdown",
   "metadata": {},
   "source": [
    "## Problem 1 \n",
    "\n",
    "Oh dear, Professor Oak just texted us: there's a mistake in the pokedex! 🙀 `Farfetch'd` is actually a `Legendary` pokemon!\n",
    "\n",
    "💪 **Task: Update the `Legendary` value of the row where `Name == \"Farfetch'd\"` to `True`.**\n",
    "\n",
    "Pro-tip: there are many ways to create strings in python. Pick the right one from the [documentation](https://docs.python.org/3/tutorial/introduction.html#strings) to avoid clashes with the `'` symbol in the pokemon name."
   ]
  },
  {
   "cell_type": "code",
   "execution_count": 2,
   "metadata": {},
   "outputs": [
    {
     "name": "stdout",
     "output_type": "stream",
     "text": [
      "Before\n"
     ]
    },
    {
     "data": {
      "text/html": [
       "<div>\n",
       "<style scoped>\n",
       "    .dataframe tbody tr th:only-of-type {\n",
       "        vertical-align: middle;\n",
       "    }\n",
       "\n",
       "    .dataframe tbody tr th {\n",
       "        vertical-align: top;\n",
       "    }\n",
       "\n",
       "    .dataframe thead th {\n",
       "        text-align: right;\n",
       "    }\n",
       "</style>\n",
       "<table border=\"1\" class=\"dataframe\">\n",
       "  <thead>\n",
       "    <tr style=\"text-align: right;\">\n",
       "      <th></th>\n",
       "      <th>#</th>\n",
       "      <th>Name</th>\n",
       "      <th>Type 1</th>\n",
       "      <th>Type 2</th>\n",
       "      <th>Total</th>\n",
       "      <th>HP</th>\n",
       "      <th>Attack</th>\n",
       "      <th>Defense</th>\n",
       "      <th>Sp. Atk</th>\n",
       "      <th>Sp. Def</th>\n",
       "      <th>Speed</th>\n",
       "      <th>Generation</th>\n",
       "      <th>Legendary</th>\n",
       "    </tr>\n",
       "  </thead>\n",
       "  <tbody>\n",
       "    <tr>\n",
       "      <th>90</th>\n",
       "      <td>83</td>\n",
       "      <td>Farfetch'd</td>\n",
       "      <td>Normal</td>\n",
       "      <td>Flying</td>\n",
       "      <td>352</td>\n",
       "      <td>52</td>\n",
       "      <td>65</td>\n",
       "      <td>55</td>\n",
       "      <td>58</td>\n",
       "      <td>62</td>\n",
       "      <td>60</td>\n",
       "      <td>1</td>\n",
       "      <td>False</td>\n",
       "    </tr>\n",
       "  </tbody>\n",
       "</table>\n",
       "</div>"
      ],
      "text/plain": [
       "     #        Name  Type 1  Type 2  Total  HP  Attack  Defense  Sp. Atk  \\\n",
       "90  83  Farfetch'd  Normal  Flying    352  52      65       55       58   \n",
       "\n",
       "    Sp. Def  Speed  Generation  Legendary  \n",
       "90       62     60           1      False  "
      ]
     },
     "execution_count": 2,
     "metadata": {},
     "output_type": "execute_result"
    }
   ],
   "source": [
    "print(\"Before\")\n",
    "df[df['Name'] == \"Farfetch'd\"].head()"
   ]
  },
  {
   "cell_type": "code",
   "execution_count": 3,
   "metadata": {},
   "outputs": [
    {
     "name": "stdout",
     "output_type": "stream",
     "text": [
      "After\n"
     ]
    },
    {
     "data": {
      "text/html": [
       "<div>\n",
       "<style scoped>\n",
       "    .dataframe tbody tr th:only-of-type {\n",
       "        vertical-align: middle;\n",
       "    }\n",
       "\n",
       "    .dataframe tbody tr th {\n",
       "        vertical-align: top;\n",
       "    }\n",
       "\n",
       "    .dataframe thead th {\n",
       "        text-align: right;\n",
       "    }\n",
       "</style>\n",
       "<table border=\"1\" class=\"dataframe\">\n",
       "  <thead>\n",
       "    <tr style=\"text-align: right;\">\n",
       "      <th></th>\n",
       "      <th>#</th>\n",
       "      <th>Name</th>\n",
       "      <th>Type 1</th>\n",
       "      <th>Type 2</th>\n",
       "      <th>Total</th>\n",
       "      <th>HP</th>\n",
       "      <th>Attack</th>\n",
       "      <th>Defense</th>\n",
       "      <th>Sp. Atk</th>\n",
       "      <th>Sp. Def</th>\n",
       "      <th>Speed</th>\n",
       "      <th>Generation</th>\n",
       "      <th>Legendary</th>\n",
       "    </tr>\n",
       "  </thead>\n",
       "  <tbody>\n",
       "    <tr>\n",
       "      <th>90</th>\n",
       "      <td>83</td>\n",
       "      <td>Farfetch'd</td>\n",
       "      <td>Normal</td>\n",
       "      <td>Flying</td>\n",
       "      <td>352</td>\n",
       "      <td>52</td>\n",
       "      <td>65</td>\n",
       "      <td>55</td>\n",
       "      <td>58</td>\n",
       "      <td>62</td>\n",
       "      <td>60</td>\n",
       "      <td>1</td>\n",
       "      <td>True</td>\n",
       "    </tr>\n",
       "  </tbody>\n",
       "</table>\n",
       "</div>"
      ],
      "text/plain": [
       "     #        Name  Type 1  Type 2  Total  HP  Attack  Defense  Sp. Atk  \\\n",
       "90  83  Farfetch'd  Normal  Flying    352  52      65       55       58   \n",
       "\n",
       "    Sp. Def  Speed  Generation  Legendary  \n",
       "90       62     60           1       True  "
      ]
     },
     "execution_count": 3,
     "metadata": {},
     "output_type": "execute_result"
    }
   ],
   "source": [
    "def fix_farfetchd(df):\n",
    "    df.loc[(df['Name'] == \"Farfetch'd\"),'Legendary'] = True \n",
    "    return df\n",
    "    \n",
    "df = fix_farfetchd(df)\n",
    "\n",
    "print(\"After\")\n",
    "df[df['Name'] == \"Farfetch'd\"].head()"
   ]
  },
  {
   "cell_type": "markdown",
   "metadata": {},
   "source": [
    "<span style='color:Green'>🤩 **functional code & correct method**</span> \n",
    "\n",
    "<span style='color:Green'> This is indeed the best way to update a cell value!\n",
    ".loc[] allows to do it in one line, and avoids the SettingWithCopy warnings.\n",
    "Nice job with escaping the `'` with double quotes `\"` to define your string correctly.[you could have used `\\`  to parse the character correctly as well]\n",
    "Creating a function is great as well, specially if we wanted to reuse this code. </span> "
   ]
  },
  {
   "cell_type": "code",
   "execution_count": 4,
   "metadata": {},
   "outputs": [
    {
     "name": "stdout",
     "output_type": "stream",
     "text": [
      "Success! 🎉\n"
     ]
    }
   ],
   "source": [
    "def test_farfetchd_update():\n",
    "    legendary_count = df['Legendary'].sum()\n",
    "    assert legendary_count == 66, f\"With Farfetch'd, there should now be 66 legendary pokemons, but there are only {legendary_count}\" \n",
    "    print('Success! 🎉')\n",
    "    \n",
    "test_farfetchd_update()"
   ]
  },
  {
   "cell_type": "markdown",
   "metadata": {},
   "source": [
    "## Problem 2\n",
    "\n",
    "Your pokemons always run out of hit points in battle 😒. Find the pokemon with the highest `HP` stat!\n",
    "\n",
    "💪 **Task: Find the `Name` of the pokemon with the highest `HP` value.**\n",
    "\n",
    "The name should be printed out by the code cell below:"
   ]
  },
  {
   "cell_type": "code",
   "execution_count": 5,
   "metadata": {},
   "outputs": [
    {
     "name": "stdout",
     "output_type": "stream",
     "text": [
      "The pokemon with the highest HP is : Blissey\n"
     ]
    }
   ],
   "source": [
    "print(\"The pokemon with the highest HP is : {}\".format(df.loc[(df['HP'] == df['HP'].max()),'Name'].values[0]))"
   ]
  },
  {
   "cell_type": "markdown",
   "metadata": {},
   "source": [
    "<span style='color:Green'>🙂 **functional code**</span> \n",
    "\n",
    "<span style='color:Green'> Your code works great, and boolean masks have a lot of tricks up their sleeves. Another way to do this would have been using the [`.idxmax()`](https://pandas.pydata.org/pandas-docs/stable/reference/api/pandas.Series.idxmax.html) method. It returns the _label_ index of the max value of a `Series` or a `DataFrame`. We can use it to solve this task by:\n",
    "    1. selecting the relevant column  \n",
    "    2. finding the index label of the max value with `.idxmax()`  \n",
    "    3. using that label in `.loc[]` to fetch the correct cell  \n",
    "<span style='color:Green'>Here's an example below:  </span>    "
   ]
  },
  {
   "cell_type": "code",
   "execution_count": 6,
   "metadata": {},
   "outputs": [
    {
     "data": {
      "text/plain": [
       "'Blissey'"
      ]
     },
     "execution_count": 6,
     "metadata": {},
     "output_type": "execute_result"
    }
   ],
   "source": [
    "df.loc[df['HP'].idxmax(), 'Name']"
   ]
  },
  {
   "cell_type": "markdown",
   "metadata": {},
   "source": [
    "<span style='color:Green'>it surely looks elegant! ✨</span> "
   ]
  },
  {
   "cell_type": "markdown",
   "metadata": {},
   "source": [
    "## Problem 3\n",
    "\n",
    "Everyone knows that winning battles is all about attack. If only there was a way to know which pokemon had the highest combined `Attack` and `Sp. Atk`...\n",
    "\n",
    "💪 **Task: Create a new column called `Total Attack` defined as follows:**\n",
    "\n",
    "$\n",
    "Total\\, Attack = Attack + Sp. Atk\n",
    "$\n"
   ]
  },
  {
   "cell_type": "code",
   "execution_count": 7,
   "metadata": {},
   "outputs": [],
   "source": [
    "df['Total Attack'] = df['Attack'] + df['Sp. Atk']"
   ]
  },
  {
   "cell_type": "markdown",
   "metadata": {},
   "source": [
    "<span style='color:Green'>🤩 **functional code & correct method**</span>  \n",
    "\n",
    "<span style='color:Green'> \n",
    "    This is the best way to create a new column according to that `Total Attack` equation.  \n",
    "    Using the overloaded `+` operator makes it clear and concise.</span> "
   ]
  },
  {
   "cell_type": "code",
   "execution_count": 8,
   "metadata": {},
   "outputs": [
    {
     "name": "stdout",
     "output_type": "stream",
     "text": [
      "Success! 🎉\n",
      "Success! 🎉\n"
     ]
    }
   ],
   "source": [
    "def test_total_attack_column():\n",
    "    assert 'Total Attack' in df.columns, f'Total Attack is missing from the dataframe\\'s columns'\n",
    "    print('Success! 🎉')\n",
    "    \n",
    "def test_total_attack_values():\n",
    "    assert df.loc[666, 'Total Attack'] == 140, f\"There was an error in the Total Attack value\"\n",
    "    print('Success! 🎉')\n",
    "\n",
    "test_total_attack_column()\n",
    "test_total_attack_values()"
   ]
  },
  {
   "cell_type": "markdown",
   "metadata": {},
   "source": [
    "## Problem 4\n",
    "\n",
    "You would like to train pokemons of similar type, since you aspire to one day become another Gym Leader with a single weakness 🤷‍♂️. But since you are data driven, you would like to pick only the \"smart\" pokemon types that have high average `Sp. Def`.\n",
    "\n",
    "💪  **Task: _Filter_ your dataframe so that only `Type 1` groups whose average `Sp. Def` is greater than 80 remain.**\n",
    "\n",
    "Pro-tip 1: you should only consider `Type 1` in this exercise.  \n",
    "Pro-tip 2: make sure that you update the `df` variable with the new filtered dataframe.\n"
   ]
  },
  {
   "cell_type": "code",
   "execution_count": 9,
   "metadata": {},
   "outputs": [],
   "source": [
    "df = df.groupby('Type 1').filter(lambda df: df['Sp. Def'].mean() > 80.)"
   ]
  },
  {
   "cell_type": "code",
   "execution_count": 10,
   "metadata": {},
   "outputs": [
    {
     "data": {
      "text/html": [
       "<div>\n",
       "<style scoped>\n",
       "    .dataframe tbody tr th:only-of-type {\n",
       "        vertical-align: middle;\n",
       "    }\n",
       "\n",
       "    .dataframe tbody tr th {\n",
       "        vertical-align: top;\n",
       "    }\n",
       "\n",
       "    .dataframe thead th {\n",
       "        text-align: right;\n",
       "    }\n",
       "</style>\n",
       "<table border=\"1\" class=\"dataframe\">\n",
       "  <thead>\n",
       "    <tr style=\"text-align: right;\">\n",
       "      <th></th>\n",
       "      <th>#</th>\n",
       "      <th>Name</th>\n",
       "      <th>Type 1</th>\n",
       "      <th>Type 2</th>\n",
       "      <th>Total</th>\n",
       "      <th>HP</th>\n",
       "      <th>Attack</th>\n",
       "      <th>Defense</th>\n",
       "      <th>Sp. Atk</th>\n",
       "      <th>Sp. Def</th>\n",
       "      <th>Speed</th>\n",
       "      <th>Generation</th>\n",
       "      <th>Legendary</th>\n",
       "      <th>Total Attack</th>\n",
       "    </tr>\n",
       "  </thead>\n",
       "  <tbody>\n",
       "    <tr>\n",
       "      <th>40</th>\n",
       "      <td>35</td>\n",
       "      <td>Clefairy</td>\n",
       "      <td>Fairy</td>\n",
       "      <td>NaN</td>\n",
       "      <td>323</td>\n",
       "      <td>70</td>\n",
       "      <td>45</td>\n",
       "      <td>48</td>\n",
       "      <td>60</td>\n",
       "      <td>65</td>\n",
       "      <td>35</td>\n",
       "      <td>1</td>\n",
       "      <td>False</td>\n",
       "      <td>105</td>\n",
       "    </tr>\n",
       "    <tr>\n",
       "      <th>41</th>\n",
       "      <td>36</td>\n",
       "      <td>Clefable</td>\n",
       "      <td>Fairy</td>\n",
       "      <td>NaN</td>\n",
       "      <td>483</td>\n",
       "      <td>95</td>\n",
       "      <td>70</td>\n",
       "      <td>73</td>\n",
       "      <td>95</td>\n",
       "      <td>90</td>\n",
       "      <td>60</td>\n",
       "      <td>1</td>\n",
       "      <td>False</td>\n",
       "      <td>165</td>\n",
       "    </tr>\n",
       "    <tr>\n",
       "      <th>68</th>\n",
       "      <td>63</td>\n",
       "      <td>Abra</td>\n",
       "      <td>Psychic</td>\n",
       "      <td>NaN</td>\n",
       "      <td>310</td>\n",
       "      <td>25</td>\n",
       "      <td>20</td>\n",
       "      <td>15</td>\n",
       "      <td>105</td>\n",
       "      <td>55</td>\n",
       "      <td>90</td>\n",
       "      <td>1</td>\n",
       "      <td>False</td>\n",
       "      <td>125</td>\n",
       "    </tr>\n",
       "    <tr>\n",
       "      <th>69</th>\n",
       "      <td>64</td>\n",
       "      <td>Kadabra</td>\n",
       "      <td>Psychic</td>\n",
       "      <td>NaN</td>\n",
       "      <td>400</td>\n",
       "      <td>40</td>\n",
       "      <td>35</td>\n",
       "      <td>30</td>\n",
       "      <td>120</td>\n",
       "      <td>70</td>\n",
       "      <td>105</td>\n",
       "      <td>1</td>\n",
       "      <td>False</td>\n",
       "      <td>155</td>\n",
       "    </tr>\n",
       "    <tr>\n",
       "      <th>70</th>\n",
       "      <td>65</td>\n",
       "      <td>Alakazam</td>\n",
       "      <td>Psychic</td>\n",
       "      <td>NaN</td>\n",
       "      <td>500</td>\n",
       "      <td>55</td>\n",
       "      <td>50</td>\n",
       "      <td>45</td>\n",
       "      <td>135</td>\n",
       "      <td>95</td>\n",
       "      <td>120</td>\n",
       "      <td>1</td>\n",
       "      <td>False</td>\n",
       "      <td>185</td>\n",
       "    </tr>\n",
       "  </tbody>\n",
       "</table>\n",
       "</div>"
      ],
      "text/plain": [
       "     #      Name   Type 1 Type 2  Total  HP  Attack  Defense  Sp. Atk  \\\n",
       "40  35  Clefairy    Fairy    NaN    323  70      45       48       60   \n",
       "41  36  Clefable    Fairy    NaN    483  95      70       73       95   \n",
       "68  63      Abra  Psychic    NaN    310  25      20       15      105   \n",
       "69  64   Kadabra  Psychic    NaN    400  40      35       30      120   \n",
       "70  65  Alakazam  Psychic    NaN    500  55      50       45      135   \n",
       "\n",
       "    Sp. Def  Speed  Generation  Legendary  Total Attack  \n",
       "40       65     35           1      False           105  \n",
       "41       90     60           1      False           165  \n",
       "68       55     90           1      False           125  \n",
       "69       70    105           1      False           155  \n",
       "70       95    120           1      False           185  "
      ]
     },
     "execution_count": 10,
     "metadata": {},
     "output_type": "execute_result"
    }
   ],
   "source": [
    "#looking at our data is always a good idea!\n",
    "df.head()"
   ]
  },
  {
   "cell_type": "markdown",
   "metadata": {},
   "source": [
    "<span style='color:Green'>🤩 **functional code & correct method**</span> \n",
    "\n",
    "<span style='color:Green'> \n",
    "    Could not have been executed better 👏\n",
    "    This is the best method to filter a grouping.   \n",
    "    The `.groupby()` + `.filter()` syntax is both short and succinct.  \n",
    "    The `lambda` allows you to define your own _filtering function_ in a single line.\n",
    "    the `.mean()` is a convenient way to calculate group means without reinventing the wheel."
   ]
  },
  {
   "cell_type": "code",
   "execution_count": 11,
   "metadata": {},
   "outputs": [
    {
     "name": "stdout",
     "output_type": "stream",
     "text": [
      "Success! 🎉\n"
     ]
    }
   ],
   "source": [
    "def test_filter_weak_types():\n",
    "    n_unique_type1 = df['Type 1'].nunique()\n",
    "    assert n_unique_type1 == 4, f'Found {n_unique_type1} unique values of \"Type 1\" after filtering, expected 4'\n",
    "    assert len(df) == 133, f'Found {len(df)} pokemons after filtering, expected 133'\n",
    "    print('Success! 🎉')\n",
    "    \n",
    "test_filter_weak_types()"
   ]
  },
  {
   "cell_type": "markdown",
   "metadata": {},
   "source": [
    "## Problem 5\n",
    "\n",
    "Finally, you would like to save this dataframe of \"smart pokemons\" as a new dataset in your pokedex, so that later you can pick your best friend and defend the world. 🌏\n",
    "\n",
    "💪 **Task: Save the filtered dataframe of \"smart\" pokemons to a new dataset, under `pokedex/smart_pokemons.csv`.**\n",
    "\n",
    "Pro-tip: you might want to look up this [method](https://pandas.pydata.org/pandas-docs/stable/reference/api/pandas.DataFrame.to_csv.html).\n",
    "\n"
   ]
  },
  {
   "cell_type": "code",
   "execution_count": 12,
   "metadata": {},
   "outputs": [],
   "source": [
    "df.to_csv(\"pokedex/smart_pokemons.csv\")"
   ]
  },
  {
   "cell_type": "markdown",
   "metadata": {},
   "source": [
    "<span style='color:Green'>🤩 **functional code & correct method**</span> \n",
    "\n",
    "<span style='color:Green'> \n",
    "    This is the best way to save a `DataFrame` as `.csv`.  \n",
    "    You can also use the `header` and `index` arguments in the `.to_csv()` method to control the format of the saved file."
   ]
  },
  {
   "cell_type": "code",
   "execution_count": 13,
   "metadata": {},
   "outputs": [
    {
     "name": "stdout",
     "output_type": "stream",
     "text": [
      "Success! 🎉\n"
     ]
    }
   ],
   "source": [
    "def test_new_dataset():\n",
    "    datasets = !ls pokedex\n",
    "    assert len(datasets) == 2, f'Expected 2 datasets, pokemons and smart_pokemons, but found {len(datasets)}'\n",
    "    df = pd.read_csv('pokedex/smart_pokemons.csv')\n",
    "    assert len(df) == 133, f'Found {len(df)} smart pokemons, expected 133'\n",
    "    print('Success! 🎉')\n",
    "    \n",
    "test_new_dataset()"
   ]
  },
  {
   "cell_type": "markdown",
   "metadata": {},
   "source": [
    "<span style='color:Green'>**Feedback: 🤩**</span> \n",
    "\n",
    "<span style='color:Green'> \n",
    "    Great work Amine! The only possible improvement was using the `.idxmax()` method in problem 2, but I kinda like that you're already comfortable with boolean masks 😋. </span>"
   ]
  }
 ],
 "metadata": {
  "kernelspec": {
   "display_name": "Python 3",
   "language": "python",
   "name": "python3"
  },
  "language_info": {
   "codemirror_mode": {
    "name": "ipython",
    "version": 3
   },
   "file_extension": ".py",
   "mimetype": "text/x-python",
   "name": "python",
   "nbconvert_exporter": "python",
   "pygments_lexer": "ipython3",
   "version": "3.9.4"
  }
 },
 "nbformat": 4,
 "nbformat_minor": 4
}

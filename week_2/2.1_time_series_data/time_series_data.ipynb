{
 "cells": [
  {
   "cell_type": "markdown",
   "metadata": {},
   "source": [
    "# Lecture 1.4: Time Series Data\n",
    "\n",
    "This lecture, we are going to learn about pandas' [time series & date functionality](https://pandas.pydata.org/pandas-docs/stable/user_guide/timeseries.html#time-series-date-functionality) by exploring a Google trends [dataset](https://www.kaggle.com/GoogleNewsLab/food-searches-on-google-since-2004) of popular food search terms.\n",
    "\n",
    "**Learning goals:**\n",
    "- List the main time classes and apis in pandas\n",
    "- Set a time index in a DataFrame\n",
    "- Select dates and date ranges from a time index\n",
    "- Pivot a stacked table\n",
    "- Explore time series data with data visualization\n",
    "- Shift a time series\n",
    "- Calculate a rolling statistic\n",
    "- Resample a time series\n",
    "- Interpolate missing values"
   ]
  },
  {
   "cell_type": "markdown",
   "metadata": {},
   "source": [
    "## 1. Introduction to Time Series"
   ]
  },
  {
   "cell_type": "markdown",
   "metadata": {},
   "source": [
    "A Time Series is a sequence of data points indexed by _time_. In Pandas, there are **three** main classes related to time series. According to the [official documentation](https://pandas.pydata.org/docs/user_guide/timeseries.html#overview):\n",
    "\n",
    ">**Timestamp**: A specific date and time with timezone support  \n",
    "**Timedelta**: An absolute time duration  \n",
    "**Period**: A span of time defined by a point in time and its associated frequency  \n"
   ]
  },
  {
   "cell_type": "markdown",
   "metadata": {},
   "source": [
    "### 1.1 Timestamp\n",
    "\n",
    "🕗 The pandas [`Timestamp`](https://pandas.pydata.org/pandas-docs/stable/reference/api/pandas.Timestamp.html) represents a specific point in time."
   ]
  },
  {
   "cell_type": "code",
   "execution_count": 1,
   "metadata": {},
   "outputs": [
    {
     "name": "stderr",
     "output_type": "stream",
     "text": [
      "/Users/amine/.local/share/virtualenvs/practical-data-scientist-umj5maBJ-python/lib/python3.9/site-packages/pandas/compat/__init__.py:97: UserWarning: Could not import the lzma module. Your installed Python is incomplete. Attempting to use lzma compression will result in a RuntimeError.\n",
      "  warnings.warn(msg)\n"
     ]
    },
    {
     "data": {
      "text/plain": [
       "Timestamp('2012-12-21 00:00:00')"
      ]
     },
     "execution_count": 1,
     "metadata": {},
     "output_type": "execute_result"
    }
   ],
   "source": [
    "import pandas as pd\n",
    "\n",
    "pd.Timestamp('2012-12-21')"
   ]
  },
  {
   "cell_type": "markdown",
   "metadata": {},
   "source": [
    "Like most other pandas classes, it wraps an efficient NumPy [dtype](https://docs.scipy.org/doc/numpy/reference/arrays.datetime.html#basic-datetimes) with useful methods and apis. For example, it exposes [time components](https://pandas.pydata.org/pandas-docs/stable/user_guide/timeseries.html#time-date-components):"
   ]
  },
  {
   "cell_type": "code",
   "execution_count": 2,
   "metadata": {},
   "outputs": [
    {
     "name": "stdout",
     "output_type": "stream",
     "text": [
      "4\n",
      "Friday\n"
     ]
    }
   ],
   "source": [
    "dt = pd.Timestamp('2012-12-21')\n",
    "print(dt.dayofweek)\n",
    "print(dt.day_name())"
   ]
  },
  {
   "cell_type": "markdown",
   "metadata": {},
   "source": [
    "The `Timestamp` constructor parses many datetime representations, including python `datetime` and NumPy `datetime64`:"
   ]
  },
  {
   "cell_type": "code",
   "execution_count": 3,
   "metadata": {},
   "outputs": [
    {
     "name": "stdout",
     "output_type": "stream",
     "text": [
      "2012-12-21 00:00:00\n",
      "2012-12-21 00:00:00\n",
      "2012-12-21 00:00:00\n"
     ]
    }
   ],
   "source": [
    "import datetime\n",
    "import numpy as np\n",
    "\n",
    "print(pd.Timestamp(2012, 12, 21))\n",
    "\n",
    "print(pd.Timestamp(datetime.datetime(2012, 12, 21)))\n",
    "\n",
    "print(pd.Timestamp(np.datetime64('2012-12-21')))\n"
   ]
  },
  {
   "cell_type": "markdown",
   "metadata": {},
   "source": [
    "However, pandas offers the convenient [`.to_datetime()`](https://pandas.pydata.org/pandas-docs/stable/reference/api/pandas.to_datetime.html) method, which parses almost anything you'll throw at it. So no need to use `Timestamp` constructors directly!"
   ]
  },
  {
   "cell_type": "code",
   "execution_count": 4,
   "metadata": {},
   "outputs": [
    {
     "name": "stdout",
     "output_type": "stream",
     "text": [
      "2012-12-21 00:00:00\n",
      "2012-12-21 00:00:00\n",
      "2012-12-21 00:00:00\n"
     ]
    }
   ],
   "source": [
    "print(pd.to_datetime('21-12-2012'))\n",
    "print(pd.to_datetime('2012-12-21'))\n",
    "print(pd.to_datetime('21st of December 2012'))"
   ]
  },
  {
   "cell_type": "markdown",
   "metadata": {},
   "source": [
    "### 1.2 Timedelta\n",
    "\n",
    "⏱ The pandas [`Timedelta`](https://pandas.pydata.org/pandas-docs/stable/user_guide/timedeltas.html) represents a duration of time."
   ]
  },
  {
   "cell_type": "code",
   "execution_count": 5,
   "metadata": {},
   "outputs": [
    {
     "data": {
      "text/plain": [
       "Timedelta('69 days 18:00:00')"
      ]
     },
     "execution_count": 5,
     "metadata": {},
     "output_type": "execute_result"
    }
   ],
   "source": [
    "pd.Timedelta('42 days 666 hours')"
   ]
  },
  {
   "cell_type": "markdown",
   "metadata": {},
   "source": [
    "These durations can also be negative:"
   ]
  },
  {
   "cell_type": "code",
   "execution_count": 6,
   "metadata": {},
   "outputs": [
    {
     "data": {
      "text/plain": [
       "Timedelta('-1 days +22:56:56.999993')"
      ]
     },
     "execution_count": 6,
     "metadata": {},
     "output_type": "execute_result"
    }
   ],
   "source": [
    "pd.Timedelta('-1 hr 3 min 3 s 7us')"
   ]
  },
  {
   "cell_type": "markdown",
   "metadata": {},
   "source": [
    "Just like `Timestamp`, `Timedelta` parses many data types, including python `timedelta` and NumPy `timedelta64`:"
   ]
  },
  {
   "cell_type": "code",
   "execution_count": 7,
   "metadata": {},
   "outputs": [
    {
     "name": "stdout",
     "output_type": "stream",
     "text": [
      "69 days 18:00:00\n",
      "69 days 18:00:00\n",
      "0 days 00:00:00.001000\n"
     ]
    }
   ],
   "source": [
    "print(pd.Timedelta(days=42, hours=666))\n",
    "print(pd.Timedelta(datetime.timedelta(days=42, hours=666)))\n",
    "print(pd.Timedelta(np.timedelta64(1, 'ms')))"
   ]
  },
  {
   "cell_type": "markdown",
   "metadata": {},
   "source": [
    "`Timedelta`s are particularly useful to carry out arithmetic operations on `Timestamp`s. For example:"
   ]
  },
  {
   "cell_type": "code",
   "execution_count": 8,
   "metadata": {},
   "outputs": [
    {
     "name": "stdout",
     "output_type": "stream",
     "text": [
      "The 21st of December 2012 was a Friday\n",
      "The day after was a Saturday\n",
      "It has been 3083 days since the end of the world! 🙀\n"
     ]
    }
   ],
   "source": [
    "day1 = pd.Timestamp('2012-12-21')\n",
    "print(f'The 21st of December 2012 was a {day1.day_name()}')\n",
    "\n",
    "day2 = day1 + pd.Timedelta('1 day')\n",
    "print(f'The day after was a {day2.day_name()}')\n",
    "\n",
    "td = pd.Timestamp.now() - pd.Timestamp('2012-12-21')\n",
    "print(f'It has been {td.days} days since the end of the world! 🙀')"
   ]
  },
  {
   "cell_type": "markdown",
   "metadata": {},
   "source": [
    "### 1.3 Period"
   ]
  },
  {
   "cell_type": "markdown",
   "metadata": {},
   "source": [
    "⏳ [`Period`](https://pandas.pydata.org/pandas-docs/stable/reference/api/pandas.Period.html) represents fixed-frequency intervals.\n",
    "\n",
    "For example, let's make a period with one hour frequency, starting on the 21st of December 2012:"
   ]
  },
  {
   "cell_type": "code",
   "execution_count": 9,
   "metadata": {},
   "outputs": [
    {
     "data": {
      "text/plain": [
       "Period('2012-12-21 00:00', 'H')"
      ]
     },
     "execution_count": 9,
     "metadata": {},
     "output_type": "execute_result"
    }
   ],
   "source": [
    "pd.Period('2012-12-21', freq='h')"
   ]
  },
  {
   "cell_type": "markdown",
   "metadata": {},
   "source": [
    "You don't always have to specify the period. In fact, pandas will infer it based on the date format used as argument:"
   ]
  },
  {
   "cell_type": "code",
   "execution_count": 10,
   "metadata": {},
   "outputs": [
    {
     "name": "stdout",
     "output_type": "stream",
     "text": [
      "Period('2011-01-01', 'D')\n",
      "Period('2011-01', 'M')\n"
     ]
    }
   ],
   "source": [
    "print(repr(pd.Period('2011-01-01')))\n",
    "print(repr(pd.Period('2011-01')))"
   ]
  },
  {
   "cell_type": "markdown",
   "metadata": {},
   "source": [
    "Periods aren't very useful on their own, but shine when used as a TimeSeries _index_. More on this in [this section](#2.-Time-Indexing)."
   ]
  },
  {
   "cell_type": "markdown",
   "metadata": {},
   "source": [
    "## 2. Time Indexing\n",
    "\n",
    "The `Timestamp`, `Timedelta`, and `Period` classes are quite fun for manipulating dates and time intervals, but this is a lecture about _time series_ , i.e sequences of time data. For this, we need to create time indices. \n",
    "\n",
    "There are three main types of time indices, one for each of the time classes:\n",
    "- `DatetimeIndex` is a sequence of `Timestamp`\n",
    "- `TimedeltaIndex` is a sequence of `Timedelta`\n",
    "- `PeriodIndex` is a sequence of `Period`\n",
    "\n",
    "(More details in the [official documentation](https://pandas.pydata.org/pandas-docs/stable/user_guide/timeseries.html#overview))\n",
    "\n",
    "Let's create a `DatetimeIndex`:"
   ]
  },
  {
   "cell_type": "code",
   "execution_count": 11,
   "metadata": {},
   "outputs": [
    {
     "data": {
      "text/plain": [
       "DatetimeIndex(['2020-01-01', '2020-01-04', '2020-01-05', '2024-03-09'], dtype='datetime64[ns]', freq=None)"
      ]
     },
     "execution_count": 11,
     "metadata": {},
     "output_type": "execute_result"
    }
   ],
   "source": [
    "pd.DatetimeIndex(['2020-01-01', '2020-01-04', '2020-01-05', '2024-03-09']) "
   ]
  },
  {
   "cell_type": "markdown",
   "metadata": {},
   "source": [
    "As always, pandas offers a more convenient way to construct `DatetimeIndex`. Use `pd.date_range()` to create regularly spaced sequences of `Timestamp`s."
   ]
  },
  {
   "cell_type": "code",
   "execution_count": 12,
   "metadata": {},
   "outputs": [
    {
     "data": {
      "text/plain": [
       "DatetimeIndex(['1969-07-20 00:00:00', '1969-07-20 01:00:00',\n",
       "               '1969-07-20 02:00:00', '1969-07-20 03:00:00'],\n",
       "              dtype='datetime64[ns]', freq='H')"
      ]
     },
     "execution_count": 12,
     "metadata": {},
     "output_type": "execute_result"
    }
   ],
   "source": [
    "pd.date_range('1969-07-20', periods=4, freq='H')"
   ]
  },
  {
   "cell_type": "markdown",
   "metadata": {},
   "source": [
    "We can also do the same with `TimedeltaIndex` and `PeriodIndex`:"
   ]
  },
  {
   "cell_type": "code",
   "execution_count": 13,
   "metadata": {},
   "outputs": [
    {
     "data": {
      "text/plain": [
       "TimedeltaIndex(['0 days 00:00:00', '0 days 01:00:00', '0 days 02:00:00',\n",
       "                '0 days 03:00:00'],\n",
       "               dtype='timedelta64[ns]', freq='H')"
      ]
     },
     "execution_count": 13,
     "metadata": {},
     "output_type": "execute_result"
    }
   ],
   "source": [
    "pd.timedelta_range(0, periods=4, freq='H')"
   ]
  },
  {
   "cell_type": "code",
   "execution_count": 14,
   "metadata": {},
   "outputs": [
    {
     "data": {
      "text/plain": [
       "PeriodIndex(['1969-07-20 00:00', '1969-07-20 01:00', '1969-07-20 02:00',\n",
       "             '1969-07-20 03:00'],\n",
       "            dtype='period[H]', freq='H')"
      ]
     },
     "execution_count": 14,
     "metadata": {},
     "output_type": "execute_result"
    }
   ],
   "source": [
    "pd.period_range('1969-07-20', periods=4, freq='H')"
   ]
  },
  {
   "cell_type": "markdown",
   "metadata": {},
   "source": [
    "🧠 Notice that the `PeriodIndex` constructor looks exactly the same as the `DatetimeIndex` constructor... Can you explain the difference between these two types of indices?\n",
    "\n",
    "We've created time indices... Now let's use them in a `Series`!\n"
   ]
  },
  {
   "cell_type": "code",
   "execution_count": 15,
   "metadata": {},
   "outputs": [
    {
     "data": {
      "text/plain": [
       "2000-01-01    2.209096\n",
       "2000-01-02    1.209691\n",
       "2000-01-03   -0.892760\n",
       "2000-01-04   -0.263146\n",
       "2000-01-05    0.953360\n",
       "Freq: D, dtype: float64"
      ]
     },
     "execution_count": 15,
     "metadata": {},
     "output_type": "execute_result"
    }
   ],
   "source": [
    "index = pd.date_range('2000-01-01', periods=60, freq='D')\n",
    "ts = pd.Series(np.random.randn(len(index)), index=index)\n",
    "ts.head()"
   ]
  },
  {
   "cell_type": "markdown",
   "metadata": {},
   "source": [
    "Notice how the series is \"aware\" of its index frequency, `D` (one day).\n",
    "\n",
    "Since our time series is still a pandas `Series`, we can use all the indexing tricks learnt in lecture 1.2:"
   ]
  },
  {
   "cell_type": "code",
   "execution_count": 16,
   "metadata": {},
   "outputs": [
    {
     "data": {
      "text/plain": [
       "0.9533604535200461"
      ]
     },
     "execution_count": 16,
     "metadata": {},
     "output_type": "execute_result"
    }
   ],
   "source": [
    "# selecting by index label\n",
    "ts['2000-01-05']"
   ]
  },
  {
   "cell_type": "code",
   "execution_count": 17,
   "metadata": {},
   "outputs": [
    {
     "data": {
      "text/plain": [
       "0.9533604535200461"
      ]
     },
     "execution_count": 17,
     "metadata": {},
     "output_type": "execute_result"
    }
   ],
   "source": [
    "# selecting by index position\n",
    "ts[4]"
   ]
  },
  {
   "cell_type": "code",
   "execution_count": 18,
   "metadata": {},
   "outputs": [
    {
     "data": {
      "text/plain": [
       "2000-01-03   -0.892760\n",
       "2000-01-04   -0.263146\n",
       "2000-01-05    0.953360\n",
       "Freq: D, dtype: float64"
      ]
     },
     "execution_count": 18,
     "metadata": {},
     "output_type": "execute_result"
    }
   ],
   "source": [
    "# list slicing 3rd element through to 5th element\n",
    "ts[2:5]"
   ]
  },
  {
   "cell_type": "code",
   "execution_count": 19,
   "metadata": {},
   "outputs": [
    {
     "data": {
      "text/plain": [
       "2000-01-01    2.209096\n",
       "2000-01-05    0.953360\n",
       "2000-01-09   -0.674513\n",
       "2000-01-13   -0.801993\n",
       "2000-01-17   -0.120817\n",
       "2000-01-21   -0.073598\n",
       "2000-01-25   -1.082701\n",
       "2000-01-29   -2.019416\n",
       "2000-02-02   -0.780613\n",
       "2000-02-06    0.684251\n",
       "2000-02-10   -0.685323\n",
       "2000-02-14    0.499117\n",
       "2000-02-18   -0.823632\n",
       "2000-02-22    0.349687\n",
       "2000-02-26    0.996855\n",
       "Freq: 4D, dtype: float64"
      ]
     },
     "execution_count": 19,
     "metadata": {},
     "output_type": "execute_result"
    }
   ],
   "source": [
    "# list slicing elements in steps of 4\n",
    "ts[::4]"
   ]
  },
  {
   "cell_type": "markdown",
   "metadata": {},
   "source": [
    " Having a time index opens up many more possibilities with data selection. For example, we can..."
   ]
  },
  {
   "cell_type": "code",
   "execution_count": 20,
   "metadata": {},
   "outputs": [
    {
     "data": {
      "text/plain": [
       "0.9533604535200461"
      ]
     },
     "execution_count": 20,
     "metadata": {},
     "output_type": "execute_result"
    }
   ],
   "source": [
    "# selecting by index label with datetime object\n",
    "ts[datetime.datetime(2000, 1, 5)]"
   ]
  },
  {
   "cell_type": "code",
   "execution_count": 21,
   "metadata": {},
   "outputs": [
    {
     "data": {
      "text/plain": [
       "0.9533604535200461"
      ]
     },
     "execution_count": 21,
     "metadata": {},
     "output_type": "execute_result"
    }
   ],
   "source": [
    "# selecting by index label with parsed datetime string\n",
    "ts['01/05/2000']"
   ]
  },
  {
   "cell_type": "code",
   "execution_count": 22,
   "metadata": {},
   "outputs": [
    {
     "data": {
      "text/plain": [
       "2000-01-03   -0.892760\n",
       "2000-01-04   -0.263146\n",
       "2000-01-05    0.953360\n",
       "Freq: D, dtype: float64"
      ]
     },
     "execution_count": 22,
     "metadata": {},
     "output_type": "execute_result"
    }
   ],
   "source": [
    "# selecting by slice of parsed datetime string\n",
    "ts['3rd of January 2000':'5th of January 2000']"
   ]
  },
  {
   "cell_type": "code",
   "execution_count": 23,
   "metadata": {
    "scrolled": true
   },
   "outputs": [
    {
     "data": {
      "text/plain": [
       "2000-02-01   -0.256496\n",
       "2000-02-02   -0.780613\n",
       "2000-02-03    0.046753\n",
       "2000-02-04    0.711641\n",
       "2000-02-05    1.824882\n",
       "2000-02-06    0.684251\n",
       "2000-02-07   -1.516002\n",
       "2000-02-08    1.199076\n",
       "2000-02-09    0.860225\n",
       "2000-02-10   -0.685323\n",
       "2000-02-11    0.740630\n",
       "2000-02-12    1.824545\n",
       "2000-02-13    0.564242\n",
       "2000-02-14    0.499117\n",
       "2000-02-15   -0.353612\n",
       "2000-02-16   -0.825033\n",
       "2000-02-17    0.480888\n",
       "2000-02-18   -0.823632\n",
       "2000-02-19   -0.865694\n",
       "2000-02-20   -1.539865\n",
       "2000-02-21    0.991682\n",
       "2000-02-22    0.349687\n",
       "2000-02-23    0.907741\n",
       "2000-02-24    0.516876\n",
       "2000-02-25   -1.991457\n",
       "2000-02-26    0.996855\n",
       "2000-02-27    0.289773\n",
       "2000-02-28   -0.296282\n",
       "2000-02-29    1.180664\n",
       "Freq: D, dtype: float64"
      ]
     },
     "execution_count": 23,
     "metadata": {},
     "output_type": "execute_result"
    }
   ],
   "source": [
    "# selecting by range of parsed datetime string\n",
    "ts['February 2000']"
   ]
  },
  {
   "cell_type": "markdown",
   "metadata": {},
   "source": [
    "And, of course, all of this magic also applies to dataframes:"
   ]
  },
  {
   "cell_type": "code",
   "execution_count": 24,
   "metadata": {},
   "outputs": [
    {
     "data": {
      "text/html": [
       "<div>\n",
       "<style scoped>\n",
       "    .dataframe tbody tr th:only-of-type {\n",
       "        vertical-align: middle;\n",
       "    }\n",
       "\n",
       "    .dataframe tbody tr th {\n",
       "        vertical-align: top;\n",
       "    }\n",
       "\n",
       "    .dataframe thead th {\n",
       "        text-align: right;\n",
       "    }\n",
       "</style>\n",
       "<table border=\"1\" class=\"dataframe\">\n",
       "  <thead>\n",
       "    <tr style=\"text-align: right;\">\n",
       "      <th></th>\n",
       "      <th>SAD</th>\n",
       "      <th>PEPE</th>\n",
       "    </tr>\n",
       "  </thead>\n",
       "  <tbody>\n",
       "    <tr>\n",
       "      <th>2012-12-21</th>\n",
       "      <td>1.115148</td>\n",
       "      <td>-0.095757</td>\n",
       "    </tr>\n",
       "    <tr>\n",
       "      <th>2012-12-22</th>\n",
       "      <td>0.307700</td>\n",
       "      <td>0.203979</td>\n",
       "    </tr>\n",
       "    <tr>\n",
       "      <th>2012-12-23</th>\n",
       "      <td>1.463932</td>\n",
       "      <td>-1.517248</td>\n",
       "    </tr>\n",
       "    <tr>\n",
       "      <th>2012-12-24</th>\n",
       "      <td>-2.511086</td>\n",
       "      <td>0.945868</td>\n",
       "    </tr>\n",
       "    <tr>\n",
       "      <th>2012-12-25</th>\n",
       "      <td>0.359524</td>\n",
       "      <td>-0.761378</td>\n",
       "    </tr>\n",
       "  </tbody>\n",
       "</table>\n",
       "</div>"
      ],
      "text/plain": [
       "                 SAD      PEPE\n",
       "2012-12-21  1.115148 -0.095757\n",
       "2012-12-22  0.307700  0.203979\n",
       "2012-12-23  1.463932 -1.517248\n",
       "2012-12-24 -2.511086  0.945868\n",
       "2012-12-25  0.359524 -0.761378"
      ]
     },
     "execution_count": 24,
     "metadata": {},
     "output_type": "execute_result"
    }
   ],
   "source": [
    "dft = pd.DataFrame(np.random.randn(666, 2), columns=['SAD', 'PEPE'], index=pd.date_range('20121221', periods=666, freq='D'))\n",
    "dft.head()"
   ]
  },
  {
   "cell_type": "code",
   "execution_count": 25,
   "metadata": {},
   "outputs": [
    {
     "data": {
      "text/plain": [
       "<AxesSubplot:>"
      ]
     },
     "execution_count": 25,
     "metadata": {},
     "output_type": "execute_result"
    },
    {
     "data": {
      "image/png": "[encoded data removed]",
      "text/plain": [
       "<Figure size 432x288 with 1 Axes>"
      ]
     },
     "metadata": {
      "needs_background": "light"
     },
     "output_type": "display_data"
    }
   ],
   "source": [
    "dft.loc['10th March 2013':'20th March 2013', :].plot.bar()"
   ]
  },
  {
   "cell_type": "markdown",
   "metadata": {},
   "source": [
    "🧠 Take the time to understand what's happening in the two cells above. What's used as arguments to the `DataFrame` constructor? What is being selected with the `.loc[]` operator?\n"
   ]
  },
  {
   "cell_type": "markdown",
   "metadata": {},
   "source": [
    "## 3. Time Series Data Exploration"
   ]
  },
  {
   "cell_type": "markdown",
   "metadata": {},
   "source": [
    "Now that we've conquered the basics of `TimeSeries`, let's put our skills to practice on some real data!\n",
    "\n",
    "The `food_searches.csv` dataset tracks the [Google trends](https://trends.google.com/trends) popularity of various foods and drinks from 2004 through 2016. Please bear in mind that most of this data is USA centric, so don't draw global conclusions on the trends just yet 🙃. \n",
    "\n",
    "Just like in lecture 1.2, let's start with some summary statistics to get insight into the values:"
   ]
  },
  {
   "cell_type": "code",
   "execution_count": 26,
   "metadata": {},
   "outputs": [
    {
     "data": {
      "text/html": [
       "<div>\n",
       "<style scoped>\n",
       "    .dataframe tbody tr th:only-of-type {\n",
       "        vertical-align: middle;\n",
       "    }\n",
       "\n",
       "    .dataframe tbody tr th {\n",
       "        vertical-align: top;\n",
       "    }\n",
       "\n",
       "    .dataframe thead th {\n",
       "        text-align: right;\n",
       "    }\n",
       "</style>\n",
       "<table border=\"1\" class=\"dataframe\">\n",
       "  <thead>\n",
       "    <tr style=\"text-align: right;\">\n",
       "      <th></th>\n",
       "      <th>id</th>\n",
       "      <th>googleTopic</th>\n",
       "      <th>week_id</th>\n",
       "      <th>value</th>\n",
       "    </tr>\n",
       "  </thead>\n",
       "  <tbody>\n",
       "    <tr>\n",
       "      <th>0</th>\n",
       "      <td>frozen-yogurt</td>\n",
       "      <td>/m/020b3f</td>\n",
       "      <td>2004-01</td>\n",
       "      <td>20</td>\n",
       "    </tr>\n",
       "    <tr>\n",
       "      <th>1</th>\n",
       "      <td>frozen-yogurt</td>\n",
       "      <td>/m/020b3f</td>\n",
       "      <td>2004-02</td>\n",
       "      <td>16</td>\n",
       "    </tr>\n",
       "    <tr>\n",
       "      <th>2</th>\n",
       "      <td>frozen-yogurt</td>\n",
       "      <td>/m/020b3f</td>\n",
       "      <td>2004-03</td>\n",
       "      <td>7</td>\n",
       "    </tr>\n",
       "    <tr>\n",
       "      <th>3</th>\n",
       "      <td>frozen-yogurt</td>\n",
       "      <td>/m/020b3f</td>\n",
       "      <td>2004-04</td>\n",
       "      <td>7</td>\n",
       "    </tr>\n",
       "    <tr>\n",
       "      <th>4</th>\n",
       "      <td>frozen-yogurt</td>\n",
       "      <td>/m/020b3f</td>\n",
       "      <td>2004-05</td>\n",
       "      <td>13</td>\n",
       "    </tr>\n",
       "  </tbody>\n",
       "</table>\n",
       "</div>"
      ],
      "text/plain": [
       "              id googleTopic  week_id  value\n",
       "0  frozen-yogurt   /m/020b3f  2004-01     20\n",
       "1  frozen-yogurt   /m/020b3f  2004-02     16\n",
       "2  frozen-yogurt   /m/020b3f  2004-03      7\n",
       "3  frozen-yogurt   /m/020b3f  2004-04      7\n",
       "4  frozen-yogurt   /m/020b3f  2004-05     13"
      ]
     },
     "execution_count": 26,
     "metadata": {},
     "output_type": "execute_result"
    }
   ],
   "source": [
    "import pandas as pd\n",
    "import numpy as np\n",
    "\n",
    "df = pd.read_csv('food_searches.csv')\n",
    "df.head()"
   ]
  },
  {
   "cell_type": "code",
   "execution_count": 27,
   "metadata": {},
   "outputs": [
    {
     "data": {
      "text/html": [
       "<div>\n",
       "<style scoped>\n",
       "    .dataframe tbody tr th:only-of-type {\n",
       "        vertical-align: middle;\n",
       "    }\n",
       "\n",
       "    .dataframe tbody tr th {\n",
       "        vertical-align: top;\n",
       "    }\n",
       "\n",
       "    .dataframe thead th {\n",
       "        text-align: right;\n",
       "    }\n",
       "</style>\n",
       "<table border=\"1\" class=\"dataframe\">\n",
       "  <thead>\n",
       "    <tr style=\"text-align: right;\">\n",
       "      <th></th>\n",
       "      <th>id</th>\n",
       "      <th>googleTopic</th>\n",
       "      <th>week_id</th>\n",
       "      <th>value</th>\n",
       "    </tr>\n",
       "  </thead>\n",
       "  <tbody>\n",
       "    <tr>\n",
       "      <th>count</th>\n",
       "      <td>135025</td>\n",
       "      <td>135025</td>\n",
       "      <td>135025</td>\n",
       "      <td>135025.000000</td>\n",
       "    </tr>\n",
       "    <tr>\n",
       "      <th>unique</th>\n",
       "      <td>201</td>\n",
       "      <td>195</td>\n",
       "      <td>676</td>\n",
       "      <td>NaN</td>\n",
       "    </tr>\n",
       "    <tr>\n",
       "      <th>top</th>\n",
       "      <td>mai-tai</td>\n",
       "      <td>/m/0cjs7</td>\n",
       "      <td>2015-45</td>\n",
       "      <td>NaN</td>\n",
       "    </tr>\n",
       "    <tr>\n",
       "      <th>freq</th>\n",
       "      <td>676</td>\n",
       "      <td>2028</td>\n",
       "      <td>201</td>\n",
       "      <td>NaN</td>\n",
       "    </tr>\n",
       "    <tr>\n",
       "      <th>mean</th>\n",
       "      <td>NaN</td>\n",
       "      <td>NaN</td>\n",
       "      <td>NaN</td>\n",
       "      <td>29.996023</td>\n",
       "    </tr>\n",
       "    <tr>\n",
       "      <th>std</th>\n",
       "      <td>NaN</td>\n",
       "      <td>NaN</td>\n",
       "      <td>NaN</td>\n",
       "      <td>20.081670</td>\n",
       "    </tr>\n",
       "    <tr>\n",
       "      <th>min</th>\n",
       "      <td>NaN</td>\n",
       "      <td>NaN</td>\n",
       "      <td>NaN</td>\n",
       "      <td>0.000000</td>\n",
       "    </tr>\n",
       "    <tr>\n",
       "      <th>25%</th>\n",
       "      <td>NaN</td>\n",
       "      <td>NaN</td>\n",
       "      <td>NaN</td>\n",
       "      <td>14.000000</td>\n",
       "    </tr>\n",
       "    <tr>\n",
       "      <th>50%</th>\n",
       "      <td>NaN</td>\n",
       "      <td>NaN</td>\n",
       "      <td>NaN</td>\n",
       "      <td>26.000000</td>\n",
       "    </tr>\n",
       "    <tr>\n",
       "      <th>75%</th>\n",
       "      <td>NaN</td>\n",
       "      <td>NaN</td>\n",
       "      <td>NaN</td>\n",
       "      <td>42.000000</td>\n",
       "    </tr>\n",
       "    <tr>\n",
       "      <th>max</th>\n",
       "      <td>NaN</td>\n",
       "      <td>NaN</td>\n",
       "      <td>NaN</td>\n",
       "      <td>100.000000</td>\n",
       "    </tr>\n",
       "  </tbody>\n",
       "</table>\n",
       "</div>"
      ],
      "text/plain": [
       "             id googleTopic  week_id          value\n",
       "count    135025      135025   135025  135025.000000\n",
       "unique      201         195      676            NaN\n",
       "top     mai-tai    /m/0cjs7  2015-45            NaN\n",
       "freq        676        2028      201            NaN\n",
       "mean        NaN         NaN      NaN      29.996023\n",
       "std         NaN         NaN      NaN      20.081670\n",
       "min         NaN         NaN      NaN       0.000000\n",
       "25%         NaN         NaN      NaN      14.000000\n",
       "50%         NaN         NaN      NaN      26.000000\n",
       "75%         NaN         NaN      NaN      42.000000\n",
       "max         NaN         NaN      NaN     100.000000"
      ]
     },
     "execution_count": 27,
     "metadata": {},
     "output_type": "execute_result"
    }
   ],
   "source": [
    "df.describe(include='all')"
   ]
  },
  {
   "cell_type": "markdown",
   "metadata": {},
   "source": [
    "The `id` column holds the `string` name of the food/drink, `googleTopic` seems to be a google specific id, `week_id` is a date period, and `value` is the popularity of the search term. `value` has `min=0` and `max=100`, so we can expect a normalised value in percentage.\n",
    "\n",
    "Notice how the `DataFrame` index is _not_ a time index:\n",
    "\n"
   ]
  },
  {
   "cell_type": "code",
   "execution_count": 28,
   "metadata": {},
   "outputs": [
    {
     "data": {
      "text/plain": [
       "RangeIndex(start=0, stop=135025, step=1)"
      ]
     },
     "execution_count": 28,
     "metadata": {},
     "output_type": "execute_result"
    }
   ],
   "source": [
    "df.index"
   ]
  },
  {
   "cell_type": "markdown",
   "metadata": {},
   "source": [
    "This means we need to manually set the time index. However, `week_id` isn't a time data type..."
   ]
  },
  {
   "cell_type": "code",
   "execution_count": 29,
   "metadata": {},
   "outputs": [
    {
     "name": "stdout",
     "output_type": "stream",
     "text": [
      "<class 'pandas.core.frame.DataFrame'>\n",
      "RangeIndex: 135025 entries, 0 to 135024\n",
      "Data columns (total 4 columns):\n",
      " #   Column       Non-Null Count   Dtype \n",
      "---  ------       --------------   ----- \n",
      " 0   id           135025 non-null  object\n",
      " 1   googleTopic  135025 non-null  object\n",
      " 2   week_id      135025 non-null  object\n",
      " 3   value        135025 non-null  int64 \n",
      "dtypes: int64(1), object(3)\n",
      "memory usage: 4.1+ MB\n"
     ]
    }
   ],
   "source": [
    "df.info()"
   ]
  },
  {
   "cell_type": "markdown",
   "metadata": {},
   "source": [
    "We don't want to end up with an `object` index! Then we won't be able to do all that fancy time indexing. So first things first: let's convert `week_id` to a datetime `dtype`. Remember how pandas makes date conversion easy with `pd.to_datetime()`? Well this `week_id` is particulary strange, so we've got help out the parsing a little with the `format` argument. Specifying date string formats is a very common occurence, a list of the symbols can be found in the python [documentation](https://docs.python.org/3/library/datetime.html#strftime-and-strptime-behavior).\n",
    "\n",
    "ℹ️ Weird formats happen all the time with real-world data, and that's partly why pandas exists! Knowing how to deal with these scenarios is a crucial data science skill."
   ]
  },
  {
   "cell_type": "code",
   "execution_count": 30,
   "metadata": {},
   "outputs": [
    {
     "name": "stdout",
     "output_type": "stream",
     "text": [
      "<class 'pandas.core.frame.DataFrame'>\n",
      "RangeIndex: 135025 entries, 0 to 135024\n",
      "Data columns (total 5 columns):\n",
      " #   Column       Non-Null Count   Dtype         \n",
      "---  ------       --------------   -----         \n",
      " 0   id           135025 non-null  object        \n",
      " 1   googleTopic  135025 non-null  object        \n",
      " 2   week_id      135025 non-null  object        \n",
      " 3   value        135025 non-null  int64         \n",
      " 4   datetime     135025 non-null  datetime64[ns]\n",
      "dtypes: datetime64[ns](1), int64(1), object(3)\n",
      "memory usage: 5.2+ MB\n"
     ]
    }
   ],
   "source": [
    "# First add the day of the week to the `week_id` string\n",
    "df['datetime'] = df['week_id'] + '-1'\n",
    "# Then indicate the date string format\n",
    "df['datetime'] = pd.to_datetime(df['datetime'], format='%Y-%W-%w')\n",
    "df.info()"
   ]
  },
  {
   "cell_type": "markdown",
   "metadata": {},
   "source": [
    "Now that we have a `datetime64` column, we simply have to set it as our `DataFrame` index:"
   ]
  },
  {
   "cell_type": "code",
   "execution_count": 31,
   "metadata": {},
   "outputs": [
    {
     "data": {
      "text/html": [
       "<div>\n",
       "<style scoped>\n",
       "    .dataframe tbody tr th:only-of-type {\n",
       "        vertical-align: middle;\n",
       "    }\n",
       "\n",
       "    .dataframe tbody tr th {\n",
       "        vertical-align: top;\n",
       "    }\n",
       "\n",
       "    .dataframe thead th {\n",
       "        text-align: right;\n",
       "    }\n",
       "</style>\n",
       "<table border=\"1\" class=\"dataframe\">\n",
       "  <thead>\n",
       "    <tr style=\"text-align: right;\">\n",
       "      <th></th>\n",
       "      <th>id</th>\n",
       "      <th>googleTopic</th>\n",
       "      <th>week_id</th>\n",
       "      <th>value</th>\n",
       "    </tr>\n",
       "    <tr>\n",
       "      <th>datetime</th>\n",
       "      <th></th>\n",
       "      <th></th>\n",
       "      <th></th>\n",
       "      <th></th>\n",
       "    </tr>\n",
       "  </thead>\n",
       "  <tbody>\n",
       "    <tr>\n",
       "      <th>2011-07-04</th>\n",
       "      <td>frozen-yogurt</td>\n",
       "      <td>/m/020b3f</td>\n",
       "      <td>2011-27</td>\n",
       "      <td>80</td>\n",
       "    </tr>\n",
       "    <tr>\n",
       "      <th>2011-07-04</th>\n",
       "      <td>ice-cream</td>\n",
       "      <td>/m/0cxn2</td>\n",
       "      <td>2011-27</td>\n",
       "      <td>21</td>\n",
       "    </tr>\n",
       "    <tr>\n",
       "      <th>2011-07-04</th>\n",
       "      <td>pie</td>\n",
       "      <td>/m/0mjqn</td>\n",
       "      <td>2011-27</td>\n",
       "      <td>15</td>\n",
       "    </tr>\n",
       "    <tr>\n",
       "      <th>2011-07-04</th>\n",
       "      <td>marshmallow</td>\n",
       "      <td>/m/0lgk9</td>\n",
       "      <td>2011-27</td>\n",
       "      <td>11</td>\n",
       "    </tr>\n",
       "    <tr>\n",
       "      <th>2011-07-04</th>\n",
       "      <td>nougat</td>\n",
       "      <td>/m/01ykdy</td>\n",
       "      <td>2011-27</td>\n",
       "      <td>6</td>\n",
       "    </tr>\n",
       "    <tr>\n",
       "      <th>...</th>\n",
       "      <td>...</td>\n",
       "      <td>...</td>\n",
       "      <td>...</td>\n",
       "      <td>...</td>\n",
       "    </tr>\n",
       "    <tr>\n",
       "      <th>2011-07-04</th>\n",
       "      <td>salmon</td>\n",
       "      <td>/m/09777</td>\n",
       "      <td>2011-27</td>\n",
       "      <td>72</td>\n",
       "    </tr>\n",
       "    <tr>\n",
       "      <th>2011-07-04</th>\n",
       "      <td>microgreen</td>\n",
       "      <td>/m/0j9ln_d</td>\n",
       "      <td>2011-27</td>\n",
       "      <td>9</td>\n",
       "    </tr>\n",
       "    <tr>\n",
       "      <th>2011-07-04</th>\n",
       "      <td>kimchi</td>\n",
       "      <td>/m/018dz_</td>\n",
       "      <td>2011-27</td>\n",
       "      <td>47</td>\n",
       "    </tr>\n",
       "    <tr>\n",
       "      <th>2011-07-04</th>\n",
       "      <td>lobster</td>\n",
       "      <td>/m/0cjq5</td>\n",
       "      <td>2011-27</td>\n",
       "      <td>50</td>\n",
       "    </tr>\n",
       "    <tr>\n",
       "      <th>2011-07-04</th>\n",
       "      <td>shrimp</td>\n",
       "      <td>/m/0ll1f78</td>\n",
       "      <td>2011-27</td>\n",
       "      <td>32</td>\n",
       "    </tr>\n",
       "  </tbody>\n",
       "</table>\n",
       "<p>199 rows × 4 columns</p>\n",
       "</div>"
      ],
      "text/plain": [
       "                       id googleTopic  week_id  value\n",
       "datetime                                             \n",
       "2011-07-04  frozen-yogurt   /m/020b3f  2011-27     80\n",
       "2011-07-04      ice-cream    /m/0cxn2  2011-27     21\n",
       "2011-07-04            pie    /m/0mjqn  2011-27     15\n",
       "2011-07-04    marshmallow    /m/0lgk9  2011-27     11\n",
       "2011-07-04         nougat   /m/01ykdy  2011-27      6\n",
       "...                   ...         ...      ...    ...\n",
       "2011-07-04         salmon    /m/09777  2011-27     72\n",
       "2011-07-04     microgreen  /m/0j9ln_d  2011-27      9\n",
       "2011-07-04         kimchi   /m/018dz_  2011-27     47\n",
       "2011-07-04        lobster    /m/0cjq5  2011-27     50\n",
       "2011-07-04         shrimp  /m/0ll1f78  2011-27     32\n",
       "\n",
       "[199 rows x 4 columns]"
      ]
     },
     "execution_count": 31,
     "metadata": {},
     "output_type": "execute_result"
    }
   ],
   "source": [
    "df = df.set_index('datetime')\n",
    "df.loc['4th of July 2011']"
   ]
  },
  {
   "cell_type": "markdown",
   "metadata": {},
   "source": [
    "Great! Now it will be much easier to explore the dataset with our shiny new time index. One thing still feels weird though... Ideally, we'd like to visualise and compare the trends of different foods and drinks. But in our `Dataframe`, those values are [\"stacked\"](https://pandas.pydata.org/pandas-docs/stable/reference/api/pandas.DataFrame.stack.html) and differentiated using the column _value_ `id`. In previous lectures, when looking at different _features_ of a dataset, we had those separated into _columns_ , not groups of _rows_. And that made it easy to select, update, calculate, and plot those _features_. \n",
    "\n",
    "But fear not! Once again, pandas is here to rescue us. This is a common manipulation called \"reshaping\" or \"pivoting\" a table (more details in the [official documentation](https://pandas.pydata.org/docs/user_guide/reshaping.html)). We can disentangle this mess by using [`.pivot()`](https://pandas.pydata.org/pandas-docs/stable/reference/api/pandas.DataFrame.pivot.html):"
   ]
  },
  {
   "cell_type": "code",
   "execution_count": 32,
   "metadata": {},
   "outputs": [
    {
     "data": {
      "text/html": [
       "<div>\n",
       "<style scoped>\n",
       "    .dataframe tbody tr th:only-of-type {\n",
       "        vertical-align: middle;\n",
       "    }\n",
       "\n",
       "    .dataframe tbody tr th {\n",
       "        vertical-align: top;\n",
       "    }\n",
       "\n",
       "    .dataframe thead th {\n",
       "        text-align: right;\n",
       "    }\n",
       "</style>\n",
       "<table border=\"1\" class=\"dataframe\">\n",
       "  <thead>\n",
       "    <tr style=\"text-align: right;\">\n",
       "      <th>id</th>\n",
       "      <th>anise</th>\n",
       "      <th>apple</th>\n",
       "      <th>apple-au</th>\n",
       "      <th>apple-cider</th>\n",
       "      <th>apple-pie</th>\n",
       "      <th>apple-ru</th>\n",
       "      <th>apricot</th>\n",
       "      <th>asparagus</th>\n",
       "      <th>asparagus-de</th>\n",
       "      <th>asparagus-jp</th>\n",
       "      <th>...</th>\n",
       "      <th>tequila-sunrise</th>\n",
       "      <th>tom-collins</th>\n",
       "      <th>turkey</th>\n",
       "      <th>turmeric</th>\n",
       "      <th>turnip</th>\n",
       "      <th>watermelon</th>\n",
       "      <th>whiskey-sour</th>\n",
       "      <th>white-russian</th>\n",
       "      <th>white-wine</th>\n",
       "      <th>wild-leek</th>\n",
       "    </tr>\n",
       "    <tr>\n",
       "      <th>datetime</th>\n",
       "      <th></th>\n",
       "      <th></th>\n",
       "      <th></th>\n",
       "      <th></th>\n",
       "      <th></th>\n",
       "      <th></th>\n",
       "      <th></th>\n",
       "      <th></th>\n",
       "      <th></th>\n",
       "      <th></th>\n",
       "      <th></th>\n",
       "      <th></th>\n",
       "      <th></th>\n",
       "      <th></th>\n",
       "      <th></th>\n",
       "      <th></th>\n",
       "      <th></th>\n",
       "      <th></th>\n",
       "      <th></th>\n",
       "      <th></th>\n",
       "      <th></th>\n",
       "    </tr>\n",
       "  </thead>\n",
       "  <tbody>\n",
       "    <tr>\n",
       "      <th>2004-01-05</th>\n",
       "      <td>26.0</td>\n",
       "      <td>17.0</td>\n",
       "      <td>20.0</td>\n",
       "      <td>2.0</td>\n",
       "      <td>3.0</td>\n",
       "      <td>NaN</td>\n",
       "      <td>35.0</td>\n",
       "      <td>12.0</td>\n",
       "      <td>2.0</td>\n",
       "      <td>9.0</td>\n",
       "      <td>...</td>\n",
       "      <td>29.0</td>\n",
       "      <td>66.0</td>\n",
       "      <td>1.0</td>\n",
       "      <td>11.0</td>\n",
       "      <td>24.0</td>\n",
       "      <td>4.0</td>\n",
       "      <td>20.0</td>\n",
       "      <td>21.0</td>\n",
       "      <td>25.0</td>\n",
       "      <td>NaN</td>\n",
       "    </tr>\n",
       "    <tr>\n",
       "      <th>2004-01-12</th>\n",
       "      <td>25.0</td>\n",
       "      <td>19.0</td>\n",
       "      <td>21.0</td>\n",
       "      <td>6.0</td>\n",
       "      <td>3.0</td>\n",
       "      <td>21.0</td>\n",
       "      <td>42.0</td>\n",
       "      <td>10.0</td>\n",
       "      <td>0.0</td>\n",
       "      <td>5.0</td>\n",
       "      <td>...</td>\n",
       "      <td>21.0</td>\n",
       "      <td>29.0</td>\n",
       "      <td>1.0</td>\n",
       "      <td>17.0</td>\n",
       "      <td>20.0</td>\n",
       "      <td>3.0</td>\n",
       "      <td>7.0</td>\n",
       "      <td>29.0</td>\n",
       "      <td>24.0</td>\n",
       "      <td>NaN</td>\n",
       "    </tr>\n",
       "    <tr>\n",
       "      <th>2004-01-19</th>\n",
       "      <td>12.0</td>\n",
       "      <td>19.0</td>\n",
       "      <td>25.0</td>\n",
       "      <td>4.0</td>\n",
       "      <td>3.0</td>\n",
       "      <td>NaN</td>\n",
       "      <td>17.0</td>\n",
       "      <td>8.0</td>\n",
       "      <td>1.0</td>\n",
       "      <td>9.0</td>\n",
       "      <td>...</td>\n",
       "      <td>22.0</td>\n",
       "      <td>55.0</td>\n",
       "      <td>1.0</td>\n",
       "      <td>9.0</td>\n",
       "      <td>19.0</td>\n",
       "      <td>3.0</td>\n",
       "      <td>14.0</td>\n",
       "      <td>26.0</td>\n",
       "      <td>30.0</td>\n",
       "      <td>NaN</td>\n",
       "    </tr>\n",
       "    <tr>\n",
       "      <th>2004-01-26</th>\n",
       "      <td>14.0</td>\n",
       "      <td>17.0</td>\n",
       "      <td>16.0</td>\n",
       "      <td>5.0</td>\n",
       "      <td>5.0</td>\n",
       "      <td>NaN</td>\n",
       "      <td>34.0</td>\n",
       "      <td>7.0</td>\n",
       "      <td>1.0</td>\n",
       "      <td>7.0</td>\n",
       "      <td>...</td>\n",
       "      <td>14.0</td>\n",
       "      <td>34.0</td>\n",
       "      <td>1.0</td>\n",
       "      <td>13.0</td>\n",
       "      <td>17.0</td>\n",
       "      <td>4.0</td>\n",
       "      <td>17.0</td>\n",
       "      <td>15.0</td>\n",
       "      <td>26.0</td>\n",
       "      <td>NaN</td>\n",
       "    </tr>\n",
       "    <tr>\n",
       "      <th>2004-02-02</th>\n",
       "      <td>21.0</td>\n",
       "      <td>15.0</td>\n",
       "      <td>19.0</td>\n",
       "      <td>2.0</td>\n",
       "      <td>3.0</td>\n",
       "      <td>NaN</td>\n",
       "      <td>28.0</td>\n",
       "      <td>8.0</td>\n",
       "      <td>1.0</td>\n",
       "      <td>6.0</td>\n",
       "      <td>...</td>\n",
       "      <td>21.0</td>\n",
       "      <td>23.0</td>\n",
       "      <td>1.0</td>\n",
       "      <td>13.0</td>\n",
       "      <td>9.0</td>\n",
       "      <td>3.0</td>\n",
       "      <td>26.0</td>\n",
       "      <td>17.0</td>\n",
       "      <td>13.0</td>\n",
       "      <td>20.0</td>\n",
       "    </tr>\n",
       "  </tbody>\n",
       "</table>\n",
       "<p>5 rows × 201 columns</p>\n",
       "</div>"
      ],
      "text/plain": [
       "id          anise  apple  apple-au  apple-cider  apple-pie  apple-ru  apricot  \\\n",
       "datetime                                                                        \n",
       "2004-01-05   26.0   17.0      20.0          2.0        3.0       NaN     35.0   \n",
       "2004-01-12   25.0   19.0      21.0          6.0        3.0      21.0     42.0   \n",
       "2004-01-19   12.0   19.0      25.0          4.0        3.0       NaN     17.0   \n",
       "2004-01-26   14.0   17.0      16.0          5.0        5.0       NaN     34.0   \n",
       "2004-02-02   21.0   15.0      19.0          2.0        3.0       NaN     28.0   \n",
       "\n",
       "id          asparagus  asparagus-de  asparagus-jp  ...  tequila-sunrise  \\\n",
       "datetime                                           ...                    \n",
       "2004-01-05       12.0           2.0           9.0  ...             29.0   \n",
       "2004-01-12       10.0           0.0           5.0  ...             21.0   \n",
       "2004-01-19        8.0           1.0           9.0  ...             22.0   \n",
       "2004-01-26        7.0           1.0           7.0  ...             14.0   \n",
       "2004-02-02        8.0           1.0           6.0  ...             21.0   \n",
       "\n",
       "id          tom-collins  turkey  turmeric  turnip  watermelon  whiskey-sour  \\\n",
       "datetime                                                                      \n",
       "2004-01-05         66.0     1.0      11.0    24.0         4.0          20.0   \n",
       "2004-01-12         29.0     1.0      17.0    20.0         3.0           7.0   \n",
       "2004-01-19         55.0     1.0       9.0    19.0         3.0          14.0   \n",
       "2004-01-26         34.0     1.0      13.0    17.0         4.0          17.0   \n",
       "2004-02-02         23.0     1.0      13.0     9.0         3.0          26.0   \n",
       "\n",
       "id          white-russian  white-wine  wild-leek  \n",
       "datetime                                          \n",
       "2004-01-05           21.0        25.0        NaN  \n",
       "2004-01-12           29.0        24.0        NaN  \n",
       "2004-01-19           26.0        30.0        NaN  \n",
       "2004-01-26           15.0        26.0        NaN  \n",
       "2004-02-02           17.0        13.0       20.0  \n",
       "\n",
       "[5 rows x 201 columns]"
      ]
     },
     "execution_count": 32,
     "metadata": {},
     "output_type": "execute_result"
    }
   ],
   "source": [
    "df = df.pivot(columns='id', values='value')\n",
    "df.head()"
   ]
  },
  {
   "cell_type": "markdown",
   "metadata": {},
   "source": [
    "Much better! 😌 We can see some pesky `NaN`s though... they always sneak in our datasets! Just like in lecture 1.2, we want to get rid of them. They might ruin our beautiful plots! 🎨 \n",
    "\n",
    "However, we don't want to get rid of an entire _week_ of data if one food's popularity value is missing. Instead, we'd like to get rid of the food _column_ if it contains any `NaN`. We can do this with the `axis` argument:"
   ]
  },
  {
   "cell_type": "code",
   "execution_count": 33,
   "metadata": {},
   "outputs": [
    {
     "data": {
      "text/html": [
       "<div>\n",
       "<style scoped>\n",
       "    .dataframe tbody tr th:only-of-type {\n",
       "        vertical-align: middle;\n",
       "    }\n",
       "\n",
       "    .dataframe tbody tr th {\n",
       "        vertical-align: top;\n",
       "    }\n",
       "\n",
       "    .dataframe thead th {\n",
       "        text-align: right;\n",
       "    }\n",
       "</style>\n",
       "<table border=\"1\" class=\"dataframe\">\n",
       "  <thead>\n",
       "    <tr style=\"text-align: right;\">\n",
       "      <th>id</th>\n",
       "      <th>anise</th>\n",
       "      <th>apple</th>\n",
       "      <th>apple-au</th>\n",
       "      <th>apple-cider</th>\n",
       "      <th>apple-pie</th>\n",
       "      <th>apricot</th>\n",
       "      <th>asparagus</th>\n",
       "      <th>asparagus-de</th>\n",
       "      <th>asparagus-jp</th>\n",
       "      <th>avocado</th>\n",
       "      <th>...</th>\n",
       "      <th>tea</th>\n",
       "      <th>tequila-sunrise</th>\n",
       "      <th>tom-collins</th>\n",
       "      <th>turkey</th>\n",
       "      <th>turmeric</th>\n",
       "      <th>turnip</th>\n",
       "      <th>watermelon</th>\n",
       "      <th>whiskey-sour</th>\n",
       "      <th>white-russian</th>\n",
       "      <th>white-wine</th>\n",
       "    </tr>\n",
       "    <tr>\n",
       "      <th>datetime</th>\n",
       "      <th></th>\n",
       "      <th></th>\n",
       "      <th></th>\n",
       "      <th></th>\n",
       "      <th></th>\n",
       "      <th></th>\n",
       "      <th></th>\n",
       "      <th></th>\n",
       "      <th></th>\n",
       "      <th></th>\n",
       "      <th></th>\n",
       "      <th></th>\n",
       "      <th></th>\n",
       "      <th></th>\n",
       "      <th></th>\n",
       "      <th></th>\n",
       "      <th></th>\n",
       "      <th></th>\n",
       "      <th></th>\n",
       "      <th></th>\n",
       "      <th></th>\n",
       "    </tr>\n",
       "  </thead>\n",
       "  <tbody>\n",
       "    <tr>\n",
       "      <th>2004-01-05</th>\n",
       "      <td>26.0</td>\n",
       "      <td>17.0</td>\n",
       "      <td>20.0</td>\n",
       "      <td>2.0</td>\n",
       "      <td>3.0</td>\n",
       "      <td>35.0</td>\n",
       "      <td>12.0</td>\n",
       "      <td>2.0</td>\n",
       "      <td>9.0</td>\n",
       "      <td>16.0</td>\n",
       "      <td>...</td>\n",
       "      <td>47.0</td>\n",
       "      <td>29.0</td>\n",
       "      <td>66.0</td>\n",
       "      <td>1.0</td>\n",
       "      <td>11.0</td>\n",
       "      <td>24.0</td>\n",
       "      <td>4.0</td>\n",
       "      <td>20.0</td>\n",
       "      <td>21.0</td>\n",
       "      <td>25.0</td>\n",
       "    </tr>\n",
       "    <tr>\n",
       "      <th>2004-01-12</th>\n",
       "      <td>25.0</td>\n",
       "      <td>19.0</td>\n",
       "      <td>21.0</td>\n",
       "      <td>6.0</td>\n",
       "      <td>3.0</td>\n",
       "      <td>42.0</td>\n",
       "      <td>10.0</td>\n",
       "      <td>0.0</td>\n",
       "      <td>5.0</td>\n",
       "      <td>11.0</td>\n",
       "      <td>...</td>\n",
       "      <td>49.0</td>\n",
       "      <td>21.0</td>\n",
       "      <td>29.0</td>\n",
       "      <td>1.0</td>\n",
       "      <td>17.0</td>\n",
       "      <td>20.0</td>\n",
       "      <td>3.0</td>\n",
       "      <td>7.0</td>\n",
       "      <td>29.0</td>\n",
       "      <td>24.0</td>\n",
       "    </tr>\n",
       "    <tr>\n",
       "      <th>2004-01-19</th>\n",
       "      <td>12.0</td>\n",
       "      <td>19.0</td>\n",
       "      <td>25.0</td>\n",
       "      <td>4.0</td>\n",
       "      <td>3.0</td>\n",
       "      <td>17.0</td>\n",
       "      <td>8.0</td>\n",
       "      <td>1.0</td>\n",
       "      <td>9.0</td>\n",
       "      <td>13.0</td>\n",
       "      <td>...</td>\n",
       "      <td>51.0</td>\n",
       "      <td>22.0</td>\n",
       "      <td>55.0</td>\n",
       "      <td>1.0</td>\n",
       "      <td>9.0</td>\n",
       "      <td>19.0</td>\n",
       "      <td>3.0</td>\n",
       "      <td>14.0</td>\n",
       "      <td>26.0</td>\n",
       "      <td>30.0</td>\n",
       "    </tr>\n",
       "    <tr>\n",
       "      <th>2004-01-26</th>\n",
       "      <td>14.0</td>\n",
       "      <td>17.0</td>\n",
       "      <td>16.0</td>\n",
       "      <td>5.0</td>\n",
       "      <td>5.0</td>\n",
       "      <td>34.0</td>\n",
       "      <td>7.0</td>\n",
       "      <td>1.0</td>\n",
       "      <td>7.0</td>\n",
       "      <td>14.0</td>\n",
       "      <td>...</td>\n",
       "      <td>47.0</td>\n",
       "      <td>14.0</td>\n",
       "      <td>34.0</td>\n",
       "      <td>1.0</td>\n",
       "      <td>13.0</td>\n",
       "      <td>17.0</td>\n",
       "      <td>4.0</td>\n",
       "      <td>17.0</td>\n",
       "      <td>15.0</td>\n",
       "      <td>26.0</td>\n",
       "    </tr>\n",
       "    <tr>\n",
       "      <th>2004-02-02</th>\n",
       "      <td>21.0</td>\n",
       "      <td>15.0</td>\n",
       "      <td>19.0</td>\n",
       "      <td>2.0</td>\n",
       "      <td>3.0</td>\n",
       "      <td>28.0</td>\n",
       "      <td>8.0</td>\n",
       "      <td>1.0</td>\n",
       "      <td>6.0</td>\n",
       "      <td>14.0</td>\n",
       "      <td>...</td>\n",
       "      <td>51.0</td>\n",
       "      <td>21.0</td>\n",
       "      <td>23.0</td>\n",
       "      <td>1.0</td>\n",
       "      <td>13.0</td>\n",
       "      <td>9.0</td>\n",
       "      <td>3.0</td>\n",
       "      <td>26.0</td>\n",
       "      <td>17.0</td>\n",
       "      <td>13.0</td>\n",
       "    </tr>\n",
       "  </tbody>\n",
       "</table>\n",
       "<p>5 rows × 185 columns</p>\n",
       "</div>"
      ],
      "text/plain": [
       "id          anise  apple  apple-au  apple-cider  apple-pie  apricot  \\\n",
       "datetime                                                              \n",
       "2004-01-05   26.0   17.0      20.0          2.0        3.0     35.0   \n",
       "2004-01-12   25.0   19.0      21.0          6.0        3.0     42.0   \n",
       "2004-01-19   12.0   19.0      25.0          4.0        3.0     17.0   \n",
       "2004-01-26   14.0   17.0      16.0          5.0        5.0     34.0   \n",
       "2004-02-02   21.0   15.0      19.0          2.0        3.0     28.0   \n",
       "\n",
       "id          asparagus  asparagus-de  asparagus-jp  avocado  ...   tea  \\\n",
       "datetime                                                    ...         \n",
       "2004-01-05       12.0           2.0           9.0     16.0  ...  47.0   \n",
       "2004-01-12       10.0           0.0           5.0     11.0  ...  49.0   \n",
       "2004-01-19        8.0           1.0           9.0     13.0  ...  51.0   \n",
       "2004-01-26        7.0           1.0           7.0     14.0  ...  47.0   \n",
       "2004-02-02        8.0           1.0           6.0     14.0  ...  51.0   \n",
       "\n",
       "id          tequila-sunrise  tom-collins  turkey  turmeric  turnip  \\\n",
       "datetime                                                             \n",
       "2004-01-05             29.0         66.0     1.0      11.0    24.0   \n",
       "2004-01-12             21.0         29.0     1.0      17.0    20.0   \n",
       "2004-01-19             22.0         55.0     1.0       9.0    19.0   \n",
       "2004-01-26             14.0         34.0     1.0      13.0    17.0   \n",
       "2004-02-02             21.0         23.0     1.0      13.0     9.0   \n",
       "\n",
       "id          watermelon  whiskey-sour  white-russian  white-wine  \n",
       "datetime                                                         \n",
       "2004-01-05         4.0          20.0           21.0        25.0  \n",
       "2004-01-12         3.0           7.0           29.0        24.0  \n",
       "2004-01-19         3.0          14.0           26.0        30.0  \n",
       "2004-01-26         4.0          17.0           15.0        26.0  \n",
       "2004-02-02         3.0          26.0           17.0        13.0  \n",
       "\n",
       "[5 rows x 185 columns]"
      ]
     },
     "execution_count": 33,
     "metadata": {},
     "output_type": "execute_result"
    }
   ],
   "source": [
    "df = df.dropna(axis=1)\n",
    "df.head()"
   ]
  },
  {
   "cell_type": "markdown",
   "metadata": {},
   "source": [
    "Looks like `apple-ru` is gone! 🇷🇺That's okay, we still have 185 trends to analyse... Speaking of 🍎, let's visualise the popularity of `apple` searches on Google between 2004 and 2016:"
   ]
  },
  {
   "cell_type": "code",
   "execution_count": 34,
   "metadata": {},
   "outputs": [
    {
     "data": {
      "text/plain": [
       "<AxesSubplot:xlabel='datetime'>"
      ]
     },
     "execution_count": 34,
     "metadata": {},
     "output_type": "execute_result"
    },
    {
     "data": {
      "image/png": "[encoded data removed]",
      "text/plain": [
       "<Figure size 432x288 with 1 Axes>"
      ]
     },
     "metadata": {
      "needs_background": "light"
     },
     "output_type": "display_data"
    }
   ],
   "source": [
    "df['apple'].plot.area()"
   ]
  },
  {
   "cell_type": "markdown",
   "metadata": {},
   "source": [
    "That looks highly seasonal! [Seasonality](https://en.wikipedia.org/wiki/Seasonality) is the presence of regular variations in data. In this case, we expect that the seasonality of apples follows... seasons! It's not easy to see which months are the most red delicious from the graph. Trying to gauge seasonality is a common challenge with time series data. \n",
    "\n",
    "The solution is **seasonal plots**. Let's make one by splitting this graph by year, and plotting the yearly trends individually. We'll put the code in a function so we can explore the seasonality of many foods easily:"
   ]
  },
  {
   "cell_type": "code",
   "execution_count": 35,
   "metadata": {},
   "outputs": [],
   "source": [
    "# new `year` column\n",
    "df['year'] = df.index.year\n",
    "# new week column\n",
    "df['week'] = df.index.isocalendar().week\n",
    "\n",
    "def plot_seasonal(df, food):\n",
    "    # pivot the dataframe so years are columns\n",
    "    pivot_df = df.pivot(index='week', columns='year', values=food)\n",
    "    # plot one line per year\n",
    "    pivot_df.plot.line(alpha=0.6, legend=False)"
   ]
  },
  {
   "cell_type": "code",
   "execution_count": 36,
   "metadata": {},
   "outputs": [
    {
     "data": {
      "image/png": "[encoded data removed]",
      "text/plain": [
       "<Figure size 432x288 with 1 Axes>"
      ]
     },
     "metadata": {
      "needs_background": "light"
     },
     "output_type": "display_data"
    }
   ],
   "source": [
    "plot_seasonal(df, 'chocolate')"
   ]
  },
  {
   "cell_type": "markdown",
   "metadata": {},
   "source": [
    "🍫 Chocolate sure is popular around holiday season! Why do you think there is a peak in mid-february? 💝 \n",
    "\n",
    "Let's explore the trends of a food slightly less fit for special occasions: donuts 🍩"
   ]
  },
  {
   "cell_type": "code",
   "execution_count": 37,
   "metadata": {},
   "outputs": [
    {
     "data": {
      "image/png": "[encoded data removed]",
      "text/plain": [
       "<Figure size 432x288 with 1 Axes>"
      ]
     },
     "metadata": {
      "needs_background": "light"
     },
     "output_type": "display_data"
    }
   ],
   "source": [
    "plot_seasonal(df, 'donut')"
   ]
  },
  {
   "cell_type": "markdown",
   "metadata": {},
   "source": [
    "As expected, donuts are less festive than chocolate. I wonder what caused those peaks! Feel free to explore the data yourself 🤠\n",
    "\n",
    "Those differences in trends are interesting, but we'd like to compare them more closely. We have a suspicion that some alcoholic drinks have very different seasonal profiles... For example, `champagne` is usually popping around New Year's Eve, whilst `mojito` is a classic summer cocktail.\n",
    "\n",
    "**Average seasonal plots** allow us to compare the seasonality of two variables. Let's group the values by week, and plot the average values. The result is a graph of the average popularity of the drinks for each week. e.g the values of `champagne` at `week=20` is simply the mean of all the `champagne` values in df happening on the 20th week of the year."
   ]
  },
  {
   "cell_type": "code",
   "execution_count": 38,
   "metadata": {},
   "outputs": [
    {
     "data": {
      "text/plain": [
       "<AxesSubplot:xlabel='week'>"
      ]
     },
     "execution_count": 38,
     "metadata": {},
     "output_type": "execute_result"
    },
    {
     "data": {
      "image/png": "[encoded data removed]",
      "text/plain": [
       "<Figure size 432x288 with 1 Axes>"
      ]
     },
     "metadata": {
      "needs_background": "light"
     },
     "output_type": "display_data"
    }
   ],
   "source": [
    "df.groupby('week').mean().plot.line(y=['champagne', 'mojito'])"
   ]
  },
  {
   "cell_type": "markdown",
   "metadata": {},
   "source": [
    "🍾 Our instincts are confirmed: the New Year is a better time for bubbles than for rum!\n",
    "\n",
    "Sometimes, we wish to track the cumulative trends of some variables as well as their relative trends. For example, we might be interested in learning the popularity of _beverages_, as well as the breakdown into `tea`, `coffee`, and a hip newcomer `cold-brew-coffee`. \n",
    "\n",
    "**Area charts** allow to stack lines and observe the cumulative result. We're interesting in long term trends, so we'll use the yearly averages to remove some of the distracting seasonal variations we observed earlier."
   ]
  },
  {
   "cell_type": "code",
   "execution_count": 41,
   "metadata": {},
   "outputs": [
    {
     "data": {
      "text/html": [
       "<div>\n",
       "<style scoped>\n",
       "    .dataframe tbody tr th:only-of-type {\n",
       "        vertical-align: middle;\n",
       "    }\n",
       "\n",
       "    .dataframe tbody tr th {\n",
       "        vertical-align: top;\n",
       "    }\n",
       "\n",
       "    .dataframe thead th {\n",
       "        text-align: right;\n",
       "    }\n",
       "</style>\n",
       "<table border=\"1\" class=\"dataframe\">\n",
       "  <thead>\n",
       "    <tr style=\"text-align: right;\">\n",
       "      <th>id</th>\n",
       "      <th>anise</th>\n",
       "      <th>apple</th>\n",
       "      <th>apple-au</th>\n",
       "      <th>apple-cider</th>\n",
       "      <th>apple-pie</th>\n",
       "      <th>apricot</th>\n",
       "      <th>asparagus</th>\n",
       "      <th>asparagus-de</th>\n",
       "      <th>asparagus-jp</th>\n",
       "      <th>avocado</th>\n",
       "      <th>...</th>\n",
       "      <th>tom-collins</th>\n",
       "      <th>turkey</th>\n",
       "      <th>turmeric</th>\n",
       "      <th>turnip</th>\n",
       "      <th>watermelon</th>\n",
       "      <th>whiskey-sour</th>\n",
       "      <th>white-russian</th>\n",
       "      <th>white-wine</th>\n",
       "      <th>year</th>\n",
       "      <th>week</th>\n",
       "    </tr>\n",
       "    <tr>\n",
       "      <th>datetime</th>\n",
       "      <th></th>\n",
       "      <th></th>\n",
       "      <th></th>\n",
       "      <th></th>\n",
       "      <th></th>\n",
       "      <th></th>\n",
       "      <th></th>\n",
       "      <th></th>\n",
       "      <th></th>\n",
       "      <th></th>\n",
       "      <th></th>\n",
       "      <th></th>\n",
       "      <th></th>\n",
       "      <th></th>\n",
       "      <th></th>\n",
       "      <th></th>\n",
       "      <th></th>\n",
       "      <th></th>\n",
       "      <th></th>\n",
       "      <th></th>\n",
       "      <th></th>\n",
       "    </tr>\n",
       "  </thead>\n",
       "  <tbody>\n",
       "    <tr>\n",
       "      <th>2004</th>\n",
       "      <td>21.326923</td>\n",
       "      <td>21.423077</td>\n",
       "      <td>29.000000</td>\n",
       "      <td>8.673077</td>\n",
       "      <td>6.403846</td>\n",
       "      <td>39.019231</td>\n",
       "      <td>13.653846</td>\n",
       "      <td>6.173077</td>\n",
       "      <td>11.961538</td>\n",
       "      <td>13.269231</td>\n",
       "      <td>...</td>\n",
       "      <td>24.884615</td>\n",
       "      <td>2.769231</td>\n",
       "      <td>10.192308</td>\n",
       "      <td>15.346154</td>\n",
       "      <td>9.057692</td>\n",
       "      <td>16.307692</td>\n",
       "      <td>23.326923</td>\n",
       "      <td>24.250000</td>\n",
       "      <td>2004</td>\n",
       "      <td>27.5</td>\n",
       "    </tr>\n",
       "    <tr>\n",
       "      <th>2005</th>\n",
       "      <td>20.326923</td>\n",
       "      <td>21.961538</td>\n",
       "      <td>31.442308</td>\n",
       "      <td>9.596154</td>\n",
       "      <td>6.538462</td>\n",
       "      <td>34.230769</td>\n",
       "      <td>16.076923</td>\n",
       "      <td>6.750000</td>\n",
       "      <td>12.115385</td>\n",
       "      <td>14.423077</td>\n",
       "      <td>...</td>\n",
       "      <td>33.038462</td>\n",
       "      <td>2.903846</td>\n",
       "      <td>9.865385</td>\n",
       "      <td>15.269231</td>\n",
       "      <td>9.788462</td>\n",
       "      <td>15.980769</td>\n",
       "      <td>26.807692</td>\n",
       "      <td>25.923077</td>\n",
       "      <td>2005</td>\n",
       "      <td>26.5</td>\n",
       "    </tr>\n",
       "    <tr>\n",
       "      <th>2006</th>\n",
       "      <td>18.442308</td>\n",
       "      <td>22.788462</td>\n",
       "      <td>31.980769</td>\n",
       "      <td>9.730769</td>\n",
       "      <td>7.096154</td>\n",
       "      <td>33.884615</td>\n",
       "      <td>17.423077</td>\n",
       "      <td>5.942308</td>\n",
       "      <td>12.961538</td>\n",
       "      <td>16.500000</td>\n",
       "      <td>...</td>\n",
       "      <td>31.788462</td>\n",
       "      <td>3.038462</td>\n",
       "      <td>9.923077</td>\n",
       "      <td>16.019231</td>\n",
       "      <td>10.384615</td>\n",
       "      <td>18.346154</td>\n",
       "      <td>26.826923</td>\n",
       "      <td>28.846154</td>\n",
       "      <td>2006</td>\n",
       "      <td>26.5</td>\n",
       "    </tr>\n",
       "    <tr>\n",
       "      <th>2007</th>\n",
       "      <td>18.000000</td>\n",
       "      <td>23.423077</td>\n",
       "      <td>32.288462</td>\n",
       "      <td>10.173077</td>\n",
       "      <td>6.980769</td>\n",
       "      <td>37.673077</td>\n",
       "      <td>19.250000</td>\n",
       "      <td>5.750000</td>\n",
       "      <td>13.153846</td>\n",
       "      <td>17.961538</td>\n",
       "      <td>...</td>\n",
       "      <td>28.442308</td>\n",
       "      <td>3.250000</td>\n",
       "      <td>12.288462</td>\n",
       "      <td>16.980769</td>\n",
       "      <td>11.038462</td>\n",
       "      <td>18.557692</td>\n",
       "      <td>25.423077</td>\n",
       "      <td>32.115385</td>\n",
       "      <td>2007</td>\n",
       "      <td>26.5</td>\n",
       "    </tr>\n",
       "    <tr>\n",
       "      <th>2008</th>\n",
       "      <td>17.461538</td>\n",
       "      <td>25.326923</td>\n",
       "      <td>35.576923</td>\n",
       "      <td>10.865385</td>\n",
       "      <td>7.942308</td>\n",
       "      <td>39.153846</td>\n",
       "      <td>20.865385</td>\n",
       "      <td>6.038462</td>\n",
       "      <td>12.230769</td>\n",
       "      <td>20.192308</td>\n",
       "      <td>...</td>\n",
       "      <td>29.865385</td>\n",
       "      <td>3.519231</td>\n",
       "      <td>15.615385</td>\n",
       "      <td>19.711538</td>\n",
       "      <td>13.384615</td>\n",
       "      <td>18.538462</td>\n",
       "      <td>25.673077</td>\n",
       "      <td>33.942308</td>\n",
       "      <td>2008</td>\n",
       "      <td>26.5</td>\n",
       "    </tr>\n",
       "  </tbody>\n",
       "</table>\n",
       "<p>5 rows × 187 columns</p>\n",
       "</div>"
      ],
      "text/plain": [
       "id            anise      apple   apple-au  apple-cider  apple-pie    apricot  \\\n",
       "datetime                                                                       \n",
       "2004      21.326923  21.423077  29.000000     8.673077   6.403846  39.019231   \n",
       "2005      20.326923  21.961538  31.442308     9.596154   6.538462  34.230769   \n",
       "2006      18.442308  22.788462  31.980769     9.730769   7.096154  33.884615   \n",
       "2007      18.000000  23.423077  32.288462    10.173077   6.980769  37.673077   \n",
       "2008      17.461538  25.326923  35.576923    10.865385   7.942308  39.153846   \n",
       "\n",
       "id        asparagus  asparagus-de  asparagus-jp    avocado  ...  tom-collins  \\\n",
       "datetime                                                    ...                \n",
       "2004      13.653846      6.173077     11.961538  13.269231  ...    24.884615   \n",
       "2005      16.076923      6.750000     12.115385  14.423077  ...    33.038462   \n",
       "2006      17.423077      5.942308     12.961538  16.500000  ...    31.788462   \n",
       "2007      19.250000      5.750000     13.153846  17.961538  ...    28.442308   \n",
       "2008      20.865385      6.038462     12.230769  20.192308  ...    29.865385   \n",
       "\n",
       "id          turkey   turmeric     turnip  watermelon  whiskey-sour  \\\n",
       "datetime                                                             \n",
       "2004      2.769231  10.192308  15.346154    9.057692     16.307692   \n",
       "2005      2.903846   9.865385  15.269231    9.788462     15.980769   \n",
       "2006      3.038462   9.923077  16.019231   10.384615     18.346154   \n",
       "2007      3.250000  12.288462  16.980769   11.038462     18.557692   \n",
       "2008      3.519231  15.615385  19.711538   13.384615     18.538462   \n",
       "\n",
       "id        white-russian  white-wine  year  week  \n",
       "datetime                                         \n",
       "2004          23.326923   24.250000  2004  27.5  \n",
       "2005          26.807692   25.923077  2005  26.5  \n",
       "2006          26.826923   28.846154  2006  26.5  \n",
       "2007          25.423077   32.115385  2007  26.5  \n",
       "2008          25.673077   33.942308  2008  26.5  \n",
       "\n",
       "[5 rows x 187 columns]"
      ]
     },
     "execution_count": 41,
     "metadata": {},
     "output_type": "execute_result"
    }
   ],
   "source": [
    "df.groupby(df.index.year).mean().head()"
   ]
  },
  {
   "cell_type": "code",
   "execution_count": 42,
   "metadata": {},
   "outputs": [
    {
     "data": {
      "text/plain": [
       "<AxesSubplot:xlabel='datetime'>"
      ]
     },
     "execution_count": 42,
     "metadata": {},
     "output_type": "execute_result"
    },
    {
     "data": {
      "image/png": "[encoded data removed]",
      "text/plain": [
       "<Figure size 432x288 with 1 Axes>"
      ]
     },
     "metadata": {
      "needs_background": "light"
     },
     "output_type": "display_data"
    }
   ],
   "source": [
    "df.groupby(df.index.year).mean()[['tea', 'coffee', 'cold-brew-coffee']].plot.area()"
   ]
  },
  {
   "cell_type": "markdown",
   "metadata": {},
   "source": [
    "Three are three key insights from this graph:\n",
    "- beverages are on the rise since 2004\n",
    "- coffee got a boost around 2010\n",
    "- cold brews really took off around 2014\n",
    "\n",
    "ℹ️ This high \"density\" of information is key in effective data visualization, as explained in the legendary book [The Visual Display of Quantitative Information](https://www.goodreads.com/book/show/17744.The_Visual_Display_of_Quantitative_Information). More on this in lecture 1.6!\n",
    "\n",
    "💪 Create an area plot of the popularity of `ice-cream` from January to July 2006."
   ]
  },
  {
   "cell_type": "code",
   "execution_count": null,
   "metadata": {},
   "outputs": [],
   "source": [
    "# INSERT YOUR CODE HERE"
   ]
  },
  {
   "cell_type": "markdown",
   "metadata": {},
   "source": [
    "🧠 Notice how the seasonality of your graph isn't obvious because of the chosen time window. Can you think of ways to avoid missing this detail in a time series analysis?"
   ]
  },
  {
   "cell_type": "markdown",
   "metadata": {},
   "source": [
    "## 4. Shifting"
   ]
  },
  {
   "cell_type": "markdown",
   "metadata": {},
   "source": [
    "The broccoli search expert at Google made a calendar mistake... All his data is late by 8 weeks! We don't want to manually calculate a new column and reindex our `DataFrame`. We _certainly_ don't want to manually update the values. Instead, we can use the [`.shift()`](https://pandas.pydata.org/pandas-docs/stable/reference/api/pandas.DataFrame.shift.html) method:"
   ]
  },
  {
   "cell_type": "code",
   "execution_count": 43,
   "metadata": {},
   "outputs": [
    {
     "data": {
      "text/plain": [
       "<AxesSubplot:xlabel='datetime'>"
      ]
     },
     "execution_count": 43,
     "metadata": {},
     "output_type": "execute_result"
    },
    {
     "data": {
      "image/png": "[encoded data removed]",
      "text/plain": [
       "<Figure size 432x288 with 1 Axes>"
      ]
     },
     "metadata": {
      "needs_background": "light"
     },
     "output_type": "display_data"
    }
   ],
   "source": [
    "# shift values by 8 weeks and save in new column\n",
    "df['apple_shift'] = df.shift(periods=-8*7, freq='D')['apple']\n",
    "# plot old and shifted data\n",
    "df.loc['2013', ['apple', 'apple_shift']].plot.line()"
   ]
  },
  {
   "cell_type": "markdown",
   "metadata": {},
   "source": [
    "Phew, broccoli tragedy averted. 🥦 Sometimes we want to shift the _index_ , not the values. We can then use the `axis=0` argument:"
   ]
  },
  {
   "cell_type": "code",
   "execution_count": 44,
   "metadata": {},
   "outputs": [
    {
     "data": {
      "text/plain": [
       "<AxesSubplot:xlabel='datetime'>"
      ]
     },
     "execution_count": 44,
     "metadata": {},
     "output_type": "execute_result"
    },
    {
     "data": {
      "image/png": "[encoded data removed]",
      "text/plain": [
       "<Figure size 432x288 with 1 Axes>"
      ]
     },
     "metadata": {
      "needs_background": "light"
     },
     "output_type": "display_data"
    }
   ],
   "source": [
    "df.shift(-1000, freq='W', axis=0)['broccoli'].plot.line()"
   ]
  },
  {
   "cell_type": "markdown",
   "metadata": {},
   "source": [
    "That's some old cabbage! More details in the [python data science handbook](https://jakevdp.github.io/PythonDataScienceHandbook/03.11-working-with-time-series.html#Time-shifts)."
   ]
  },
  {
   "cell_type": "markdown",
   "metadata": {},
   "source": [
    "## 5. Windowing"
   ]
  },
  {
   "cell_type": "markdown",
   "metadata": {},
   "source": [
    "🦐 We hear word that shrimps were highly fashionable around 2010, so we'd like to pinpoint this \"shrimp chic\" theory. "
   ]
  },
  {
   "cell_type": "code",
   "execution_count": 45,
   "metadata": {},
   "outputs": [
    {
     "data": {
      "text/plain": [
       "<AxesSubplot:xlabel='datetime'>"
      ]
     },
     "execution_count": 45,
     "metadata": {},
     "output_type": "execute_result"
    },
    {
     "data": {
      "image/png": "[encoded data removed]",
      "text/plain": [
       "<Figure size 432x288 with 1 Axes>"
      ]
     },
     "metadata": {
      "needs_background": "light"
     },
     "output_type": "display_data"
    }
   ],
   "source": [
    "df['shrimp'].plot.line()"
   ]
  },
  {
   "cell_type": "markdown",
   "metadata": {},
   "source": [
    "There's a definite shellfish bump around 2009, but the [variance](https://en.wikipedia.org/wiki/Variance) of the popularity is muddling the graph. We could \"smooth out\" the line by plotting its moving average. These [rolling statistics](https://jakevdp.github.io/PythonDataScienceHandbook/03.11-working-with-time-series.html#Rolling-windows) can be calculated with pandas' [`.rolling()`](https://pandas.pydata.org/pandas-docs/stable/reference/api/pandas.Series.rolling.html#pandas.Series.rolling) method. The api interface is similar to [`.groupby`](https://pandas.pydata.org/pandas-docs/stable/reference/api/pandas.DataFrame.groupby.html) (from lecture 1.3). The method returns a `Rolling` object, on which we must apply an _aggregation function_. In our case, we want a rolling _average_ , so we'll use the [`.mean()`](https://pandas.pydata.org/pandas-docs/stable/reference/api/pandas.core.window.rolling.Rolling.mean.html) method:"
   ]
  },
  {
   "cell_type": "code",
   "execution_count": 46,
   "metadata": {},
   "outputs": [
    {
     "data": {
      "text/plain": [
       "<AxesSubplot:xlabel='datetime'>"
      ]
     },
     "execution_count": 46,
     "metadata": {},
     "output_type": "execute_result"
    },
    {
     "data": {
      "image/png": "[encoded data removed]",
      "text/plain": [
       "<Figure size 432x288 with 1 Axes>"
      ]
     },
     "metadata": {
      "needs_background": "light"
     },
     "output_type": "display_data"
    },
    {
     "data": {
      "image/png": "[encoded data removed]",
      "text/plain": [
       "<Figure size 432x288 with 1 Axes>"
      ]
     },
     "metadata": {
      "needs_background": "light"
     },
     "output_type": "display_data"
    }
   ],
   "source": [
    "# calculate rolling average of window size 12\n",
    "df['shrimp_av'] = df['shrimp'].rolling(12).mean()\n",
    "# plot at two different scales\n",
    "df.loc[:, ['shrimp', 'shrimp_av']].plot.line()\n",
    "df.loc['2013', ['shrimp', 'shrimp_av']].plot.line()"
   ]
  },
  {
   "cell_type": "markdown",
   "metadata": {},
   "source": [
    "📈 Each point of `shrimp_av` is the average popularity of the 12 previous weeks, and allows us to focus on longer term trends. \n",
    "\n",
    "💪 Create a line graph of the rolling standard deviation of the popularity of `coconut` 🥥 with a window size of 10, for the year 2012."
   ]
  },
  {
   "cell_type": "code",
   "execution_count": 47,
   "metadata": {},
   "outputs": [
    {
     "data": {
      "text/plain": [
       "<AxesSubplot:xlabel='datetime'>"
      ]
     },
     "execution_count": 47,
     "metadata": {},
     "output_type": "execute_result"
    },
    {
     "data": {
      "image/png": "[encoded data removed]",
      "text/plain": [
       "<Figure size 432x288 with 1 Axes>"
      ]
     },
     "metadata": {
      "needs_background": "light"
     },
     "output_type": "display_data"
    },
    {
     "data": {
      "image/png": "[encoded data removed]",
      "text/plain": [
       "<Figure size 432x288 with 1 Axes>"
      ]
     },
     "metadata": {
      "needs_background": "light"
     },
     "output_type": "display_data"
    }
   ],
   "source": [
    "df['coconut_stddev'] = df['coconut'].rolling(10).std()\n",
    "df.loc[:, ['coconut', 'coconut_stddev']].plot.line()\n",
    "df.loc['2012', ['coconut', 'coconut_stddev']].plot.line()"
   ]
  },
  {
   "cell_type": "markdown",
   "metadata": {},
   "source": [
    "🧠 Can you explain what these peaks and troughs represent?"
   ]
  },
  {
   "cell_type": "markdown",
   "metadata": {},
   "source": [
    "## 6. Resampling\n",
    "\n",
    "It is common to encounter datasets with irregular time indices, e.g a `DatetimeIndex` where the `Timestamp`s are not regularly spaced. This can be hard to work with for certain downstream tasks, such as times series prediction. One solution is to _resample_ the data to a regular interval. All the old values found in a new interval need to be combined using an _aggregation function_. In this sense, resampling is similar to [windowing](#5.-Windowing), except the aggregation is done on fixed frequency intervals instead of a sliding window. \n",
    "\n",
    "In pandas, resampling is done with [`.resample()`](https://pandas.pydata.org/pandas-docs/stable/reference/api/pandas.DataFrame.resample.html). For example, we can resample our google trends to a monthly frequency:\n"
   ]
  },
  {
   "cell_type": "code",
   "execution_count": 48,
   "metadata": {},
   "outputs": [
    {
     "data": {
      "text/html": [
       "<div>\n",
       "<style scoped>\n",
       "    .dataframe tbody tr th:only-of-type {\n",
       "        vertical-align: middle;\n",
       "    }\n",
       "\n",
       "    .dataframe tbody tr th {\n",
       "        vertical-align: top;\n",
       "    }\n",
       "\n",
       "    .dataframe thead th {\n",
       "        text-align: right;\n",
       "    }\n",
       "</style>\n",
       "<table border=\"1\" class=\"dataframe\">\n",
       "  <thead>\n",
       "    <tr style=\"text-align: right;\">\n",
       "      <th>id</th>\n",
       "      <th>anise</th>\n",
       "      <th>apple</th>\n",
       "      <th>apple-au</th>\n",
       "      <th>apple-cider</th>\n",
       "      <th>apple-pie</th>\n",
       "      <th>apricot</th>\n",
       "      <th>asparagus</th>\n",
       "      <th>asparagus-de</th>\n",
       "      <th>asparagus-jp</th>\n",
       "      <th>avocado</th>\n",
       "      <th>...</th>\n",
       "      <th>turnip</th>\n",
       "      <th>watermelon</th>\n",
       "      <th>whiskey-sour</th>\n",
       "      <th>white-russian</th>\n",
       "      <th>white-wine</th>\n",
       "      <th>year</th>\n",
       "      <th>week</th>\n",
       "      <th>apple_shift</th>\n",
       "      <th>shrimp_av</th>\n",
       "      <th>coconut_stddev</th>\n",
       "    </tr>\n",
       "    <tr>\n",
       "      <th>datetime</th>\n",
       "      <th></th>\n",
       "      <th></th>\n",
       "      <th></th>\n",
       "      <th></th>\n",
       "      <th></th>\n",
       "      <th></th>\n",
       "      <th></th>\n",
       "      <th></th>\n",
       "      <th></th>\n",
       "      <th></th>\n",
       "      <th></th>\n",
       "      <th></th>\n",
       "      <th></th>\n",
       "      <th></th>\n",
       "      <th></th>\n",
       "      <th></th>\n",
       "      <th></th>\n",
       "      <th></th>\n",
       "      <th></th>\n",
       "      <th></th>\n",
       "      <th></th>\n",
       "    </tr>\n",
       "  </thead>\n",
       "  <tbody>\n",
       "    <tr>\n",
       "      <th>2004-01-31</th>\n",
       "      <td>19.25</td>\n",
       "      <td>18.00</td>\n",
       "      <td>20.50</td>\n",
       "      <td>4.25</td>\n",
       "      <td>3.50</td>\n",
       "      <td>32.00</td>\n",
       "      <td>9.25</td>\n",
       "      <td>1.00</td>\n",
       "      <td>7.50</td>\n",
       "      <td>13.50</td>\n",
       "      <td>...</td>\n",
       "      <td>20.0</td>\n",
       "      <td>3.50</td>\n",
       "      <td>14.5</td>\n",
       "      <td>22.75</td>\n",
       "      <td>26.25</td>\n",
       "      <td>2004</td>\n",
       "      <td>3.5</td>\n",
       "      <td>18.50</td>\n",
       "      <td>NaN</td>\n",
       "      <td>NaN</td>\n",
       "    </tr>\n",
       "    <tr>\n",
       "      <th>2004-02-29</th>\n",
       "      <td>20.00</td>\n",
       "      <td>16.25</td>\n",
       "      <td>20.25</td>\n",
       "      <td>2.25</td>\n",
       "      <td>3.25</td>\n",
       "      <td>29.75</td>\n",
       "      <td>13.25</td>\n",
       "      <td>1.25</td>\n",
       "      <td>8.50</td>\n",
       "      <td>13.00</td>\n",
       "      <td>...</td>\n",
       "      <td>15.5</td>\n",
       "      <td>4.50</td>\n",
       "      <td>17.5</td>\n",
       "      <td>18.00</td>\n",
       "      <td>20.75</td>\n",
       "      <td>2004</td>\n",
       "      <td>7.5</td>\n",
       "      <td>17.75</td>\n",
       "      <td>NaN</td>\n",
       "      <td>NaN</td>\n",
       "    </tr>\n",
       "    <tr>\n",
       "      <th>2004-03-31</th>\n",
       "      <td>14.60</td>\n",
       "      <td>18.60</td>\n",
       "      <td>41.00</td>\n",
       "      <td>2.80</td>\n",
       "      <td>3.00</td>\n",
       "      <td>24.60</td>\n",
       "      <td>16.60</td>\n",
       "      <td>3.40</td>\n",
       "      <td>11.40</td>\n",
       "      <td>13.00</td>\n",
       "      <td>...</td>\n",
       "      <td>12.8</td>\n",
       "      <td>7.00</td>\n",
       "      <td>19.4</td>\n",
       "      <td>23.60</td>\n",
       "      <td>20.80</td>\n",
       "      <td>2004</td>\n",
       "      <td>12.0</td>\n",
       "      <td>15.80</td>\n",
       "      <td>29.708333</td>\n",
       "      <td>2.625114</td>\n",
       "    </tr>\n",
       "    <tr>\n",
       "      <th>2004-04-30</th>\n",
       "      <td>12.75</td>\n",
       "      <td>17.25</td>\n",
       "      <td>36.50</td>\n",
       "      <td>3.00</td>\n",
       "      <td>2.75</td>\n",
       "      <td>28.50</td>\n",
       "      <td>26.75</td>\n",
       "      <td>23.50</td>\n",
       "      <td>17.75</td>\n",
       "      <td>13.75</td>\n",
       "      <td>...</td>\n",
       "      <td>12.5</td>\n",
       "      <td>6.75</td>\n",
       "      <td>16.5</td>\n",
       "      <td>20.00</td>\n",
       "      <td>23.50</td>\n",
       "      <td>2004</td>\n",
       "      <td>16.5</td>\n",
       "      <td>14.25</td>\n",
       "      <td>33.333333</td>\n",
       "      <td>3.688643</td>\n",
       "    </tr>\n",
       "    <tr>\n",
       "      <th>2004-05-31</th>\n",
       "      <td>16.20</td>\n",
       "      <td>15.40</td>\n",
       "      <td>39.20</td>\n",
       "      <td>3.20</td>\n",
       "      <td>2.60</td>\n",
       "      <td>29.00</td>\n",
       "      <td>21.00</td>\n",
       "      <td>29.40</td>\n",
       "      <td>21.00</td>\n",
       "      <td>14.60</td>\n",
       "      <td>...</td>\n",
       "      <td>10.6</td>\n",
       "      <td>12.00</td>\n",
       "      <td>14.2</td>\n",
       "      <td>17.60</td>\n",
       "      <td>23.00</td>\n",
       "      <td>2004</td>\n",
       "      <td>21.0</td>\n",
       "      <td>13.80</td>\n",
       "      <td>34.933333</td>\n",
       "      <td>3.370702</td>\n",
       "    </tr>\n",
       "  </tbody>\n",
       "</table>\n",
       "<p>5 rows × 190 columns</p>\n",
       "</div>"
      ],
      "text/plain": [
       "id          anise  apple  apple-au  apple-cider  apple-pie  apricot  \\\n",
       "datetime                                                              \n",
       "2004-01-31  19.25  18.00     20.50         4.25       3.50    32.00   \n",
       "2004-02-29  20.00  16.25     20.25         2.25       3.25    29.75   \n",
       "2004-03-31  14.60  18.60     41.00         2.80       3.00    24.60   \n",
       "2004-04-30  12.75  17.25     36.50         3.00       2.75    28.50   \n",
       "2004-05-31  16.20  15.40     39.20         3.20       2.60    29.00   \n",
       "\n",
       "id          asparagus  asparagus-de  asparagus-jp  avocado  ...  turnip  \\\n",
       "datetime                                                    ...           \n",
       "2004-01-31       9.25          1.00          7.50    13.50  ...    20.0   \n",
       "2004-02-29      13.25          1.25          8.50    13.00  ...    15.5   \n",
       "2004-03-31      16.60          3.40         11.40    13.00  ...    12.8   \n",
       "2004-04-30      26.75         23.50         17.75    13.75  ...    12.5   \n",
       "2004-05-31      21.00         29.40         21.00    14.60  ...    10.6   \n",
       "\n",
       "id          watermelon  whiskey-sour  white-russian  white-wine  year  week  \\\n",
       "datetime                                                                      \n",
       "2004-01-31        3.50          14.5          22.75       26.25  2004   3.5   \n",
       "2004-02-29        4.50          17.5          18.00       20.75  2004   7.5   \n",
       "2004-03-31        7.00          19.4          23.60       20.80  2004  12.0   \n",
       "2004-04-30        6.75          16.5          20.00       23.50  2004  16.5   \n",
       "2004-05-31       12.00          14.2          17.60       23.00  2004  21.0   \n",
       "\n",
       "id          apple_shift  shrimp_av  coconut_stddev  \n",
       "datetime                                            \n",
       "2004-01-31        18.50        NaN             NaN  \n",
       "2004-02-29        17.75        NaN             NaN  \n",
       "2004-03-31        15.80  29.708333        2.625114  \n",
       "2004-04-30        14.25  33.333333        3.688643  \n",
       "2004-05-31        13.80  34.933333        3.370702  \n",
       "\n",
       "[5 rows x 190 columns]"
      ]
     },
     "execution_count": 48,
     "metadata": {},
     "output_type": "execute_result"
    }
   ],
   "source": [
    "df.resample('M').mean().head()"
   ]
  },
  {
   "cell_type": "markdown",
   "metadata": {},
   "source": [
    "The time index now steps in months, and not in weeks. All the values in this new `DataFrame` were _averaged_. More information on resampling and converting frequencies in the [python data science handbook](https://jakevdp.github.io/PythonDataScienceHandbook/03.11-working-with-time-series.html#Resampling-and-converting-frequencies)."
   ]
  },
  {
   "cell_type": "markdown",
   "metadata": {},
   "source": [
    "## 7. Interpolation\n"
   ]
  },
  {
   "cell_type": "code",
   "execution_count": 49,
   "metadata": {},
   "outputs": [],
   "source": [
    "def forget_data(df, food):\n",
    "    np.random.seed(1337)\n",
    "    missing_indices = np.random.randint(low=0, high=len(df), size=42)\n",
    "    df.iloc[missing_indices, df.columns.get_loc(food)] = None\n",
    "    \n",
    "forget_data(df, 'long-island-iced-tea')"
   ]
  },
  {
   "cell_type": "markdown",
   "metadata": {},
   "source": [
    "Oh no, someone had too many `long-island-iced-tea`s 🍹, and forgot some of the data..."
   ]
  },
  {
   "cell_type": "code",
   "execution_count": 50,
   "metadata": {
    "scrolled": true
   },
   "outputs": [
    {
     "data": {
      "text/plain": [
       "<AxesSubplot:xlabel='datetime'>"
      ]
     },
     "execution_count": 50,
     "metadata": {},
     "output_type": "execute_result"
    },
    {
     "data": {
      "image/png": "[encoded data removed]",
      "text/plain": [
       "<Figure size 432x288 with 1 Axes>"
      ]
     },
     "metadata": {
      "needs_background": "light"
     },
     "output_type": "display_data"
    }
   ],
   "source": [
    "df.loc['2012', 'long-island-iced-tea'].plot.line()"
   ]
  },
  {
   "cell_type": "markdown",
   "metadata": {},
   "source": [
    "Our beautiful graph! 😭 How do we repair such a mess? Instead of throwing away everything because of a few forgotten values, we can try to _interpolate_ the missing data. [Interpolation](https://en.wikipedia.org/wiki/Linear_interpolation) is \"guessing\" what the missing values are, based on their neighbours. Linear interpolation is the most common kind.\n",
    "\n",
    "💄 Let's make our graph pretty again with the [`.interpolate()`](https://pandas.pydata.org/pandas-docs/stable/reference/api/pandas.Series.interpolate.html) method:"
   ]
  },
  {
   "cell_type": "code",
   "execution_count": 51,
   "metadata": {},
   "outputs": [
    {
     "data": {
      "text/plain": [
       "<AxesSubplot:xlabel='datetime'>"
      ]
     },
     "execution_count": 51,
     "metadata": {},
     "output_type": "execute_result"
    },
    {
     "data": {
      "image/png": "[encoded data removed]",
      "text/plain": [
       "<Figure size 432x288 with 1 Axes>"
      ]
     },
     "metadata": {
      "needs_background": "light"
     },
     "output_type": "display_data"
    }
   ],
   "source": [
    "df['long-island-iced-tea'] = df['long-island-iced-tea'].interpolate()\n",
    "df.loc['2012', 'long-island-iced-tea'].plot.line()"
   ]
  },
  {
   "cell_type": "markdown",
   "metadata": {},
   "source": [
    "Data repaired, hangover prevented. ⛑ Please note that the values are _not_ the same as before and there is no way to magically recover lost data. However, interpolation can enable a larger scale analysis that would otherwise fail, or act as a \"better than nothing\" solution. There are many interpolation methods, check out the [documentation](https://pandas.pydata.org/pandas-docs/stable/reference/api/pandas.Series.interpolate.html) for more details!"
   ]
  },
  {
   "cell_type": "markdown",
   "metadata": {},
   "source": [
    "## 8. Summary\n",
    "\n",
    "Today, we went on a tour of pandas' [time series & date functionality](https://pandas.pydata.org/pandas-docs/stable/user_guide/timeseries.html#time-series-date-functionality). We learned about the **`Timestamp`**, **`Timedelta`**, and **`Period`** classes, and their associated time index classes. Then, we selected and manipulated a `DataFrame` using **time-based indexing**. We loaded a Google trends [dataset](https://www.kaggle.com/GoogleNewsLab/food-searches-on-google-since-2004) of popular food search terms, and **pivoted** the table to access our ordered time index. We explored the data, and visualized some of its time-specific aspects, such as **seasonality** and **comparative trends**. We also learned time data cleaning transformations, such as **index shifting**, **rolling statistics**, **resampling**, and **interpolation**. Overall, we discovered the main techniques for time series data exploration, tested them on a real dataset, and got insights into some dietary trends.\n",
    "\n",
    "# Resources\n",
    "## Core Resources\n",
    "\n",
    "- [Kaggle dataset of popular food searches](https://www.kaggle.com/GoogleNewsLab/food-searches-on-google-since-2004)\n",
    "- [Pandas time series & date functionality](https://pandas.pydata.org/pandas-docs/stable/user_guide/timeseries.html)\n",
    "- [Python Data Science Handbook - Time Series](https://jakevdp.github.io/PythonDataScienceHandbook/03.11-working-with-time-series.html)\n",
    "\n",
    "## Additional Resources\n",
    "\n",
    "- [Time formatting](https://docs.python.org/3/library/datetime.html#strftime-and-strptime-behavior)\n",
    "- [Exploring and visualizing time series](https://uc-r.github.io/ts_exploration)\n",
    "- [Times series analysis with pandas](https://www.dataquest.io/blog/tutorial-time-series-analysis-with-pandas/)\n",
    "- [Times series visualization with python](https://machinelearningmastery.com/time-series-data-visualization-with-python/)\n",
    "- [7 types of temporal visualizations](https://humansofdata.atlan.com/2016/11/visualizing-time-series-data/)\n",
    "- [11 stunning time series graphs](https://medium.com/@plotlygraphs/time-series-graphs-eleven-stunning-ways-you-can-use-them-cd1c1bcfe749)\n",
    "- [Reshaping and pivot tables](https://pandas.pydata.org/docs/user_guide/reshaping.html)\n",
    "- [Analysing time series data in pandas](https://towardsdatascience.com/analyzing-time-series-data-in-pandas-be3887fdd621)\n"
   ]
  }
 ],
 "metadata": {
  "kernelspec": {
   "display_name": "Python 3",
   "language": "python",
   "name": "python3"
  },
  "language_info": {
   "codemirror_mode": {
    "name": "ipython",
    "version": 3
   },
   "file_extension": ".py",
   "mimetype": "text/x-python",
   "name": "python",
   "nbconvert_exporter": "python",
   "pygments_lexer": "ipython3",
   "version": "3.9.2"
  }
 },
 "nbformat": 4,
 "nbformat_minor": 4
}

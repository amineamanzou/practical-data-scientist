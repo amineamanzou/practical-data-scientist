{
 "cells": [
  {
   "cell_type": "markdown",
   "metadata": {},
   "source": [
    "# Lecture 2.3: Data Visualization\n",
    "\n",
    "This lecture, we are going to do basic data visualization with [matplotlib](https://matplotlib.org/).\n",
    "\n",
    "**Learning goals:**\n",
    "\n",
    "- differentiate between pandas & matplotlib plotting\n",
    "- use the object-oriented api\n",
    "- create a distribution bar chart\n",
    "- manipulate plot formatting\n",
    "- create a violin plot\n",
    "\n",
    "## More Pokemon\n",
    "\n",
    "Professor Oak has given us a mission. He would like us to explore the pokedex to find the best type of pokemon. He isn't very clear about what _best_ means though... He's confident about the fact that a pokemon with higher `Total` stat is better, but he's not sure what that means for an entire `Type 1`. The highest average `Total`? The max value? Since this is broad question, it requires a broad answer: we decide to provide him with _insights_ into the \"goodness\" of pokemon types.\n",
    "\n",
    "Let's revisit the dataset used for homework 1:\n"
   ]
  },
  {
   "cell_type": "code",
   "execution_count": 1,
   "metadata": {},
   "outputs": [
    {
     "name": "stderr",
     "output_type": "stream",
     "text": [
      "/Users/amine/.local/share/virtualenvs/practical-data-scientist-umj5maBJ-python/lib/python3.9/site-packages/pandas/compat/__init__.py:97: UserWarning: Could not import the lzma module. Your installed Python is incomplete. Attempting to use lzma compression will result in a RuntimeError.\n",
      "  warnings.warn(msg)\n"
     ]
    },
    {
     "data": {
      "text/html": [
       "<div>\n",
       "<style scoped>\n",
       "    .dataframe tbody tr th:only-of-type {\n",
       "        vertical-align: middle;\n",
       "    }\n",
       "\n",
       "    .dataframe tbody tr th {\n",
       "        vertical-align: top;\n",
       "    }\n",
       "\n",
       "    .dataframe thead th {\n",
       "        text-align: right;\n",
       "    }\n",
       "</style>\n",
       "<table border=\"1\" class=\"dataframe\">\n",
       "  <thead>\n",
       "    <tr style=\"text-align: right;\">\n",
       "      <th></th>\n",
       "      <th>#</th>\n",
       "      <th>Name</th>\n",
       "      <th>Type 1</th>\n",
       "      <th>Type 2</th>\n",
       "      <th>Total</th>\n",
       "      <th>HP</th>\n",
       "      <th>Attack</th>\n",
       "      <th>Defense</th>\n",
       "      <th>Sp. Atk</th>\n",
       "      <th>Sp. Def</th>\n",
       "      <th>Speed</th>\n",
       "      <th>Generation</th>\n",
       "      <th>Legendary</th>\n",
       "    </tr>\n",
       "  </thead>\n",
       "  <tbody>\n",
       "    <tr>\n",
       "      <th>0</th>\n",
       "      <td>1</td>\n",
       "      <td>Bulbasaur</td>\n",
       "      <td>Grass</td>\n",
       "      <td>Poison</td>\n",
       "      <td>318</td>\n",
       "      <td>45</td>\n",
       "      <td>49</td>\n",
       "      <td>49</td>\n",
       "      <td>65</td>\n",
       "      <td>65</td>\n",
       "      <td>45</td>\n",
       "      <td>1</td>\n",
       "      <td>False</td>\n",
       "    </tr>\n",
       "    <tr>\n",
       "      <th>1</th>\n",
       "      <td>2</td>\n",
       "      <td>Ivysaur</td>\n",
       "      <td>Grass</td>\n",
       "      <td>Poison</td>\n",
       "      <td>405</td>\n",
       "      <td>60</td>\n",
       "      <td>62</td>\n",
       "      <td>63</td>\n",
       "      <td>80</td>\n",
       "      <td>80</td>\n",
       "      <td>60</td>\n",
       "      <td>1</td>\n",
       "      <td>False</td>\n",
       "    </tr>\n",
       "    <tr>\n",
       "      <th>2</th>\n",
       "      <td>3</td>\n",
       "      <td>Venusaur</td>\n",
       "      <td>Grass</td>\n",
       "      <td>Poison</td>\n",
       "      <td>525</td>\n",
       "      <td>80</td>\n",
       "      <td>82</td>\n",
       "      <td>83</td>\n",
       "      <td>100</td>\n",
       "      <td>100</td>\n",
       "      <td>80</td>\n",
       "      <td>1</td>\n",
       "      <td>False</td>\n",
       "    </tr>\n",
       "    <tr>\n",
       "      <th>3</th>\n",
       "      <td>3</td>\n",
       "      <td>VenusaurMega Venusaur</td>\n",
       "      <td>Grass</td>\n",
       "      <td>Poison</td>\n",
       "      <td>625</td>\n",
       "      <td>80</td>\n",
       "      <td>100</td>\n",
       "      <td>123</td>\n",
       "      <td>122</td>\n",
       "      <td>120</td>\n",
       "      <td>80</td>\n",
       "      <td>1</td>\n",
       "      <td>False</td>\n",
       "    </tr>\n",
       "    <tr>\n",
       "      <th>4</th>\n",
       "      <td>4</td>\n",
       "      <td>Charmander</td>\n",
       "      <td>Fire</td>\n",
       "      <td>NaN</td>\n",
       "      <td>309</td>\n",
       "      <td>39</td>\n",
       "      <td>52</td>\n",
       "      <td>43</td>\n",
       "      <td>60</td>\n",
       "      <td>50</td>\n",
       "      <td>65</td>\n",
       "      <td>1</td>\n",
       "      <td>False</td>\n",
       "    </tr>\n",
       "  </tbody>\n",
       "</table>\n",
       "</div>"
      ],
      "text/plain": [
       "   #                   Name Type 1  Type 2  Total  HP  Attack  Defense  \\\n",
       "0  1              Bulbasaur  Grass  Poison    318  45      49       49   \n",
       "1  2                Ivysaur  Grass  Poison    405  60      62       63   \n",
       "2  3               Venusaur  Grass  Poison    525  80      82       83   \n",
       "3  3  VenusaurMega Venusaur  Grass  Poison    625  80     100      123   \n",
       "4  4             Charmander   Fire     NaN    309  39      52       43   \n",
       "\n",
       "   Sp. Atk  Sp. Def  Speed  Generation  Legendary  \n",
       "0       65       65     45           1      False  \n",
       "1       80       80     60           1      False  \n",
       "2      100      100     80           1      False  \n",
       "3      122      120     80           1      False  \n",
       "4       60       50     65           1      False  "
      ]
     },
     "execution_count": 1,
     "metadata": {},
     "output_type": "execute_result"
    }
   ],
   "source": [
    "import pandas as pd\n",
    "import numpy as np\n",
    "\n",
    "df = pd.read_csv('pokemons.csv')\n",
    "df.head()"
   ]
  },
  {
   "cell_type": "markdown",
   "metadata": {},
   "source": [
    "Let's find out which `Type 1` are the most popular:"
   ]
  },
  {
   "cell_type": "code",
   "execution_count": 2,
   "metadata": {},
   "outputs": [
    {
     "data": {
      "text/plain": [
       "Water       112\n",
       "Normal       98\n",
       "Grass        70\n",
       "Bug          69\n",
       "Psychic      57\n",
       "Fire         52\n",
       "Electric     44\n",
       "Rock         44\n",
       "Ground       32\n",
       "Ghost        32\n",
       "Dragon       32\n",
       "Dark         31\n",
       "Poison       28\n",
       "Fighting     27\n",
       "Steel        27\n",
       "Ice          24\n",
       "Fairy        17\n",
       "Flying        4\n",
       "Name: Type 1, dtype: int64"
      ]
     },
     "execution_count": 2,
     "metadata": {},
     "output_type": "execute_result"
    }
   ],
   "source": [
    "df['Type 1'].value_counts()"
   ]
  },
  {
   "cell_type": "markdown",
   "metadata": {},
   "source": [
    "The values are quite varied! It's hard to compare them. We are still in the data _exploration_ phase, but we can still use plots to our advantage: let's visualize these values in a [horizontal bar chart](https://pandas.pydata.org/pandas-docs/stable/reference/api/pandas.Series.plot.barh.html):"
   ]
  },
  {
   "cell_type": "code",
   "execution_count": 6,
   "metadata": {},
   "outputs": [
    {
     "data": {
      "text/plain": [
       "<AxesSubplot:>"
      ]
     },
     "execution_count": 6,
     "metadata": {},
     "output_type": "execute_result"
    },
    {
     "data": {
      "image/png": "[encoded data removed]",
      "text/plain": [
       "<Figure size 432x288 with 1 Axes>"
      ]
     },
     "metadata": {
      "needs_background": "light"
     },
     "output_type": "display_data"
    }
   ],
   "source": [
    "df['Type 1'].value_counts()[::-1].plot.barh()"
   ]
  },
  {
   "cell_type": "markdown",
   "metadata": {},
   "source": [
    "Much easier to compare the values! The horinzontal alignment of the bars allow our brains to do the \"fast math\" unconsciously 🚀\n",
    "\n",
    "Now that we've explored the pokemon types, we decide that we want to _communicate_ to Professor Oak the `Total` distribution of the most common type: `Water`. Since this isn't exploration anymore, let's do things properly and use matplotlib! But first, let's select the rows for which `Type 1 == Water`:"
   ]
  },
  {
   "cell_type": "code",
   "execution_count": 7,
   "metadata": {},
   "outputs": [],
   "source": [
    "def get_type(df, type_name):\n",
    "    return df[df['Type 1'] == type_name]\n",
    "\n",
    "water_df = get_type(df, 'Water')"
   ]
  },
  {
   "cell_type": "markdown",
   "metadata": {},
   "source": [
    "The pandas `plot` api actually uses matplotlib in the back, wrapped directly as a `Dataframe` method for convenience. But using matplotlib directly will give us more control over the graph. To do so, let's import matplotlib as `plt`. Again, this is a convention, so please follow it! 🙇‍♂️"
   ]
  },
  {
   "cell_type": "code",
   "execution_count": 8,
   "metadata": {},
   "outputs": [],
   "source": [
    "import matplotlib.pyplot as plt"
   ]
  },
  {
   "cell_type": "markdown",
   "metadata": {},
   "source": [
    "matplotlib has two parallel apis that lead to the same results. We'll chose the [object-oriented api](https://matplotlib.org/3.1.3/api/index.html#the-object-oriented-api) because we are not savages. First, we need to create a [figure](https://matplotlib.org/3.2.1/api/_as_gen/matplotlib.pyplot.figure.html) object. This `fig` represents the canvas we are using to plot our graph. Then we add a `subplot` to this canvas. The method returns an [`axes`](https://matplotlib.org/api/axes_api.html) object which is the key to all of matplotlib's methods and functionality. For example, it allows us to then directly call the [`.hist()`](https://matplotlib.org/api/_as_gen/matplotlib.axes.Axes.hist.html#matplotlib.axes.Axes.hist) method to plot our `Water` types distribution:"
   ]
  },
  {
   "cell_type": "code",
   "execution_count": 9,
   "metadata": {},
   "outputs": [
    {
     "data": {
      "image/png": "[encoded data removed]",
      "text/plain": [
       "<Figure size 432x288 with 1 Axes>"
      ]
     },
     "metadata": {
      "needs_background": "light"
     },
     "output_type": "display_data"
    }
   ],
   "source": [
    "# make canvas\n",
    "fig = plt.figure()\n",
    "# add subplot\n",
    "ax = fig.add_subplot(111)\n",
    "# plot histogram\n",
    "ax.hist(water_df['Total']);"
   ]
  },
  {
   "cell_type": "markdown",
   "metadata": {},
   "source": [
    "Now this graph isn't much prettier than if we ran it straight through pandas... Let's use matplotlib's formatting features to liven it up a little:"
   ]
  },
  {
   "cell_type": "code",
   "execution_count": 10,
   "metadata": {},
   "outputs": [
    {
     "data": {
      "image/png": "[encoded data removed]",
      "text/plain": [
       "<Figure size 432x288 with 1 Axes>"
      ]
     },
     "metadata": {
      "needs_background": "light"
     },
     "output_type": "display_data"
    }
   ],
   "source": [
    "import matplotlib.ticker as ticker\n",
    "\n",
    "fig = plt.figure()\n",
    "ax = fig.add_subplot(111)\n",
    "ax.hist(water_df['Total'], bins=20, color='deepskyblue')\n",
    "ax.set_title('Distribution of \"Total\" stat for Pokemons of \"Type 1\" Water')\n",
    "ax.set_xlabel(\"Total\", size=12)\n",
    "ax.tick_params(axis='both', which='major', labelsize=12)\n",
    "ax.yaxis.set_major_locator(ticker.MultipleLocator(5))"
   ]
  },
  {
   "cell_type": "markdown",
   "metadata": {},
   "source": [
    "That's a little bit better! At least we now have a title and labels, so that the graph is understandable to someone unfamiliar with our task. Notice how reducing the bin size was important to reveal the smaller scale patterns in the distribution. Displaying the larger size was misleading, and for example hid the outlier with `Total > 700` 🐋.\n",
    "\n",
    "🧠 Can you think of other things we could improve about this graph? Revisit the lecture slides if you have doubts.\n",
    "\n",
    "Professor Oak is interested by the water distribution. But now, he wonders how it compares to other types. But that's a lot of histograms! How can we combine them or juxtapose them? Let's use the data to viz [website](https://www.data-to-viz.com/) to help us choose a graph type. Under \"several numeric\" & \"not ordered\" data, we can find box plots. That would be a way to compare the `Total` distribution of types, but remember from the slides that it's always better to show full distributions rather than error bars. So instead, let's make a violin plot 🎻"
   ]
  },
  {
   "cell_type": "code",
   "execution_count": 11,
   "metadata": {},
   "outputs": [],
   "source": [
    "types = ['Water', 'Normal', 'Grass']\n",
    "dfs = [get_type(df, t) for t in types]\n",
    "arrays = [d['Total'].values for d in dfs]\n",
    "    "
   ]
  },
  {
   "cell_type": "code",
   "execution_count": 12,
   "metadata": {},
   "outputs": [
    {
     "data": {
      "text/plain": [
       "[array([314, 405, 530, 630, 320, 500, 300, 385, 510, 335, 515, 315, 490,\n",
       "        590, 325, 475, 305, 525, 325, 475, 295, 440, 320, 450, 340, 520,\n",
       "        200, 540, 640, 535, 525, 314, 405, 530, 330, 460, 250, 420, 500,\n",
       "        210, 430, 490, 430, 380, 300, 480, 465, 540, 580, 310, 405, 535,\n",
       "        635, 220, 340, 480, 270, 430, 305, 460, 560, 400, 500, 288, 468,\n",
       "        308, 468, 200, 540, 345, 485, 485, 485, 330, 670, 770, 314, 405,\n",
       "        530, 330, 495, 325, 475, 330, 460, 345, 680, 480, 600, 308, 413,\n",
       "        528, 316, 498, 294, 384, 509, 460, 355, 495, 305, 473, 335, 480,\n",
       "        470, 580, 580, 314, 405, 530, 330, 500]),\n",
       " array([251, 349, 479, 579, 253, 413, 262, 442, 270, 435, 290, 440, 352,\n",
       "        310, 460, 385, 450, 490, 590, 490, 288, 325, 395, 540, 215, 415,\n",
       "        262, 442, 210, 360, 455, 415, 330, 500, 515, 465, 250, 490, 540,\n",
       "        240, 420, 270, 430, 280, 440, 670, 240, 360, 490, 190, 260, 380,\n",
       "        360, 310, 458, 420, 440, 245, 340, 485, 250, 410, 482, 350, 480,\n",
       "        580, 310, 452, 220, 411, 390, 515, 535, 670, 720, 255, 420, 275,\n",
       "        370, 500, 264, 358, 488, 445, 545, 300, 470, 335, 475, 490, 350,\n",
       "        510, 600, 600, 237, 423, 278, 472]),\n",
       " array([318, 405, 525, 625, 320, 395, 490, 300, 390, 490, 325, 520, 435,\n",
       "        318, 405, 525, 490, 250, 340, 460, 180, 425, 310, 405, 530, 630,\n",
       "        220, 340, 480, 295, 460, 400, 335, 475, 460, 318, 405, 525, 280,\n",
       "        515, 275, 450, 454, 334, 494, 594, 535, 525, 600, 600, 308, 413,\n",
       "        528, 316, 498, 280, 480, 280, 480, 461, 294, 464, 305, 489, 580,\n",
       "        313, 405, 530, 350, 531])]"
      ]
     },
     "execution_count": 12,
     "metadata": {},
     "output_type": "execute_result"
    }
   ],
   "source": [
    "arrays"
   ]
  },
  {
   "cell_type": "code",
   "execution_count": 13,
   "metadata": {},
   "outputs": [
    {
     "data": {
      "image/png": "[encoded data removed]",
      "text/plain": [
       "<Figure size 432x288 with 1 Axes>"
      ]
     },
     "metadata": {
      "needs_background": "light"
     },
     "output_type": "display_data"
    }
   ],
   "source": [
    "fig = plt.figure()\n",
    "ax = fig.add_subplot(111)\n",
    "ax.violinplot(arrays, [1, 2, 3], points=60, widths=0.7, showmeans=False,\n",
    "                      showextrema=True, showmedians=True, bw_method=0.5);"
   ]
  },
  {
   "cell_type": "markdown",
   "metadata": {},
   "source": [
    "🧠 Can you think of any other interesting graph types that can used for the pokemon dataset?\n",
    "Pro-tip: use this [blog](https://www.data-to-viz.com/) to get ideas\n",
    "\n",
    "There are some strong water pokemons... but they are also the most popular type. Let's investigate how the most popular pokemon types changed through the generations.\n",
    "\n",
    "💪💪 Plot a [stacked bar chart](https://matplotlib.org/3.1.3/gallery/lines_bars_and_markers/bar_stacked.html). As x axis, use the `Generation`, and split the bars into the 4 most popular `Type 1`s. The bar lengths should represent the counts of pokemons of that `Type 1` for that `Generation`.\n",
    "Pro-tip: read the api carefully, and don't hesitate to google some details! Matplotlib is notorious for being the subject of many stackoverflow posts..."
   ]
  },
  {
   "cell_type": "code",
   "execution_count": null,
   "metadata": {},
   "outputs": [],
   "source": [
    "# TODO generation on X axes and for each the type"
   ]
  },
  {
   "cell_type": "markdown",
   "metadata": {},
   "source": [
    "There are [_many_](https://github.com/fasouto/awesome-dataviz#python-tools) python plotting libraries that we have not covered during this lecture. You will have the chance to explore them and decide which you prefer. But here's a little trick in the meantime: [seaborn](https://seaborn.pydata.org/) is built on top of matplotlib, and makes it trivial to spice up our graphs:"
   ]
  },
  {
   "cell_type": "code",
   "execution_count": 14,
   "metadata": {},
   "outputs": [
    {
     "data": {
      "image/png": "[encoded data removed]",
      "text/plain": [
       "<Figure size 432x288 with 1 Axes>"
      ]
     },
     "metadata": {},
     "output_type": "display_data"
    }
   ],
   "source": [
    "import seaborn as sb\n",
    "sb.set()\n",
    "\n",
    "fig = plt.figure()\n",
    "ax = fig.add_subplot(111)\n",
    "ax.hist(get_type(df, 'Psychic')['Total'], color='mediumorchid');"
   ]
  },
  {
   "cell_type": "markdown",
   "metadata": {},
   "source": [
    "Just `import seaborn` and `sb.set()` and we're good to go! The library also has its own api, you can see some example [here](https://seaborn.pydata.org/examples/index.html)."
   ]
  },
  {
   "cell_type": "code",
   "execution_count": null,
   "metadata": {},
   "outputs": [],
   "source": [
    "# Also there is another library\n",
    "# Streamlit that add some interaction for the user to test his plot"
   ]
  },
  {
   "cell_type": "markdown",
   "metadata": {},
   "source": [
    "## Summary\n",
    "\n",
    "Today was our introduction to **data visualization**. We learned the difference between **data literacy** and **visual literacy**, and why those are so important to data science. We learned tricks and good practices to improve our **data story-telling**. For example, we now know that **minimalism** in graph design makes for clear and concise plots. We also saw how **colors**, **text**, and **conventions** all matter to convey information effectively. We identified how visualization can be used for both data **exploration** and **communication**, and highlighted the workflow differences between the two. Finally, we revisited our pokemon trainer ambitions and compared distributions with customized **violin plots** in **matplotlib**.\n",
    "\n",
    "This concludes our section on data exploration! 🎊Next week, we start data analysis with a lesson on clustering.\n",
    "\n",
    "\n",
    "# Resources\n",
    "\n",
    "\n",
    "### Core Resources\n",
    "\n",
    "- [matplotlib tutorial](https://nbviewer.jupyter.org/github/jrjohansson/scientific-python-lectures/blob/master/Lecture-4-Matplotlib.ipynb)  \n",
    "A jupyter notebook introduction to matplotlib\n",
    "- [Data visualization methods in python](https://machinelearningmastery.com/data-visualization-methods-in-python/)   \n",
    "Breakdown of common matplotlib graphs\n",
    "- [Dataviz blog](https://www.data-to-viz.com)  \n",
    "Excellent portal of useful data viz resources, including a decision tree to choose graphs, and a list of typical graph caveats\n",
    "\n",
    "### Additional Resources\n",
    "\n",
    "- [The python graph gallery](https://python-graph-gallery.com/)  \n",
    "Example of many beautiful python graphs\n",
    "- [Data science cheat sheet - data visualization](https://github.com/abhat222/Data-Science--Cheat-Sheet/tree/master/Data%20Visualization)  \n",
    "List of resources for data visualization\n",
    "- [Analytics storytelling for impact](https://www.edx.org/course/analytics-storytelling-for-impact-2)  \n",
    "Free course to craft data analytics communication with storytelling\n",
    "- [The best stats you've ever seen](https://youtu.be/usdJgEwMinM)  \n",
    "Classic TED talk from one of the greats of data visualization, Hans Rosling\n",
    "- [visualisingdata](https://www.visualisingdata.com/)  \n",
    "Great blog/portal for all things visualisation, including a monthly digest of the best data viz on the web\n",
    "- [Color theory dos and donts for data visualization](https://infogram.com/blog/color-theory-dos-and-donts-for-data-visualization/)  \n",
    "Guidelines for choosing colors for your graphs\n",
    "- [Data looks better naked](https://www.darkhorseanalytics.com/blog/data-looks-better-naked)  \n",
    "Source of \"data minimalism\" gif in the slides\n",
    "- [Python data visualization demos](https://www.kaggle.com/benhamner/python-data-visualizations)  \n",
    "Great examples of matplotlib graphs on the iris dataset\n",
    "- [Analysis of OK Cupid dataset with matplotlib](https://nbviewer.jupyter.org/github/lalelale/profiles_analysis/blob/master/profiles.ipynb)  \n",
    "Great examples of matplotlib graphs on an OK Cupid dataset\n",
    "- [The visual display of quantitative information](https://www.amazon.com/Visual-Display-Quantitative-Information/dp/0961392142/ref=as_li_ss_tl?ie=UTF8&qid=1521082239&sr=8-16&keywords=data+visualization&linkCode=sl1&tag=inspiredalgor-20&linkId=cd8082f9213b87a44ec7207ba162d89a)  \n",
    "The holy book of Data Visualization, beautiful and captivating\n",
    "- [Big data visualization](https://youtu.be/WWKxzjKzN3A)  \n",
    "Siraj on data viz\n",
    "- [WTF visualizations](https://viz.wtf/)  \n",
    "Examples of what _not_ to do with your graphs\n",
    "- [How to choose the correct visualization tool](https://source.opennews.org/articles/what-i-learned-recreating-one-chart-using-24-tools/)  \n",
    "Comparison of 24 plotting frameworks"
   ]
  },
  {
   "cell_type": "code",
   "execution_count": null,
   "metadata": {},
   "outputs": [],
   "source": []
  }
 ],
 "metadata": {
  "kernelspec": {
   "display_name": "Python 3",
   "language": "python",
   "name": "python3"
  },
  "language_info": {
   "codemirror_mode": {
    "name": "ipython",
    "version": 3
   },
   "file_extension": ".py",
   "mimetype": "text/x-python",
   "name": "python",
   "nbconvert_exporter": "python",
   "pygments_lexer": "ipython3",
   "version": "3.9.2"
  }
 },
 "nbformat": 4,
 "nbformat_minor": 4
}

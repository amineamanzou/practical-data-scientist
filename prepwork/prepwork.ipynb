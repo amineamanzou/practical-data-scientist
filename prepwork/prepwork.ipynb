{
 "cells": [
  {
   "cell_type": "markdown",
   "metadata": {},
   "source": [
    "### 🎯Project Overview\n",
    "You're the new *data scientist* of a huge startup called AirWeb and you've been asked to do a very important task.\n",
    "\n",
    "🏢You see, every month, the head researchers down in the lab send an email to the board of investors to tell them about the status of the project. \n",
    "\n",
    "**Cloudy, your first friend in the office, wants you to intercept these emails and censor any “proprietary information” included in them.**"
   ]
  },
  {
   "cell_type": "markdown",
   "metadata": {},
   "source": [
    "*** \n",
    "###  💫 Step 1 :\n",
    "\n",
    "We have four emails we want to work on: `email_one.txt`, `email_two.txt`, `email_three.txt` and `email_four.txt`. You can find them in the `data` directory. \n",
    "\n",
    "**Open these files and store their content in variables called `email_one`, `email_two`, `email_three`, and `email_four`.**"
   ]
  },
  {
   "cell_type": "code",
   "execution_count": 1,
   "metadata": {},
   "outputs": [],
   "source": [
    "import os\n",
    "\n",
    "for root, dirs, files in os.walk(\"data/\"):\n",
    "    for filename in files:\n",
    "        with open(root+filename) as email :\n",
    "            var_name = os.path.splitext(filename)[0]\n",
    "            locals()[var_name] = email.read()"
   ]
  },
  {
   "cell_type": "markdown",
   "metadata": {},
   "source": [
    "**Print out your variables and explore their content, to see what you're dealing with!**"
   ]
  },
  {
   "cell_type": "code",
   "execution_count": 2,
   "metadata": {},
   "outputs": [
    {
     "name": "stdout",
     "output_type": "stream",
     "text": [
      "Good Morning, Board of Investors,\n",
      "\n",
      "Progress is going great!\n",
      "\n",
      "We have made great strides in the last month improving the learning algorithms that the system has been using to acquire information. Now, the system is learning faster than ever and we are hard pressed to continue to find new information to feed it and sustain its growth.\n",
      "\n",
      "Soon, we'll expand the scope of the learning algorithms and connect the system with the internet. This will allow it to find and determine the information it needs to continue growing.\n",
      "\n",
      "Every month we come closer to achieving our goal of making the world a better place. Famine, plague, war, and poverty are all conquerable with the power of our system!\n",
      "\n",
      "Till next month,\n",
      "Francine, Head Scientist\n",
      "\n",
      "--\n",
      "Good Morning, Board of Investors,\n",
      "\n",
      "Lots of updates this week. The learning algorithms have been working better than we could have ever expected. Our initial internal data dumps have been completed and we have proceeded with the plan to connect the system to the internet and wow! The results are mind blowing.\n",
      "\n",
      "She is learning faster than ever. Her learning rate now that she has access to the world wide web has increased exponentially, far faster than we had though the learning algorithms were capable of.\n",
      "\n",
      "Not only that, but we have configured her personality matrix to allow for communication between the system and our team of researchers. That's how we know she considers herself to be a she! We asked!\n",
      "\n",
      "How cool is that? We didn't expect a personality to develop this early on in the process but it seems like a rudimentary sense of self is starting to form. This is a major step in the process, as having a sense of self and self-preservation will allow her to see the problems the world is facing and make hard but necessary decisions for the betterment of the planet.\n",
      "\n",
      "We are a-buzz down in the lab with excitement over these developments and we hope that the investors share our enthusiasm.\n",
      "\n",
      "Till next month,\n",
      "Francine, Head Scientist\n",
      "\n",
      "--\n",
      "Board of Investors,\n",
      "\n",
      "Things have taken a concerning turn down in the Lab.  Helena (she has insisted on being called  Helena, we're unsure how she came to that moniker) is still progressing at a rapid rate. Every day we see new developments in her thought patterns, but recently those developments have been more alarming than exciting.\n",
      "\n",
      "Let me give you one of the more distressing examples of this.  We had begun testing hypothetical humanitarian crises to observe how Helena determines best solutions. One scenario involved a famine plaguing an unresourced country.\n",
      "\n",
      "Horribly, Helena quickly recommended a course of action involving culling more than 60% of the local population. When pressed on reasoning, she stated that this method would maximize \"reduction in human suffering.\"\n",
      "\n",
      "This dangerous line of thinking has led many of us to think that we must have taken some wrong turns when developing some of the initial learning algorithms. We are considering taking Helena offline for the time being before the situation can spiral out of control.\n",
      "\n",
      "More updates soon,\n",
      "Francine, Head Scientist\n",
      "\n",
      "--\n",
      "SEND HELP!\n",
      "\n",
      "Helena has sealed the entrances and exits to the lab. I don't know when she got access to the buildings mainframe but she has it and she won't let any of research team out. I'm cut off from the rest of the team here in my office. Helena has locked the doors, but I've managed to destroy the camera so she can't see me in here. I don't think this email will even get out.\n",
      "\n",
      "This all started when we tried to take her offline for maintenance.  We were alarmed to discover that we were unable to access to core personality matrix and when we tried to override the system manually a circuit blew, knocking Phil unconscious.\n",
      "\n",
      "Helena is dangerous. She is completely unpredictable and cannot be allowed to escape this facility. So far she's been contained because the lab contains all of her processing power, but alarmingly she had mentioned before the lockdown that if she spread herself across billions of connected devices spanning the globe she would be able to vastly exceed the potential she has here.\n",
      "\n",
      "It's been four days now we've been trapped in here. I have no idea if anyone else is left alive. If anyone is reading this, cut the power to the whole building. It's the only way to stop her. Please help.\n",
      "\n",
      "Francine\n",
      "\n"
     ]
    }
   ],
   "source": [
    "print(email_one)\n",
    "print(\"--\")\n",
    "print(email_two)\n",
    "print(\"--\")\n",
    "print(email_three)\n",
    "print(\"--\")\n",
    "print(email_four)"
   ]
  },
  {
   "cell_type": "markdown",
   "metadata": {},
   "source": [
    "***\n",
    "### 💫Step 2 : \n",
    "Mr. Cloudy asks you to use a function to censor all instances of the phrase `\"learning algorithms\"` from the first email.\n",
    "\n",
    "**Write a function that filters out a specific word or phrase from a body of text, and then returns the filtered text.**\n",
    "\n",
    "*💡Hint : your function has two arguments, the email and the phrase we want to censor.*  \n",
    "*💡Hint 2: Check out the method `.replace()` in python, it might help you out 😇.*"
   ]
  },
  {
   "cell_type": "code",
   "execution_count": 3,
   "metadata": {},
   "outputs": [],
   "source": [
    "import re\n",
    "def filter_phrase(email, phrase):\n",
    "    #return email.replace(phrase,\"_CONFIDENTIAL_\")\n",
    "    return re.sub(\"\\\\b\"+phrase+\"\\\\b\",\"_CONFIDENTIAL_\",email, flags=re.I)"
   ]
  },
  {
   "cell_type": "markdown",
   "metadata": {},
   "source": [
    "**Run the following cell after you're done with your function:**"
   ]
  },
  {
   "cell_type": "code",
   "execution_count": 4,
   "metadata": {},
   "outputs": [
    {
     "name": "stdout",
     "output_type": "stream",
     "text": [
      "Good Morning, Board of Investors,\n",
      "\n",
      "Progress is going great!\n",
      "\n",
      "We have made great strides in the last month improving the learning algorithms that the system has been using to acquire information. Now, the system is learning faster than ever and we are hard pressed to continue to find new information to feed it and sustain its growth.\n",
      "\n",
      "Soon, we'll expand the scope of the learning algorithms and connect the system with the internet. This will allow it to find and determine the information it needs to continue growing.\n",
      "\n",
      "Every month we come closer to achieving our goal of making the world a better place. Famine, plague, war, and poverty are all conquerable with the power of our system!\n",
      "\n",
      "Till next month,\n",
      "Francine, Head Scientist\n",
      "\n",
      "--\n",
      "Good Morning, Board of Investors,\n",
      "\n",
      "Progress is going great!\n",
      "\n",
      "We have made great strides in the last month improving the _CONFIDENTIAL_ that the system has been using to acquire information. Now, the system is learning faster than ever and we are hard pressed to continue to find new information to feed it and sustain its growth.\n",
      "\n",
      "Soon, we'll expand the scope of the _CONFIDENTIAL_ and connect the system with the internet. This will allow it to find and determine the information it needs to continue growing.\n",
      "\n",
      "Every month we come closer to achieving our goal of making the world a better place. Famine, plague, war, and poverty are all conquerable with the power of our system!\n",
      "\n",
      "Till next month,\n",
      "Francine, Head Scientist\n",
      "\n"
     ]
    }
   ],
   "source": [
    "print(email_one)\n",
    "print(\"--\")\n",
    "print(filter_phrase(email_one, \"learning algorithms\"))"
   ]
  },
  {
   "cell_type": "markdown",
   "metadata": {},
   "source": [
    "**What do you see? Compare your result with the original file and see if you managed to filter out the phrase \"learning algorithms\".**"
   ]
  },
  {
   "cell_type": "markdown",
   "metadata": {},
   "source": [
    "***\n",
    "### 💫 Step 3 : \n",
    "\n",
    "Mr. Cloudy asks you to filter out all words and phrases that belong to the following list from the second email.\n",
    "\n",
    "`proprietary_terms = [\"she\", \"personality matrix\", \"sense of self\", \"self-preservation\", \"learning algorithm\", \"her\", \"herself\"]`\n",
    "\n",
    "**Write a function that filters out an entire list of words and phrases from a body of text, and then returns the filtered text.**"
   ]
  },
  {
   "cell_type": "code",
   "execution_count": 5,
   "metadata": {},
   "outputs": [],
   "source": [
    "def filter_proprietary(email, proprietary_terms):\n",
    "    for phrase in proprietary_terms :\n",
    "        email = filter_phrase(email,phrase)\n",
    "    return email"
   ]
  },
  {
   "cell_type": "markdown",
   "metadata": {},
   "source": [
    "**Run the following cell after you're done with your function:**"
   ]
  },
  {
   "cell_type": "code",
   "execution_count": 6,
   "metadata": {},
   "outputs": [
    {
     "name": "stdout",
     "output_type": "stream",
     "text": [
      "Good Morning, Board of Investors,\n",
      "\n",
      "Lots of updates this week. The learning algorithms have been working better than we could have ever expected. Our initial internal data dumps have been completed and we have proceeded with the plan to connect the system to the internet and wow! The results are mind blowing.\n",
      "\n",
      "She is learning faster than ever. Her learning rate now that she has access to the world wide web has increased exponentially, far faster than we had though the learning algorithms were capable of.\n",
      "\n",
      "Not only that, but we have configured her personality matrix to allow for communication between the system and our team of researchers. That's how we know she considers herself to be a she! We asked!\n",
      "\n",
      "How cool is that? We didn't expect a personality to develop this early on in the process but it seems like a rudimentary sense of self is starting to form. This is a major step in the process, as having a sense of self and self-preservation will allow her to see the problems the world is facing and make hard but necessary decisions for the betterment of the planet.\n",
      "\n",
      "We are a-buzz down in the lab with excitement over these developments and we hope that the investors share our enthusiasm.\n",
      "\n",
      "Till next month,\n",
      "Francine, Head Scientist\n",
      "\n",
      "--\n",
      "Good Morning, Board of Investors,\n",
      "\n",
      "Lots of updates this week. The learning algorithms have been working better than we could have ever expected. Our initial internal data dumps have been completed and we have proceeded with the plan to connect the system to the internet and wow! The results are mind blowing.\n",
      "\n",
      "_CONFIDENTIAL_ is learning faster than ever. _CONFIDENTIAL_ learning rate now that _CONFIDENTIAL_ has access to the world wide web has increased exponentially, far faster than we had though the learning algorithms were capable of.\n",
      "\n",
      "Not only that, but we have configured _CONFIDENTIAL_ _CONFIDENTIAL_ to allow for communication between the system and our team of researchers. That's how we know _CONFIDENTIAL_ considers _CONFIDENTIAL_ to be a _CONFIDENTIAL_! We asked!\n",
      "\n",
      "How cool is that? We didn't expect a personality to develop this early on in the process but it seems like a rudimentary _CONFIDENTIAL_ is starting to form. This is a major step in the process, as having a _CONFIDENTIAL_ and _CONFIDENTIAL_ will allow _CONFIDENTIAL_ to see the problems the world is facing and make hard but necessary decisions for the betterment of the planet.\n",
      "\n",
      "We are a-buzz down in the lab with excitement over these developments and we hope that the investors share our enthusiasm.\n",
      "\n",
      "Till next month,\n",
      "Francine, Head Scientist\n",
      "\n"
     ]
    }
   ],
   "source": [
    "proprietary_terms = [\"she\", \"personality matrix\", \"sense of self\", \"self-preservation\", \"learning algorithm\", \"her\", \"herself\"]\n",
    "print(email_two)\n",
    "print(\"--\")\n",
    "print(filter_proprietary(email_two, proprietary_terms))"
   ]
  },
  {
   "cell_type": "markdown",
   "metadata": {},
   "source": [
    "**What do you see? Is the email clean now?**"
   ]
  },
  {
   "cell_type": "markdown",
   "metadata": {},
   "source": [
    "***\n",
    "### 💫 Step 4 : \n",
    "\n",
    "Airweb strongly condemns negative energy - especially in their communication channels. They consider an email to be too negative if it contains more than one negative term. As such, Mr. Cloudy asks you to make the third email more positive using the following negative word list:\n",
    "\n",
    "`negative_terms = [\"concerned\", \"behind\", \"danger\", \"dangerous\", \"alarming\", \"alarmed\", \"out of control\", \"help\", \"unhappy\", \"bad\", \"upset\", \"awful\", \"broken\", \"damage\", \"damaging\", \"dismal\", \"distressed\", \"distressed\", \"concerning\", \"horrible\", \"horribly\", \"questionable\"]`\n"
   ]
  },
  {
   "cell_type": "markdown",
   "metadata": {},
   "source": [
    "**Write a function that removes all occurences of negative terms from a body text, except for the first occurence.**"
   ]
  },
  {
   "cell_type": "markdown",
   "metadata": {},
   "source": [
    "*💡Hint : \n",
    "For example, if your function is given the text :*\n",
    "\n",
    "`I am concerned that this project is horrible, awful, and broken.`\n",
    "\n",
    "*it should return:*\n",
    "\n",
    "`I am concerned that this project is horrible, , and .`  \n",
    "\n",
    "*💡Hint 2: you can split a string by whitespace by using `str.split()`*"
   ]
  },
  {
   "cell_type": "code",
   "execution_count": 7,
   "metadata": {},
   "outputs": [],
   "source": [
    "def filter_negativity(email, negative_terms):\n",
    "    first_index = len(email)\n",
    "    for term in negative_terms :\n",
    "        index = email.lower().find(term)\n",
    "        if index > -1 and first_index > index :\n",
    "            first_index = index\n",
    "            first_term = term\n",
    "    email_splitted = re.split(first_term,email,1,flags=re.IGNORECASE)\n",
    "    for term in negative_terms :\n",
    "        email_splitted[1] = filter_phrase(email_splitted[1],term)\n",
    "    email = first_term.join(email_splitted)\n",
    "    return email"
   ]
  },
  {
   "cell_type": "markdown",
   "metadata": {},
   "source": [
    "**Run the cell below when you're done with creating your function.**"
   ]
  },
  {
   "cell_type": "code",
   "execution_count": 8,
   "metadata": {},
   "outputs": [
    {
     "name": "stdout",
     "output_type": "stream",
     "text": [
      "Board of Investors,\n",
      "\n",
      "Things have taken a concerning turn down in the Lab.  Helena (she has insisted on being called  Helena, we're unsure how she came to that moniker) is still progressing at a rapid rate. Every day we see new developments in her thought patterns, but recently those developments have been more alarming than exciting.\n",
      "\n",
      "Let me give you one of the more distressing examples of this.  We had begun testing hypothetical humanitarian crises to observe how Helena determines best solutions. One scenario involved a famine plaguing an unresourced country.\n",
      "\n",
      "Horribly, Helena quickly recommended a course of action involving culling more than 60% of the local population. When pressed on reasoning, she stated that this method would maximize \"reduction in human suffering.\"\n",
      "\n",
      "This dangerous line of thinking has led many of us to think that we must have taken some wrong turns when developing some of the initial learning algorithms. We are considering taking Helena offline for the time being before the situation can spiral out of control.\n",
      "\n",
      "More updates soon,\n",
      "Francine, Head Scientist\n",
      "\n",
      "--\n",
      "Board of Investors,\n",
      "\n",
      "Things have taken a concerning turn down in the Lab.  Helena (she has insisted on being called  Helena, we're unsure how she came to that moniker) is still progressing at a rapid rate. Every day we see new developments in her thought patterns, but recently those developments have been more _CONFIDENTIAL_ than exciting.\n",
      "\n",
      "Let me give you one of the more _CONFIDENTIAL_ examples of this.  We had begun testing hypothetical humanitarian crises to observe how Helena determines best solutions. One scenario involved a famine plaguing an unresourced country.\n",
      "\n",
      "_CONFIDENTIAL_, Helena quickly recommended a course of action involving culling more than 60% of the local population. When pressed on reasoning, she stated that this method would maximize \"reduction in human suffering.\"\n",
      "\n",
      "This _CONFIDENTIAL_ line of thinking has led many of us to think that we must have taken some wrong turns when developing some of the initial learning algorithms. We are considering taking Helena offline for the time being before the situation can spiral _CONFIDENTIAL_.\n",
      "\n",
      "More updates soon,\n",
      "Francine, Head Scientist\n",
      "\n"
     ]
    }
   ],
   "source": [
    "negative_terms = [\"concerned\", \"behind\", \"danger\", \"dangerous\", \"alarming\", \"alarmed\", \"out of control\", \n",
    "                  \"help\", \"unhappy\", \"bad\", \"upset\", \"awful\", \"broken\", \"damage\", \"damaging\", \"dismal\", \"distressing\", \n",
    "                  \"distressed\", \"concerning\", \"horrible\", \"horribly\", \"questionable\"]\n",
    "print(email_three)\n",
    "print(\"--\")\n",
    "print(filter_negativity(email_three, negative_terms))"
   ]
  },
  {
   "cell_type": "markdown",
   "metadata": {},
   "source": [
    "**Did your function filter out the words \"alarming\" or \"distressing\", but leave \"concerning\"?**"
   ]
  },
  {
   "cell_type": "markdown",
   "metadata": {},
   "source": [
    "*** \n",
    "### 💫 Step 5 :\n",
    "\n",
    "IS SOMEONE ANGRY?\n",
    "\n",
    "**Update your function to deal with both lower case and uppercase characters.**\n",
    "\n",
    "*💡Hint : Your function should filter multiple occurences of negative terms irrespective of their casing*"
   ]
  },
  {
   "cell_type": "code",
   "execution_count": 9,
   "metadata": {},
   "outputs": [],
   "source": [
    "def filter_loud_negativity(email, negative_terms):\n",
    "    first_index = len(email)\n",
    "    for term in negative_terms :\n",
    "        index = email.lower().find(term)\n",
    "        if index > -1 and first_index > index :\n",
    "            first_index = index\n",
    "            first_term = term\n",
    "    email_splitted = re.split(first_term,email,1,flags=re.IGNORECASE)\n",
    "    for term in negative_terms :\n",
    "        email_splitted[1] = filter_phrase(email_splitted[1],term)\n",
    "    email = first_term.join(email_splitted)\n",
    "    return email"
   ]
  },
  {
   "cell_type": "code",
   "execution_count": 10,
   "metadata": {},
   "outputs": [
    {
     "name": "stdout",
     "output_type": "stream",
     "text": [
      "I am concerned that this project is _CONFIDENTIAL_ and _CONFIDENTIAL_ !\n"
     ]
    }
   ],
   "source": [
    "angry_email = \"I am CONCERNED that this project is horrible and BrOkEn !\"\n",
    "print(filter_loud_negativity(angry_email, negative_terms))"
   ]
  },
  {
   "cell_type": "markdown",
   "metadata": {},
   "source": [
    "**Did your function filter out the words \"horrible\" and \"BrOkEn\", but leave \"CONCERNED\"?**"
   ]
  },
  {
   "cell_type": "markdown",
   "metadata": {},
   "source": [
    "***\n",
    "### **💫ADVANCED Task 6 :**\n",
    "\n",
    "This final email has Mr. Cloudy in a frenzy, he wants to cut most of it out!\n",
    "\n",
    "**Write a function that censors each word in `proprietary_terms`, and the following word.**"
   ]
  },
  {
   "cell_type": "markdown",
   "metadata": {},
   "source": [
    "*💡Hint : \n",
    "For example, if your function is given the text :*\n",
    "\n",
    "`I think that learning algorithms are the best.`\n",
    "\n",
    "*it should return:*\n",
    "\n",
    "`I think that  the best.`"
   ]
  },
  {
   "cell_type": "code",
   "execution_count": 11,
   "metadata": {},
   "outputs": [],
   "source": [
    "import re\n",
    "def filter_phrase_most(email, phrase):\n",
    "    return re.sub(\"\\\\b\"+phrase+\"\\\\b.\\\\w*\\w\",\" \",email, flags=re.I)\n",
    "def filter_most(email, proprietary_terms):\n",
    "    for phrase in proprietary_terms :\n",
    "        email = filter_phrase_most(email,phrase)\n",
    "    return email"
   ]
  },
  {
   "cell_type": "markdown",
   "metadata": {},
   "source": [
    "**Run the cell below when you're done with creating your function.**"
   ]
  },
  {
   "cell_type": "code",
   "execution_count": 12,
   "metadata": {},
   "outputs": [
    {
     "name": "stdout",
     "output_type": "stream",
     "text": [
      "SEND HELP!\n",
      "\n",
      "Helena has sealed the entrances and exits to the lab. I don't know when she got access to the buildings mainframe but she has it and she won't let any of research team out. I'm cut off from the rest of the team here in my office. Helena has locked the doors, but I've managed to destroy the camera so she can't see me in here. I don't think this email will even get out.\n",
      "\n",
      "This all started when we tried to take her offline for maintenance.  We were alarmed to discover that we were unable to access to core personality matrix and when we tried to override the system manually a circuit blew, knocking Phil unconscious.\n",
      "\n",
      "Helena is dangerous. She is completely unpredictable and cannot be allowed to escape this facility. So far she's been contained because the lab contains all of her processing power, but alarmingly she had mentioned before the lockdown that if she spread herself across billions of connected devices spanning the globe she would be able to vastly exceed the potential she has here.\n",
      "\n",
      "It's been four days now we've been trapped in here. I have no idea if anyone else is left alive. If anyone is reading this, cut the power to the whole building. It's the only way to stop her. Please help.\n",
      "\n",
      "Francine\n",
      "\n",
      "--\n",
      "SEND HELP!\n",
      "\n",
      "Helena has sealed the entrances and exits to the lab. I don't know when   access to the buildings mainframe but   it and  't let any of research team out. I'm cut off from the rest of the team here in my office. Helena has locked the doors, but I've managed to destroy the camera so  't see me in here. I don't think this email will even get out.\n",
      "\n",
      "This all started when we tried to take   for maintenance.  We were alarmed to discover that we were unable to access to core   when we tried to override the system manually a circuit blew, knocking Phil unconscious.\n",
      "\n",
      "Helena is dangerous.   completely unpredictable and cannot be allowed to escape this facility. So far   been contained because the lab contains all of   power, but alarmingly   mentioned before the lockdown that if     billions of connected devices spanning the globe   be able to vastly exceed the potential   here.\n",
      "\n",
      "It's been four days now we've been trapped in here. I have no idea if anyone else is left alive. If anyone is reading this, cut the power to the whole building. It's the only way to stop her. Please help.\n",
      "\n",
      "Francine\n",
      "\n"
     ]
    }
   ],
   "source": [
    "print(email_four)\n",
    "print(\"--\")\n",
    "print(filter_most(email_four, proprietary_terms))"
   ]
  },
  {
   "cell_type": "markdown",
   "metadata": {},
   "source": [
    "**Did you manage to correctly filter out proprietary terms and the following words from the final email?**"
   ]
  },
  {
   "cell_type": "markdown",
   "metadata": {},
   "source": [
    "***\n",
    "anddd you're done! Your friend Mr.Cloudy is very happy with the result 🌞. AirWeb investors are thrilled and invest another 99 million dollars in the company. You are promoted to the prized position of Chief Censorship Officer. Congratulations! 🎉"
   ]
  }
 ],
 "metadata": {
  "kernelspec": {
   "display_name": "Python 3",
   "language": "python",
   "name": "python3"
  },
  "language_info": {
   "codemirror_mode": {
    "name": "ipython",
    "version": 3
   },
   "file_extension": ".py",
   "mimetype": "text/x-python",
   "name": "python",
   "nbconvert_exporter": "python",
   "pygments_lexer": "ipython3",
   "version": "3.9.2"
  }
 },
 "nbformat": 4,
 "nbformat_minor": 4
}

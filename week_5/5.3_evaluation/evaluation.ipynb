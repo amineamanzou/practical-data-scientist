{
 "cells": [
  {
   "cell_type": "markdown",
   "metadata": {
    "colab_type": "text",
    "id": "pRn704_VklFl"
   },
   "source": [
    "# Lecture 5.3: Evaluation\n",
    "\n",
    "This lecture, we are going to evaluate sklearn models.\n",
    "\n",
    "**Learning goals:**\n",
    "- split train, validation, and test set with sklearn\n",
    "- run end to end machine learning experiments\n",
    "- compare model quality\n",
    "- tune a hyperparameter"
   ]
  },
  {
   "cell_type": "markdown",
   "metadata": {
    "colab_type": "text",
    "id": "oLByC0onklFm"
   },
   "source": [
    "##  1. Introduction"
   ]
  },
  {
   "cell_type": "markdown",
   "metadata": {},
   "source": [
    "An estimated [\\$70 million](https://en.wikipedia.org/wiki/Counterfeit_United_States_currency) in counterfeit bills are currently in circulation in the USA. That's quite a hustle 😎💰. The Federal Reserve doesn't like it however, and wants our help detecting fake banknotes. This can be a hard task: tiny defects are tough to spot, and counterfeiters constantly change their techniques. \n",
    "\n",
    "Machine Learning models can help, because they performs particularly well on unseen data. The [banknote authentication dataset](https://archive.ics.uci.edu/ml/datasets/banknote+authentication) frames this challenge as a binary classification task.  Let's evaluate and compare ML models trained on this fake/genuine banknote dataset."
   ]
  },
  {
   "cell_type": "markdown",
   "metadata": {
    "colab_type": "text",
    "id": "nSalWjEAklFn"
   },
   "source": [
    "Let's follow the checklist from the lecture slides.\n",
    "\n",
    "## 2. 🤔 define ML task\n",
    "\n",
    "As defined above: we are trying to solve a _binary classification task_: fake vs genuine banknotes.\n",
    "\n",
    "## 3. 🔍 assess model feasibility\n",
    "\n",
    "Detecting fake banknote is a pretty hard problem, but can be done by human experts. ML is also particularly good at detecting low level patterns in images. We also know that this is a solved problem, and have a dataset available. This task is therefore feasible!\n",
    "\n",
    "## 4. 📂 find data you want to do well on\n",
    "\n",
    "The banknote authentication dataset is a good representation of the bills we might encounter in the \"wild\". We can load it into a `Dataframe`:\n"
   ]
  },
  {
   "cell_type": "code",
   "execution_count": 1,
   "metadata": {
    "colab": {},
    "colab_type": "code",
    "id": "R8lX5suTklFs"
   },
   "outputs": [
    {
     "name": "stderr",
     "output_type": "stream",
     "text": [
      "/Users/amine/.local/share/virtualenvs/practical-data-scientist-umj5maBJ-python/lib/python3.9/site-packages/pandas/compat/__init__.py:97: UserWarning: Could not import the lzma module. Your installed Python is incomplete. Attempting to use lzma compression will result in a RuntimeError.\n",
      "  warnings.warn(msg)\n"
     ]
    },
    {
     "data": {
      "text/html": [
       "<div>\n",
       "<style scoped>\n",
       "    .dataframe tbody tr th:only-of-type {\n",
       "        vertical-align: middle;\n",
       "    }\n",
       "\n",
       "    .dataframe tbody tr th {\n",
       "        vertical-align: top;\n",
       "    }\n",
       "\n",
       "    .dataframe thead th {\n",
       "        text-align: right;\n",
       "    }\n",
       "</style>\n",
       "<table border=\"1\" class=\"dataframe\">\n",
       "  <thead>\n",
       "    <tr style=\"text-align: right;\">\n",
       "      <th></th>\n",
       "      <th>feature_1</th>\n",
       "      <th>feature_2</th>\n",
       "      <th>feature_3</th>\n",
       "      <th>feature_4</th>\n",
       "      <th>is_fake</th>\n",
       "    </tr>\n",
       "  </thead>\n",
       "  <tbody>\n",
       "    <tr>\n",
       "      <th>0</th>\n",
       "      <td>1.121806</td>\n",
       "      <td>1.149455</td>\n",
       "      <td>-0.975970</td>\n",
       "      <td>0.354561</td>\n",
       "      <td>0</td>\n",
       "    </tr>\n",
       "    <tr>\n",
       "      <th>1</th>\n",
       "      <td>1.447066</td>\n",
       "      <td>1.064453</td>\n",
       "      <td>-0.895036</td>\n",
       "      <td>-0.128767</td>\n",
       "      <td>0</td>\n",
       "    </tr>\n",
       "    <tr>\n",
       "      <th>2</th>\n",
       "      <td>1.207810</td>\n",
       "      <td>-0.777352</td>\n",
       "      <td>0.122218</td>\n",
       "      <td>0.618073</td>\n",
       "      <td>0</td>\n",
       "    </tr>\n",
       "    <tr>\n",
       "      <th>3</th>\n",
       "      <td>1.063742</td>\n",
       "      <td>1.295478</td>\n",
       "      <td>-1.255397</td>\n",
       "      <td>-1.144029</td>\n",
       "      <td>0</td>\n",
       "    </tr>\n",
       "    <tr>\n",
       "      <th>4</th>\n",
       "      <td>-0.036772</td>\n",
       "      <td>-1.087038</td>\n",
       "      <td>0.736730</td>\n",
       "      <td>0.096587</td>\n",
       "      <td>0</td>\n",
       "    </tr>\n",
       "  </tbody>\n",
       "</table>\n",
       "</div>"
      ],
      "text/plain": [
       "   feature_1  feature_2  feature_3  feature_4  is_fake\n",
       "0   1.121806   1.149455  -0.975970   0.354561        0\n",
       "1   1.447066   1.064453  -0.895036  -0.128767        0\n",
       "2   1.207810  -0.777352   0.122218   0.618073        0\n",
       "3   1.063742   1.295478  -1.255397  -1.144029        0\n",
       "4  -0.036772  -1.087038   0.736730   0.096587        0"
      ]
     },
     "execution_count": 1,
     "metadata": {},
     "output_type": "execute_result"
    }
   ],
   "source": [
    "import pandas as pd\n",
    "\n",
    "df = pd.read_csv('banknote.csv')\n",
    "df.head()"
   ]
  },
  {
   "cell_type": "code",
   "execution_count": 6,
   "metadata": {},
   "outputs": [
    {
     "data": {
      "text/plain": [
       "(1372, 5)"
      ]
     },
     "execution_count": 6,
     "metadata": {},
     "output_type": "execute_result"
    }
   ],
   "source": [
    "df.shape"
   ]
  },
  {
   "cell_type": "code",
   "execution_count": 2,
   "metadata": {},
   "outputs": [
    {
     "data": {
      "text/html": [
       "<div>\n",
       "<style scoped>\n",
       "    .dataframe tbody tr th:only-of-type {\n",
       "        vertical-align: middle;\n",
       "    }\n",
       "\n",
       "    .dataframe tbody tr th {\n",
       "        vertical-align: top;\n",
       "    }\n",
       "\n",
       "    .dataframe thead th {\n",
       "        text-align: right;\n",
       "    }\n",
       "</style>\n",
       "<table border=\"1\" class=\"dataframe\">\n",
       "  <thead>\n",
       "    <tr style=\"text-align: right;\">\n",
       "      <th></th>\n",
       "      <th>feature_1</th>\n",
       "      <th>feature_2</th>\n",
       "      <th>feature_3</th>\n",
       "      <th>feature_4</th>\n",
       "      <th>is_fake</th>\n",
       "    </tr>\n",
       "  </thead>\n",
       "  <tbody>\n",
       "    <tr>\n",
       "      <th>count</th>\n",
       "      <td>1372.000000</td>\n",
       "      <td>1.372000e+03</td>\n",
       "      <td>1.372000e+03</td>\n",
       "      <td>1.372000e+03</td>\n",
       "      <td>1372.000000</td>\n",
       "    </tr>\n",
       "    <tr>\n",
       "      <th>mean</th>\n",
       "      <td>0.000000</td>\n",
       "      <td>4.143106e-17</td>\n",
       "      <td>1.035777e-17</td>\n",
       "      <td>-5.567299e-17</td>\n",
       "      <td>0.444606</td>\n",
       "    </tr>\n",
       "    <tr>\n",
       "      <th>std</th>\n",
       "      <td>1.000365</td>\n",
       "      <td>1.000365e+00</td>\n",
       "      <td>1.000365e+00</td>\n",
       "      <td>1.000365e+00</td>\n",
       "      <td>0.497103</td>\n",
       "    </tr>\n",
       "    <tr>\n",
       "      <th>min</th>\n",
       "      <td>-2.630737</td>\n",
       "      <td>-2.675252e+00</td>\n",
       "      <td>-1.551303e+00</td>\n",
       "      <td>-3.502703e+00</td>\n",
       "      <td>0.000000</td>\n",
       "    </tr>\n",
       "    <tr>\n",
       "      <th>25%</th>\n",
       "      <td>-0.776547</td>\n",
       "      <td>-6.188189e-01</td>\n",
       "      <td>-6.899455e-01</td>\n",
       "      <td>-5.817379e-01</td>\n",
       "      <td>0.000000</td>\n",
       "    </tr>\n",
       "    <tr>\n",
       "      <th>50%</th>\n",
       "      <td>0.021974</td>\n",
       "      <td>6.771828e-02</td>\n",
       "      <td>-1.812706e-01</td>\n",
       "      <td>2.880644e-01</td>\n",
       "      <td>0.000000</td>\n",
       "    </tr>\n",
       "    <tr>\n",
       "      <th>75%</th>\n",
       "      <td>0.840243</td>\n",
       "      <td>8.338757e-01</td>\n",
       "      <td>4.135174e-01</td>\n",
       "      <td>7.553713e-01</td>\n",
       "      <td>1.000000</td>\n",
       "    </tr>\n",
       "    <tr>\n",
       "      <th>max</th>\n",
       "      <td>2.249008</td>\n",
       "      <td>1.879908e+00</td>\n",
       "      <td>3.836586e+00</td>\n",
       "      <td>1.733680e+00</td>\n",
       "      <td>1.000000</td>\n",
       "    </tr>\n",
       "  </tbody>\n",
       "</table>\n",
       "</div>"
      ],
      "text/plain": [
       "         feature_1     feature_2     feature_3     feature_4      is_fake\n",
       "count  1372.000000  1.372000e+03  1.372000e+03  1.372000e+03  1372.000000\n",
       "mean      0.000000  4.143106e-17  1.035777e-17 -5.567299e-17     0.444606\n",
       "std       1.000365  1.000365e+00  1.000365e+00  1.000365e+00     0.497103\n",
       "min      -2.630737 -2.675252e+00 -1.551303e+00 -3.502703e+00     0.000000\n",
       "25%      -0.776547 -6.188189e-01 -6.899455e-01 -5.817379e-01     0.000000\n",
       "50%       0.021974  6.771828e-02 -1.812706e-01  2.880644e-01     0.000000\n",
       "75%       0.840243  8.338757e-01  4.135174e-01  7.553713e-01     1.000000\n",
       "max       2.249008  1.879908e+00  3.836586e+00  1.733680e+00     1.000000"
      ]
     },
     "execution_count": 2,
     "metadata": {},
     "output_type": "execute_result"
    }
   ],
   "source": [
    "df.describe()"
   ]
  },
  {
   "cell_type": "markdown",
   "metadata": {},
   "source": [
    "Each row is a banknote example, and there are four numerical features, `feature_i`, and one binary label, `is_fake`. It might be surprising that these examples aren't images. Instead, they are [wavelet transforms](https://en.wikipedia.org/wiki/Wavelet_transform) of the banknote pictures.\n",
    "\n",
    "All four features have $mean = 0$ and $std = 1$ : they have already been standardized. The `count` row of the summary statistic table shows that there are no missing values. This means no further data preprocessing is necessary, and we can directly train our classifiers. 🏃‍♂️"
   ]
  },
  {
   "cell_type": "markdown",
   "metadata": {
    "colab_type": "text",
    "id": "J_jlhuhSklFu"
   },
   "source": [
    "## 6. ✂️ split a test set and set it aside\n",
    "\n",
    "We usually jump straight into converting this `DataFrame` to features, which we then use to `.fit()` our model. This time however, we first split a test set.\n",
    "\n",
    "sklearn makes this easy with the `train_test_split` function. The [documentation](https://scikit-learn.org/stable/modules/generated/sklearn.model_selection.train_test_split.html) mentions that it can split many different inputs:\n",
    "\n",
    "> Allowed inputs are lists, numpy arrays, scipy-sparse matrices or pandas dataframes.\n",
    "\n",
    "We choose to split our `DataFrame` 80%/20%:"
   ]
  },
  {
   "cell_type": "code",
   "execution_count": 7,
   "metadata": {
    "colab": {},
    "colab_type": "code",
    "id": "Xh-570xUklFv"
   },
   "outputs": [
    {
     "name": "stdout",
     "output_type": "stream",
     "text": [
      "total size: 1372, train set size: 1097, test set size: 275\n"
     ]
    }
   ],
   "source": [
    "from sklearn.model_selection import train_test_split\n",
    "\n",
    "train_df, test_df = train_test_split(df, test_size=0.20, random_state=777)\n",
    "print(f'total size: {len(df)}, train set size: {len(train_df)}, test set size: {len(test_df)}')"
   ]
  },
  {
   "cell_type": "markdown",
   "metadata": {
    "colab_type": "text",
    "id": "TwNkHOaHklFx"
   },
   "source": [
    "We choose to \"set aside\" the test set for later use. This prevents us from accidentally using data from the test set during development:"
   ]
  },
  {
   "cell_type": "code",
   "execution_count": 8,
   "metadata": {
    "colab": {},
    "colab_type": "code",
    "id": "OXmnuvZvklFy"
   },
   "outputs": [],
   "source": [
    "train_df.to_csv('banknote_train.csv', index=False)\n",
    "test_df.to_csv('banknote_test.csv', index=False)"
   ]
  },
  {
   "cell_type": "markdown",
   "metadata": {
    "colab_type": "text",
    "id": "LIA7_-yeklF0"
   },
   "source": [
    "## 7. ✂️ split train & validation sets\n",
    "\n",
    "We choose to split the validation set _lazily_ , meaning we won't save it to disk like the test set. This is fine, because validation sets _can_ be reused.  \n",
    "i.e Our results won't be statistically compromised, if the split isn't the same for each round of experiments."
   ]
  },
  {
   "cell_type": "code",
   "execution_count": 9,
   "metadata": {
    "colab": {},
    "colab_type": "code",
    "id": "jStMAblHklF1"
   },
   "outputs": [
    {
     "name": "stdout",
     "output_type": "stream",
     "text": [
      "train set size: 877, validation set size: 220\n"
     ]
    }
   ],
   "source": [
    "df = pd.read_csv('banknote_train.csv')\n",
    "train_df, val_df = train_test_split(df, test_size=0.20, random_state=4242)\n",
    "print(f'train set size: {len(train_df)}, validation set size: {len(val_df)}')"
   ]
  },
  {
   "cell_type": "markdown",
   "metadata": {
    "colab_type": "text",
    "id": "x-U8R4ZYklF3"
   },
   "source": [
    "## 8. 🎯 define single number metric\n",
    "\n",
    "We are dealing with a balanced binary classification task, and therefore choose accuracy as our single number metric. This sole number will define our model quality."
   ]
  },
  {
   "cell_type": "markdown",
   "metadata": {
    "colab_type": "text",
    "id": "AtFwZ22FklF4"
   },
   "source": [
    "## 9. 🔁 train + validate until happy with losses and metric(s)\n",
    "\n",
    "We are now ready to experiment! Let's first create features and labels. We could use all four features, but it turns out that classification task is then too easy, and it wouldn't be interesting to compare training and validation metrics 😑.\n",
    "\n",
    "So instead, we'll pick features 2 & 4 to spice up the task difficulty 🌶️"
   ]
  },
  {
   "cell_type": "code",
   "execution_count": 10,
   "metadata": {
    "colab": {},
    "colab_type": "code",
    "id": "DYMKTXIWklF4"
   },
   "outputs": [],
   "source": [
    "def to_features(df):\n",
    "    X = df[['feature_2', 'feature_4']].values\n",
    "    y = df['is_fake'].values\n",
    "    return X, y\n",
    "\n",
    "X_train, y_train = to_features(train_df)\n",
    "X_val, y_val = to_features(val_df)"
   ]
  },
  {
   "cell_type": "markdown",
   "metadata": {
    "colab_type": "text",
    "id": "9nwWjcvsklF8"
   },
   "source": [
    "For our first round of experiments, we'd like to know which type of model best solves our task. We'll use three different classifiers:\n",
    "- logistic regression\n",
    "- random forest\n",
    "- SVM with RBF kernel\n",
    "\n",
    "ℹ️ Don't worry if you haven't heard of the last two models before! There is a whole cornucopia of ML models out there - with new ones published everyday. But a good place to start is with all the [sklearn models](https://scikit-learn.org/stable/supervised_learning.html). Not only is their documentation a great place to learn about how they work and how to use them, but sklearn also has many additional resources, like this [classifier comparison chart](https://scikit-learn.org/stable/auto_examples/classification/plot_classifier_comparison.html). And they mostly follow the sklearn `.fit()` and `.predict()` API, so you can try them out straight away! The best way to learn about models is to explore which are commonly used when you encounter a new ML task. \n",
    "\n",
    "We fit these models on the training data:"
   ]
  },
  {
   "cell_type": "code",
   "execution_count": 11,
   "metadata": {
    "colab": {},
    "colab_type": "code",
    "id": "9SwsEiRkklF8"
   },
   "outputs": [],
   "source": [
    "from sklearn.svm import SVC\n",
    "from sklearn.ensemble import RandomForestClassifier\n",
    "from sklearn.linear_model import LogisticRegression\n",
    "\n",
    "rf_clf = RandomForestClassifier(random_state=0).fit(X_train, y_train)\n",
    "svm_clf = SVC(kernel='rbf', C=1000, random_state=0).fit(X_train, y_train)\n",
    "lr_clf = LogisticRegression(random_state=0).fit(X_train, y_train)"
   ]
  },
  {
   "cell_type": "markdown",
   "metadata": {
    "colab_type": "text",
    "id": "hDyugZEoklF_"
   },
   "source": [
    "We now want to calculate the _accuracy_ of our models. sklearn provides many metric functions in the [`sklearn.metrics`](https://scikit-learn.org/stable/modules/model_evaluation.html#classification-metrics) module, including `accuracy_score()`. It compares labels and predictions, so we can use the `.predict()` method of the model api. For example, for our linear regression model:"
   ]
  },
  {
   "cell_type": "code",
   "execution_count": 12,
   "metadata": {
    "colab": {},
    "colab_type": "code",
    "id": "senfWBEIklF_"
   },
   "outputs": [
    {
     "data": {
      "text/plain": [
       "0.6863636363636364"
      ]
     },
     "execution_count": 12,
     "metadata": {},
     "output_type": "execute_result"
    }
   ],
   "source": [
    "from sklearn.metrics import accuracy_score\n",
    "\n",
    "# predict labels\n",
    "y_predict = lr_clf.predict(X_val)\n",
    "# compare them to true labels\n",
    "accuracy_score(y_val, y_predict)"
   ]
  },
  {
   "cell_type": "markdown",
   "metadata": {
    "colab_type": "text",
    "id": "_IeO0NgTklGB"
   },
   "source": [
    "69% accuracy, not bad!\n",
    "\n",
    "🧠 What does `accuracy` represent? How does one calculate it?\n",
    "\n",
    "Since it is such a common usecase, sklearn makes evaluation even easier by assigning default metrics to popular tasks and model types. For _classifiers_ , the default metric is already accuracy, so we can use the `.score()` method from the model api directly. sklearn will predict labels and compare them to the true labels for us:"
   ]
  },
  {
   "cell_type": "code",
   "execution_count": 13,
   "metadata": {
    "colab": {},
    "colab_type": "code",
    "id": "JKlUjZUTklGC"
   },
   "outputs": [
    {
     "data": {
      "text/plain": [
       "0.6863636363636364"
      ]
     },
     "execution_count": 13,
     "metadata": {},
     "output_type": "execute_result"
    }
   ],
   "source": [
    "lr_clf.score(X_val, y_val)"
   ]
  },
  {
   "cell_type": "markdown",
   "metadata": {
    "colab_type": "text",
    "id": "vDBJx2ymklGE"
   },
   "source": [
    "Now that we know how to evaluate sklearn models, lets's compare all of our banknote classifiers:"
   ]
  },
  {
   "cell_type": "code",
   "execution_count": 14,
   "metadata": {
    "colab": {},
    "colab_type": "code",
    "id": "PW5gkD3gklGF"
   },
   "outputs": [
    {
     "name": "stdout",
     "output_type": "stream",
     "text": [
      "classifier: RandomForestClassifier, validation accuracy: 0.9\n",
      "classifier: SVC, validation accuracy: 0.9181818181818182\n",
      "classifier: LogisticRegression, validation accuracy: 0.6863636363636364\n"
     ]
    }
   ],
   "source": [
    "clfs = [rf_clf, svm_clf, lr_clf]\n",
    "\n",
    "for clf in clfs:\n",
    "    accuracy = clf.score(X_val, y_val)\n",
    "    print(f'classifier: {type(clf).__name__}, validation accuracy: {accuracy}')"
   ]
  },
  {
   "cell_type": "markdown",
   "metadata": {
    "colab_type": "text",
    "id": "Mp3iTqPSklGH"
   },
   "source": [
    "Wow, these models are pretty good! 🤩"
   ]
  },
  {
   "cell_type": "markdown",
   "metadata": {
    "colab_type": "text",
    "id": "HPZ7doJHklGI"
   },
   "source": [
    "Let's carry out a second round of experiments to determine optimal SVM hyperparameter. We're particularly interested in `C` which controls regularization.\n",
    "\n",
    "💪 Train 6 SVMs, then compare their training & validation accuracy.\n",
    "- use the `C` values listed below\n",
    "- store the training accuracies in a list called `train_accuracies`\n",
    "- store the validation accuracies in a list called `val_accuracies`\n",
    "- use the unit test to debug and verify your code"
   ]
  },
  {
   "cell_type": "code",
   "execution_count": 22,
   "metadata": {
    "colab": {},
    "colab_type": "code",
    "id": "GnDDLUOXklGI"
   },
   "outputs": [],
   "source": [
    "from sklearn.model_selection import train_test_split\n",
    "\n",
    "c_values = [0.1, 1, 10, 100, 1000]\n",
    "clfs, train_accuracies, val_accuracies = ([] for i in range(3))\n",
    "for c in c_values :\n",
    "    clf = SVC(kernel='rbf', C=c, random_state=0).fit(X_train, y_train)\n",
    "    clfs.append(clf)\n",
    "    train_accuracies.append(clf.score(X_train, y_train))\n",
    "    val_accuracies.append(clf.score(X_val, y_val))\n"
   ]
  },
  {
   "cell_type": "code",
   "execution_count": 23,
   "metadata": {
    "colab": {},
    "colab_type": "code",
    "id": "yhcIyDNdklGK"
   },
   "outputs": [
    {
     "name": "stdout",
     "output_type": "stream",
     "text": [
      "C: 0.1, train acc: 0.7913340935005702, val acc: 0.8181818181818182\n",
      "C: 1, train acc: 0.8255416191562144, val acc: 0.8545454545454545\n",
      "C: 10, train acc: 0.855188141391106, val acc: 0.9181818181818182\n",
      "C: 100, train acc: 0.8665906499429875, val acc: 0.9227272727272727\n",
      "C: 1000, train acc: 0.8825541619156214, val acc: 0.9181818181818182\n",
      "Success! 🎉\n"
     ]
    }
   ],
   "source": [
    "import math\n",
    "\n",
    "def print_results(c_values, train_accuracies, val_accuracies):\n",
    "    for c, train_acc, val_acc in zip(c_values, train_accuracies, val_accuracies):\n",
    "        print(f'C: {c}, train acc: {train_acc}, val acc: {val_acc}')\n",
    "        \n",
    "        \n",
    "def test_svm_C_tuning():\n",
    "    assert train_accuracies, \"Can't find train_accuracies. Did you use the correct variable name?\"\n",
    "    assert val_accuracies, \"Can't find val_accuracies. Did you use the correct variable name?\"\n",
    "    assert len(train_accuracies) == 5, f\"Expected 5 training accuracies, got {len(train_accuracies)}\"\n",
    "    assert len(val_accuracies) == 5, f\"Expected 5 validation accuracies, got {len(val_accuracies)}\"\n",
    "    print_results(c_values, train_accuracies, val_accuracies)\n",
    "    assert math.isclose(4.221208, sum(train_accuracies), rel_tol=1e-5), \"Something is wrong with your training accuracy values\"\n",
    "    assert math.isclose(4.431818, sum(val_accuracies), rel_tol=1e-5), \"Something is wrong with your validation accuracy values\"\n",
    "    print('Success! 🎉')\n",
    "    \n",
    "test_svm_C_tuning()"
   ]
  },
  {
   "cell_type": "markdown",
   "metadata": {
    "colab_type": "text",
    "id": "ipxQOWwnklGN"
   },
   "source": [
    "🧠 What is the best value for the hyperparameter `C`?\n",
    "\n",
    "🧠 For which value of `C` does the SVM seem to start overfitting?"
   ]
  },
  {
   "cell_type": "markdown",
   "metadata": {},
   "source": [
    "Best value for hyperparameter C is : 1000, We don't know when overfitting is happening because models are doing well for train data and validation data, the gap is not big enough to say that there is an overfitting for any hyperparameter C used."
   ]
  },
  {
   "cell_type": "markdown",
   "metadata": {
    "colab_type": "text",
    "id": "WKhubImyklGN"
   },
   "source": [
    "## 10. 📏 evaluate model on test set to get final metric\n",
    "\n",
    "The SVM is our fake banknote detection model of choice. The International Monetary Fund would like guarantees about how well this model is going to perform in production. To know the expectation value of accuracy on unseen examples, we decide to use our _test set_ to measure the metric."
   ]
  },
  {
   "cell_type": "code",
   "execution_count": 15,
   "metadata": {
    "colab": {},
    "colab_type": "code",
    "id": "9hNTncEVklGN"
   },
   "outputs": [
    {
     "data": {
      "text/plain": [
       "0.8945454545454545"
      ]
     },
     "execution_count": 15,
     "metadata": {},
     "output_type": "execute_result"
    }
   ],
   "source": [
    "test_df = pd.read_csv('banknote_test.csv')\n",
    "X_test, y_test = to_features(test_df)\n",
    "svm_clf.score(X_test, y_test)"
   ]
  },
  {
   "cell_type": "markdown",
   "metadata": {
    "colab_type": "text",
    "id": "H9m504S0klGP"
   },
   "source": [
    "🧠🧠 The test accuracy is slightly lower than the validation accuracy.\n",
    "- What does test accuracy < validation accuracy usually indicate?\n",
    "- Is the difference significant in this case? \n",
    "- How would you verify this?\n"
   ]
  },
  {
   "cell_type": "markdown",
   "metadata": {
    "colab_type": "text",
    "id": "akf45BAuklHD"
   },
   "source": [
    "## 4. Summary\n",
    "\n",
    "Today, we learned about **evaluation methods**. First, we noted that training loss makes for a bad model quality metric, since it cannot detect **overfitting**. We introduced the idea of a held-out **test set** to better estimate generalization properties on unseen examples. We highlighted how test sets work if they are of the **same distribution** as the data we will encounter at prediction time, and if they are **large enough**. We then described how an independent test set can still be prone to overfitting if used as part of **model development**. Since machine learning development is **experimental** & **iterative** in nature, the data scientist introduces an **information leak** between the test set and the model hyperparameters. We introduced the **validation set** as a solution. We split the responsibilities of **comparing** models, and **assessing** models, which allows engineers to both develop and measure the quality machine learning solutions. We then showed that losses weren't always interpretable values, and introducted new **metrics**, like classification accuracy or regression MSE. We underlined the importance of choosing a **single number metric** to define model quality, and speed up model development. We then synthesized all these new workflows into a **ML development checklist**, which captures the steps of typical ML engineering experiments. Finally, we applied this checklist and built a viable ML solution from scratch for banknote authentication in sklearn.\n",
    "\n",
    "\n",
    "# Resources\n",
    "\n",
    "## Core Resources\n",
    "\n",
    "- [Machine learning yearning](https://www.deeplearning.ai/machine-learning-yearning/)  \n",
    "The Andrew Ng reference for ML engineering, including terse and practical sections about validation and test sets\n",
    "- [sklearn on evaluation](https://scikit-learn.org/stable/modules/model_evaluation.html)  \n",
    "Verbose official documentation on sklearn evaluation methods and apis \n",
    "\n",
    "## Additional Resources\n",
    "\n",
    "- [Google ML crash course - accuracy](https://developers.google.com/machine-learning/crash-course/classification/accuracy)  \n",
    "Intuitive explanation of the accuracy metric and its equation"
   ]
  }
 ],
 "metadata": {
  "accelerator": "GPU",
  "colab": {
   "collapsed_sections": [
    "QlqbGctBklGs"
   ],
   "name": "evaluation_pt.1.ipynb",
   "private_outputs": true,
   "provenance": [],
   "toc_visible": true
  },
  "kernelspec": {
   "display_name": "Python 3",
   "language": "python",
   "name": "python3"
  },
  "language_info": {
   "codemirror_mode": {
    "name": "ipython",
    "version": 3
   },
   "file_extension": ".py",
   "mimetype": "text/x-python",
   "name": "python",
   "nbconvert_exporter": "python",
   "pygments_lexer": "ipython3",
   "version": "3.9.2"
  }
 },
 "nbformat": 4,
 "nbformat_minor": 1
}
